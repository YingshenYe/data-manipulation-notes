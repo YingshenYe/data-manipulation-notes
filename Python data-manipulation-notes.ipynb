{
 "cells": [
  {
   "cell_type": "markdown",
   "id": "9a23a0fe-d53f-4e17-8487-8eb3be1d70d9",
   "metadata": {},
   "source": [
    "# Lab 1\n",
    "## String and list methods"
   ]
  },
  {
   "cell_type": "markdown",
   "id": "99298fc9-0c45-4bfc-a867-1a5cbdaeadd3",
   "metadata": {},
   "source": [
    "### input"
   ]
  },
  {
   "cell_type": "code",
   "execution_count": 2,
   "id": "6f90577b-6848-435f-8009-5d4c0f0fd98e",
   "metadata": {},
   "outputs": [
    {
     "name": "stdin",
     "output_type": "stream",
     "text": [
      "Enter an integer number here ---> 4\n"
     ]
    },
    {
     "name": "stdout",
     "output_type": "stream",
     "text": [
      "even number.\n"
     ]
    }
   ],
   "source": [
    "#example\n",
    "\n",
    "x = int(input(\"Enter an integer number here --->\"))\n",
    "even_check = (x % 2 == 0)\n",
    "\n",
    "if even_check == True:\n",
    "    print(\"even number.\")\n",
    "else:\n",
    "    print(\"odd number.\")"
   ]
  },
  {
   "cell_type": "markdown",
   "id": "1cbb0654-4052-4aba-bb54-99dc86905b3a",
   "metadata": {},
   "source": [
    "### String Method"
   ]
  },
  {
   "cell_type": "markdown",
   "id": "4a410786-fe9c-4000-8983-4ed186fcd31b",
   "metadata": {},
   "source": [
    "#### Correct the following variable so it is equal to \"spammy\""
   ]
  },
  {
   "cell_type": "code",
   "execution_count": 1,
   "id": "2b921efd-ce14-4fa0-989a-52b7d439774f",
   "metadata": {
    "scrolled": true
   },
   "outputs": [
    {
     "name": "stdout",
     "output_type": "stream",
     "text": [
      "spammy\n",
      "-------String Methods--------\n",
      "['sp', 'xxy']\n",
      "SPAXXY spaxxy\n",
      "\n",
      "spa\n",
      "xxy\n",
      "\n",
      "spa\n",
      "xxy\n",
      "3\n",
      "2\n",
      "----------------\n",
      "spammy\n",
      "spammy\n"
     ]
    }
   ],
   "source": [
    "#My code\n",
    "# Method 1, 'replace'\n",
    "s = 'spaxxy'\n",
    "s2 = s.replace('x','m',2)\n",
    "print(s2)\n",
    "print('-------String Methods--------')\n",
    "# It leads to another points...---String Methods\n",
    "# replace, as shown behind\n",
    "\n",
    "# split: a.split('here should be the one shown in 'a''), it would return a ** list **\n",
    "s_split = s.split('a')\n",
    "print(s_split)\n",
    "\n",
    "#upper and lower:\n",
    "s_upper = s.upper()\n",
    "s_lower = s.lower()\n",
    "print(s_upper,s_lower)\n",
    "\n",
    "#strip, delete space and new line:\n",
    "new_s = '\\n' + s[:3] + '\\n' + s[3:] + '\\n' \n",
    "print(new_s)\n",
    "s_strip = new_s.strip() # the middle one would not be deleted\n",
    "print(s_strip)\n",
    "\n",
    "#find:\n",
    "s_find_x = s.find('x')\n",
    "print(s_find_x)\n",
    "\n",
    "#count:\n",
    "s_count = s.count('x')\n",
    "print(s_count)\n",
    "\n",
    "print('----------------')\n",
    "# Method 2, use list\n",
    "list_s = list(s)\n",
    "list_s[3] = 'm'\n",
    "list_s[4] = 'm'\n",
    "s3 = ''.join(list_s)\n",
    "print(s3)\n",
    "# Method 3, use loop to look up\n",
    "list_s = list(s) # turn to list, make it changable\n",
    "for i in range(len(list_s)):\n",
    "    if list_s[i] == 'x':\n",
    "        list_s[i] = 'm'\n",
    "print(''.join(list_s)) # turn it back to string, or the result would be list like this:['s','p','a','m','m','y']"
   ]
  },
  {
   "cell_type": "code",
   "execution_count": null,
   "id": "22409fe4-6086-441c-9705-9a6e25837c71",
   "metadata": {},
   "outputs": [],
   "source": [
    "#Use string methods to:\n",
    "#\t•\tRemove leading and trailing spaces\n",
    "#\t•\tConvert the string to lowercase\n",
    "#\t•\tCount how many times the letter \"o\" appears\n",
    "#\t•\tReplace \"Python\" with \"Java\"\n",
    "#\t•\tSplit the string into a list of words\n",
    "\n",
    "s = \"  Hello World! Python is fun.  \"\n",
    "s_strip = s.strip()\n",
    "s_lower = s.lower()\n",
    "s_count_o = s.count('o')\n",
    "s_replace = s.replace('Python','Java')\n",
    "\n",
    "#\tMethod 1 : Split the string into a list of words\n",
    "import string\n",
    "s1 = s.strip().translate(str.maketrans('','',string.punctuation))\n",
    "s_split = s1.split() \n",
    "print(f'{s_split} using trans method.')\n",
    "#\tMethod 2: re.sub\tSplit the string into a list of words\n",
    "import re\n",
    "s_clean = re.sub(r'[^\\w\\s]','',s.strip())\n",
    "s_split = s_clean.split()\n",
    "\n",
    "print(f'{s_split} using re method.')\n",
    "\n",
    "print(s_strip)\n",
    "print(s_lower)\n",
    "print(s_count_o)\n",
    "print(s_replace)"
   ]
  },
  {
   "cell_type": "markdown",
   "id": "a6681347-4265-483c-97f2-6bfe078f521d",
   "metadata": {},
   "source": [
    "#### Figure out a way to slice and combine the strings s1, s2, and s3 so that the variable consec_ints = \"123456789\"."
   ]
  },
  {
   "cell_type": "code",
   "execution_count": 3,
   "id": "187dcfc7-a17c-4758-bab4-b7d94bb83512",
   "metadata": {},
   "outputs": [
    {
     "name": "stdout",
     "output_type": "stream",
     "text": [
      "123456789\n",
      "123456789\n",
      "123456789\n"
     ]
    }
   ],
   "source": [
    "#Method 1: string slicing\n",
    "s1 = \"12345\"\n",
    "s2 = \"34567\"\n",
    "s3 = \"789\"\n",
    "\n",
    "consec_ints = s1 + s2[3:-1] + s3\n",
    "print(consec_ints)\n",
    "#method 2: use loop to check 'not in'\n",
    "ints = s1 + s2 + s3\n",
    "result = ''\n",
    "for i in ints:\n",
    "    if i not in result:\n",
    "        result += i\n",
    "print(result)\n",
    "#Method 3， use set :unodered, no duplicates, unindexed\n",
    "ints = s1 + s2 + s3 \n",
    "unique_ints = sorted(set(ints))\n",
    "consec_ints = ''.join(unique_ints)\n",
    "print(consec_ints)"
   ]
  },
  {
   "cell_type": "markdown",
   "id": "81b50785-7683-4169-af29-799a643aabbe",
   "metadata": {},
   "source": [
    "### List Method"
   ]
  },
  {
   "cell_type": "markdown",
   "id": "53ac9a9b-ebf7-4f17-ba5f-f4ff3a68c5bc",
   "metadata": {},
   "source": [
    "#### Slice and combine the elements of the list L in a way to print out \"spam\"."
   ]
  },
  {
   "cell_type": "code",
   "execution_count": 4,
   "id": "12cabd21-e3b3-426c-a650-88781cc979cc",
   "metadata": {},
   "outputs": [
    {
     "name": "stdout",
     "output_type": "stream",
     "text": [
      "spam\n",
      "spam\n",
      "spam\n"
     ]
    }
   ],
   "source": [
    "#Method 1; Slice\n",
    "L = [1,\"s\", 2, 3, \"p\", \"a\", 34,1,\"m\", True]\n",
    "print(L[1]+L[4]+L[5]+L[8])\n",
    "#Method 2, turn it to list and use join\n",
    "spam = [L[1], L[4], L[5], L[8]]\n",
    "spam1 = ''.join(spam)\n",
    "print(spam1)\n",
    "# Method 3: isinstance:\n",
    "spam_list = [i for i in L if isinstance(i,str)] #need to be indexed so it should be a list\n",
    "spam = ''.join(spam_list)\n",
    "print(spam)"
   ]
  },
  {
   "cell_type": "markdown",
   "id": "2b35e047-7909-43cb-a2ff-e46e7d8e3902",
   "metadata": {},
   "source": [
    "#### Create a list L of numbers of odd length. Complete the following tasks:\n",
    "\n",
    "* Find the median element\n",
    "* Slice out all element indexed lower than the median element"
   ]
  },
  {
   "cell_type": "code",
   "execution_count": 5,
   "id": "a962e6d1-172f-492c-986b-ad7bcc1a82be",
   "metadata": {},
   "outputs": [
    {
     "name": "stdout",
     "output_type": "stream",
     "text": [
      "The median of the list is 5.\n",
      "The elements indexed lower than the median element are: 2, 3, 4.\n",
      "------------------\n",
      "The median is 5 by using statistics way.\n",
      "------------------\n",
      "the median is 5.0 by using numpy.\n"
     ]
    }
   ],
   "source": [
    "L= [4,5,3,2,6,6,9]\n",
    "\n",
    "#Method 1, find the median index:\n",
    "sorted_L = sorted(L)\n",
    "median_index = len(sorted_L)//2\n",
    "# or you can simply use '/', but you need to change it to int\n",
    "# median_index = int(len(sorted_L)/2)\n",
    "Median = sorted_L[median_index]\n",
    "lower_than_median = sorted_L[:median_index]\n",
    "print(f'The median of the list is {Median}.')\n",
    "joined = ', '.join(str(i) for i in lower_than_median)\n",
    "print(f'The elements indexed lower than the median element are: {joined}.')\n",
    "print('------------------')\n",
    "#method 2, use statistics\n",
    "import statistics\n",
    "median = statistics.median(L)\n",
    "print(f'The median is {median} by using statistics way.')\n",
    "print('------------------')\n",
    "#method 3, use numpy\n",
    "import numpy as np\n",
    "median = np.median(L)\n",
    "print(f'the median is {median} by using numpy.')"
   ]
  },
  {
   "cell_type": "markdown",
   "id": "d8ffb4c7-51e0-4aea-986f-361c1471ebf6",
   "metadata": {},
   "source": [
    "### Lab 1 Practice learnt : \n",
    "* 6.2.1.1. ','.join() ----- make the string separate by ','\n",
    "* 6.2.1.2. re.sub(r'[^\\w\\s]','',string) ----- delete the punctuation"
   ]
  },
  {
   "cell_type": "markdown",
   "id": "201de4a4-ee04-4763-b84e-c55edcebb77c",
   "metadata": {},
   "source": [
    "# Lab2\n",
    "## Conditional and For Loop"
   ]
  },
  {
   "cell_type": "markdown",
   "id": "6d247289-e0b7-4c9d-ab2f-e0cfdb1c79d5",
   "metadata": {},
   "source": [
    "### math"
   ]
  },
  {
   "cell_type": "code",
   "execution_count": 6,
   "id": "84fdeb23-3e04-44a2-a656-0ab478e04ef7",
   "metadata": {},
   "outputs": [
    {
     "name": "stdout",
     "output_type": "stream",
     "text": [
      "The history saving thread hit an unexpected error (OperationalError('attempt to write a readonly database')).History will not be written to the database.\n"
     ]
    },
    {
     "name": "stdin",
     "output_type": "stream",
     "text": [
      "Enter a non-negative number ----> 4\n"
     ]
    },
    {
     "name": "stdout",
     "output_type": "stream",
     "text": [
      "4.0 is a perfect square.\n"
     ]
    }
   ],
   "source": [
    "#Write your code here\n",
    "import math\n",
    "\n",
    "x = float(input('Enter a non-negative number ---->'))\n",
    "\n",
    "sqrt = math.sqrt(x)\n",
    "int_sqrt_x = int(sqrt)\n",
    "\n",
    "if int_sqrt_x == sqrt:\n",
    "    print(f'{x} is a perfect square.')\n",
    "else:\n",
    "    print(f'{x} is not a perfect square.')\n"
   ]
  },
  {
   "cell_type": "code",
   "execution_count": 7,
   "id": "0cdfe35b-01c2-4ddc-b8c8-1c7c49a9bab4",
   "metadata": {},
   "outputs": [
    {
     "name": "stdout",
     "output_type": "stream",
     "text": [
      "8.0\n",
      "2.718281828459045\n",
      "2.0\n",
      "------------------\n",
      "3\n",
      "4\n",
      "4\n"
     ]
    }
   ],
   "source": [
    "# It leads to other knowledge point:\n",
    "# power , return float\n",
    "power = math.pow(2,3)\n",
    "print(power)\n",
    "# exp\n",
    "exp = math.exp(1)\n",
    "print(exp)\n",
    "# log\n",
    "log = math.log(9,3) #log(base,N)\n",
    "print(log)\n",
    "print('------------------')\n",
    "# Floor ( round down ); ceil(round up); trunc(truncate decimal)\n",
    "floor = math.floor(3.1)\n",
    "ceil = math.ceil(3.4)\n",
    "trunc = math.trunc(4.6)\n",
    "print(str(floor) + '\\n' + str(ceil) + '\\n' + str(trunc))"
   ]
  },
  {
   "cell_type": "markdown",
   "id": "d82dcd61-df7c-4373-b9e3-672a844201cd",
   "metadata": {},
   "source": [
    "### conditional grade and random/range() and create dataframe"
   ]
  },
  {
   "cell_type": "code",
   "execution_count": 8,
   "id": "882b2dc5-7742-413b-9155-6d2940c404f1",
   "metadata": {},
   "outputs": [
    {
     "name": "stdout",
     "output_type": "stream",
     "text": [
      "       Student  Grade     Curve\n",
      "0    student_1     83         B\n",
      "1    student_2     77         C\n",
      "2    student_3     57  Below 65\n",
      "3    student_4     59  Below 65\n",
      "4    student_5     95         A\n",
      "5    student_6     87         B\n",
      "6    student_7     87         B\n",
      "7    student_8     77         C\n",
      "8    student_9     99         A\n",
      "9   student_10    100         A\n",
      "10  student_11     86         B\n",
      "11  student_12     52  Below 65\n",
      "12  student_13     90         B\n",
      "13  student_14     68         D\n",
      "14  student_15     65  Below 65\n"
     ]
    }
   ],
   "source": [
    "# If I want to randomly generate 15 student's grade and give them letter grade? And i want to create a form to show it.\n",
    "import pandas as pd\n",
    "import random\n",
    "grades = [random.randint(50,100) for i in range(15)]\n",
    "students = [f'student_{i+1}' for i in range(15)]\n",
    "df = pd.DataFrame({\n",
    "    'Student':students,\n",
    "    'Grade':grades\n",
    "})\n",
    "\n",
    "def Letter_grade(score):\n",
    "    if score > 90:\n",
    "        return 'A'\n",
    "    elif score > 80:\n",
    "        return 'B'\n",
    "    elif score > 70:\n",
    "        return 'C'\n",
    "    elif score > 65:\n",
    "        return 'D'\n",
    "    else:\n",
    "        return 'Below 65'\n",
    "\n",
    "df['Curve'] = df['Grade'].apply(Letter_grade)\n",
    "print(df)"
   ]
  },
  {
   "cell_type": "markdown",
   "id": "9ecf81ec-617e-4bd9-be71-ea42149f763c",
   "metadata": {},
   "source": [
    "### For Loop, break and while"
   ]
  },
  {
   "cell_type": "code",
   "execution_count": null,
   "id": "f684a924-1da8-457c-9bdd-cef833de62c0",
   "metadata": {},
   "outputs": [],
   "source": [
    "#While:\n",
    "num = 0\n",
    "while num < 11:\n",
    "    if num %2 == 0:\n",
    "        print('num :',num)\n",
    "    num = num + 1\n",
    "print('-------------')\n",
    "# break \n",
    "num = 0\n",
    "while num <11:\n",
    "    if num%2 == 0:\n",
    "        print('num :',num)\n",
    "    num = num + 1\n",
    "    if num == 4:\n",
    "        break\n",
    "print('-------------')\n",
    "# continue \n",
    "num = 0\n",
    "while num < 11:\n",
    "    num = num + 1 \n",
    "    if num == 8:\n",
    "        continue\n",
    "    if num % 2 == 0:\n",
    "        print('num :', num)"
   ]
  },
  {
   "cell_type": "code",
   "execution_count": null,
   "id": "b127b1ad-6b56-47e8-93ba-2d10dd01b092",
   "metadata": {},
   "outputs": [],
   "source": [
    "total = 0\n",
    "\n",
    "while True:\n",
    "    num = int(input(\"Enter a number (-1 to stop): \"))\n",
    "    if num == -1:\n",
    "        break\n",
    "    total += num\n",
    "\n",
    "print(\"Total sum is:\", total)"
   ]
  },
  {
   "cell_type": "markdown",
   "id": "073faa46-3617-4aae-92f2-5104417cdc30",
   "metadata": {},
   "source": [
    "### code for little game: GUESS THE NUMBER!"
   ]
  },
  {
   "cell_type": "code",
   "execution_count": 9,
   "id": "514c73d3-1db3-4ae4-b77a-086c8d6b07e5",
   "metadata": {},
   "outputs": [
    {
     "name": "stdin",
     "output_type": "stream",
     "text": [
      "Welcome to the game! Just randomly pick a number between 1 and 20, let's guess the number! You still have 5 chances... 5\n"
     ]
    },
    {
     "name": "stdout",
     "output_type": "stream",
     "text": [
      "It can be bigger than the number you guess!\n"
     ]
    },
    {
     "name": "stdin",
     "output_type": "stream",
     "text": [
      "Welcome to the game! Just randomly pick a number between 1 and 20, let's guess the number! You still have 4 chances... 14\n"
     ]
    },
    {
     "name": "stdout",
     "output_type": "stream",
     "text": [
      "It can be smaller than the number you guess!\n"
     ]
    },
    {
     "name": "stdin",
     "output_type": "stream",
     "text": [
      "Welcome to the game! Just randomly pick a number between 1 and 20, let's guess the number! You still have 3 chances... 9\n"
     ]
    },
    {
     "name": "stdout",
     "output_type": "stream",
     "text": [
      "It can be smaller than the number you guess!\n",
      "You’re off by less than 3!\n"
     ]
    },
    {
     "name": "stdin",
     "output_type": "stream",
     "text": [
      "Welcome to the game! Just randomly pick a number between 1 and 20, let's guess the number! You still have 2 chances... 11\n"
     ]
    },
    {
     "name": "stdout",
     "output_type": "stream",
     "text": [
      "This is the last chance...\n",
      "It can be smaller than the number you guess!\n"
     ]
    },
    {
     "name": "stdin",
     "output_type": "stream",
     "text": [
      "Welcome to the game! Just randomly pick a number between 1 and 20, let's guess the number! You still have 1 chances... 7\n"
     ]
    },
    {
     "name": "stdout",
     "output_type": "stream",
     "text": [
      "Game Over! The correct answer is 8.\n"
     ]
    }
   ],
   "source": [
    "chances = 5\n",
    "correct_number = (random.randint(1, 20))\n",
    "while True:\n",
    "    x = int(input(f'Welcome to the game! Just randomly pick a number between 1 and 20, let\\'s guess the number! \\\n",
    "You still have {chances} chances...'))\n",
    "    if x == correct_number:\n",
    "        print(f'Congratuation! You\\'re right! The number is {correct_number}!')\n",
    "        break\n",
    "    chances += -1\n",
    "    if chances == 0:\n",
    "        print(f'Game Over! The correct answer is {correct_number}.')\n",
    "        break\n",
    "    if chances == 1:\n",
    "        print('This is the last chance...')\n",
    "    if x < correct_number:\n",
    "        print('It can be bigger than the number you guess!')\n",
    "        if (correct_number - x) < 3:\n",
    "            print('You’re off by less than 3!')\n",
    "    elif x > correct_number:\n",
    "        print('It can be smaller than the number you guess!')\n",
    "        if (x - correct_number) < 3:\n",
    "            print('You’re off by less than 3!')"
   ]
  },
  {
   "cell_type": "code",
   "execution_count": null,
   "id": "888d44c3-1efb-4c21-a086-ebb97f4b92e5",
   "metadata": {},
   "outputs": [],
   "source": [
    "#Write a program that takes a sentence as input and counts how many unique letters it contains.\n",
    "#\t•\tIgnore punctuation and case (e.g., “A” and “a” are the same).\n",
    "#\t•\tPrint the number of unique letters and list them.\n",
    "\n",
    "Sentence = 'Ella is the BEST!!! She\\'s favourite food is stir-fried spicy chicken.'\n",
    "import re\n",
    "sent_clean = re.sub(r'[^\\w]','',Sentence).lower()  #I was wrong at first，不是sentence.re.sub / how to delete the space btw word?\n",
    "print(sent_clean)\n",
    "# method 1 for loop\n",
    "list = []\n",
    "for i in sent_clean:\n",
    "    if i not in list:\n",
    "        if i != ' ':\n",
    "            list.append(i)\n",
    "print(list)\n",
    "\n",
    "#Method 2 \n",
    "unique_letters = set(sent_clean)\n",
    "print(unique_letters)"
   ]
  },
  {
   "cell_type": "markdown",
   "id": "07afce46-af5e-428b-9df1-78348d5e92eb",
   "metadata": {},
   "source": [
    "### Use x_sqrt.is_integer() would be better instead of converting and comparing."
   ]
  },
  {
   "cell_type": "code",
   "execution_count": null,
   "id": "5fdd6ef9-c2ca-4b5b-a6ee-f4acbedb6d6a",
   "metadata": {},
   "outputs": [],
   "source": [
    "import math\n",
    "x = float(input('Enter a number, let me help you check if it is a perfect square.'))\n",
    "x_sqrt = math.sqrt(x)\n",
    "if x_sqrt.is_integer():\n",
    "    print(f'The number you entered is {x}, it is a perfect square.')\n",
    "else:\n",
    "    print(f'The number you entered is {x}, it is not a perfect square.')"
   ]
  },
  {
   "cell_type": "markdown",
   "id": "bea7f789-5a97-427b-b7cb-ebf160201144",
   "metadata": {},
   "source": [
    "# Lab3\n",
    "## Tuple Set Dictionary"
   ]
  },
  {
   "cell_type": "markdown",
   "id": "ae4e72c9-69ba-4392-a158-52bdc23b5184",
   "metadata": {},
   "source": [
    "### Dictionary"
   ]
  },
  {
   "cell_type": "markdown",
   "id": "8f3d6ed0-afac-41ad-8c34-68f8135dad14",
   "metadata": {},
   "source": [
    "From the dictionary, produce a list of strings, where each element in the list is a last name. Your code should work for an arbitrary dictionary formatted as given below. Please print Last names in the dictionary."
   ]
  },
  {
   "cell_type": "code",
   "execution_count": 10,
   "id": "374d0ab9-9071-41f7-95f2-31cecfa7f108",
   "metadata": {},
   "outputs": [
    {
     "name": "stdout",
     "output_type": "stream",
     "text": [
      "['XU', 'YE']\n"
     ]
    }
   ],
   "source": [
    "# Mycode\n",
    "d = {1: \"Linyi XU\", 2 : \"Yingshen YE\"}\n",
    "\n",
    "last_name = []\n",
    "last_names = []\n",
    "\n",
    "l = list(d.values())\n",
    "\n",
    "for i in l:\n",
    "    last_name = i.split()[-1]\n",
    "    last_names.append(last_name)\n",
    "\n",
    "print(last_names)"
   ]
  },
  {
   "cell_type": "code",
   "execution_count": 17,
   "id": "d6d21bb1-b37f-43f9-bb44-3acbcadd52c2",
   "metadata": {},
   "outputs": [
    {
     "name": "stdout",
     "output_type": "stream",
     "text": [
      "['Xu', 'Ye', 'bibi', 'Shenshen', 'ha', 'py']\n"
     ]
    }
   ],
   "source": [
    "# concise version\n",
    "D = {1: \"Linyi Xu\", 2: \"Yingshen Ye\" , 3:'Rara bibi', 4:'Little Shenshen' , 5:'Ha ha', 6:'Py py'}\n",
    "last_names = []\n",
    "\n",
    "last_names = [name.split()[-1] for name in D.values()]\n",
    "print(last_names)"
   ]
  },
  {
   "cell_type": "markdown",
   "id": "266cfe1e-143f-4693-aacd-53655c9c9ca8",
   "metadata": {},
   "source": [
    "Consider the following dictionary D of scores. From this dictionary, produce another dictionary where the keys are the names and the values are the average scores."
   ]
  },
  {
   "cell_type": "code",
   "execution_count": 11,
   "id": "1cfe5dfa-4df7-493a-b984-03cbbe59ea5f",
   "metadata": {},
   "outputs": [
    {
     "name": "stdout",
     "output_type": "stream",
     "text": [
      "{'Jake': 88.5, 'Charlie': 99.67, 'Ellen': 90.0}\n"
     ]
    }
   ],
   "source": [
    "D = {\"Jake\" : [99,87,91, 77], \"Charlie\" : [100,100,99], \"Ellen\" : [95,70, 85,100,100]}\n",
    "\n",
    "D_new = {}\n",
    "\n",
    "for name,scores in D.items():\n",
    "    avg_score = sum(scores)/len(scores)\n",
    "    D_new[name]=round(avg_score,2)\n",
    "\n",
    "print(D_new)"
   ]
  },
  {
   "cell_type": "markdown",
   "id": "b39d07d2-5f0a-4cd6-bacc-ddda23e7c2ac",
   "metadata": {},
   "source": [
    "\n",
    "Write the code to check whether the inputted sentence is a pangram, meaning that it contains all 26 letters."
   ]
  },
  {
   "cell_type": "code",
   "execution_count": 12,
   "id": "7311f880-87ae-44b1-9e70-119adff475dd",
   "metadata": {},
   "outputs": [
    {
     "name": "stdout",
     "output_type": "stream",
     "text": [
      "thequickbrownfoxjumpsoverthelazydog\n",
      "Pangram\n"
     ]
    }
   ],
   "source": [
    "import re\n",
    "sentence = \"the quick brown fox jumps over the lazy dog\"\n",
    "clean = re.sub(r'[^\\w]','',sentence)\n",
    "print(clean)\n",
    "\n",
    "checklist =[]\n",
    "for i in range(len(clean)):\n",
    "    if clean[i] not in checklist:\n",
    "        checklist.append(clean[i])\n",
    "\n",
    "if len(checklist) == 26:\n",
    "    print('Pangram')\n",
    "else:\n",
    "    print('WRONG!!')"
   ]
  },
  {
   "cell_type": "markdown",
   "id": "4a9018fa-a98e-4f03-b427-bd0dc31f2dd0",
   "metadata": {},
   "source": [
    "### string method"
   ]
  },
  {
   "cell_type": "markdown",
   "id": "7420edce-ac8d-4d20-b80b-60fcba6da540",
   "metadata": {},
   "source": [
    "Use the count method to count the number of times that str1 appears in str2."
   ]
  },
  {
   "cell_type": "code",
   "execution_count": 13,
   "id": "2600e3c6-ad31-4914-b8da-d59ec99a3d05",
   "metadata": {},
   "outputs": [
    {
     "name": "stdout",
     "output_type": "stream",
     "text": [
      "2\n"
     ]
    }
   ],
   "source": [
    "str1 = \"co\"\n",
    "str2 = \"coding in school is cool\"\n",
    "#Write your code here\n",
    "\n",
    "l = len(str1)\n",
    "count = 0\n",
    "\n",
    "for i in range(len(str2)):\n",
    "    if str2[i:i+l] == str1:\n",
    "        count+=1\n",
    "\n",
    "print(count)"
   ]
  },
  {
   "cell_type": "code",
   "execution_count": 14,
   "id": "60fb0ef0-7b5b-4e22-98ce-e1ef2105b3e1",
   "metadata": {},
   "outputs": [
    {
     "name": "stdout",
     "output_type": "stream",
     "text": [
      "7\n"
     ]
    }
   ],
   "source": [
    "sentence = \"\"\"Jake likes to eat apples. So, he went to the store to acquire some. \n",
    "He used his coupons and then he declared: I love apples.\"\"\"\n",
    "\n",
    "new_sentence = re.sub(r'[^\\w\\s]','',sentence).lower().split()\n",
    "\n",
    "count = 0\n",
    "vowel = list('aoeui')\n",
    "\n",
    "for i in new_sentence:\n",
    "    if i[0] in vowel:\n",
    "        count += 1\n",
    "\n",
    "print(count)"
   ]
  },
  {
   "cell_type": "markdown",
   "id": "b3d9910b-458b-4b79-9be1-2cdfba403d1f",
   "metadata": {},
   "source": [
    "### List method"
   ]
  },
  {
   "cell_type": "markdown",
   "id": "7b297509-a438-4bff-b4d1-738b41893f38",
   "metadata": {},
   "source": [
    "Store all of the words with more than 5 letters in a list. Use the append method for lists and the strip method for strings to get rid of punctuation."
   ]
  },
  {
   "cell_type": "code",
   "execution_count": null,
   "id": "ffd92c9b-9d09-42cc-96d7-338221ed2f08",
   "metadata": {},
   "outputs": [],
   "source": [
    "sentence = \"\"\"Jake likes to eat apples. So, he went to the store to acquire some. \n",
    "He used his coupons and then he declared: I love apples.\"\"\"\n",
    "\n",
    "new_sentence = re.sub(r'[^\\w\\s]','',sentence).lower().split()\n",
    "\n",
    "morethan5 = []\n",
    "\n",
    "for i in new_sentence:\n",
    "    if len(i) > 5:\n",
    "        morethan5.append(i)\n",
    "\n",
    "print(morethan5)                     "
   ]
  },
  {
   "cell_type": "markdown",
   "id": "9a9b4ee5-5e61-48ca-a1ec-356d5da2730e",
   "metadata": {},
   "source": [
    "### practice Suggestion:\n",
    "#### clean = ['ellalovesme']\n",
    "for i in clean:\n",
    "    # i = 'ellalovesme' (the whole string)\n",
    "    You’re looping over a list that only has one big item, so you’re not checking each letter \n",
    "\n",
    "#### clean = 'ellalovesme'\n",
    "for i in clean:\n",
    "    # i = 'e', then 'l', then 'l', then 'a', ..."
   ]
  },
  {
   "cell_type": "code",
   "execution_count": 15,
   "id": "210e78a7-de35-4f7c-bd16-55b2ae34184b",
   "metadata": {},
   "outputs": [
    {
     "name": "stdin",
     "output_type": "stream",
     "text": [
      "Enter a sentence and let me help you check if it's a pangram -------> laaaaandisnaokvnsdl\n"
     ]
    },
    {
     "name": "stdout",
     "output_type": "stream",
     "text": [
      "The sentence is not a pangram, the letter ['b', 'c', 'e', 'f', 'g', 'h', 'j', 'm', 'p', 'q', 'r', 't', 'u', 'w', 'x', 'y', 'z'] are missing.\n"
     ]
    },
    {
     "name": "stdin",
     "output_type": "stream",
     "text": [
      "Enter a sentence and let me help you check if it's a pangram -------> dfdfs\n"
     ]
    },
    {
     "name": "stdout",
     "output_type": "stream",
     "text": [
      "The sentence is not a pangram, the letter ['a', 'b', 'c', 'e', 'g', 'h', 'i', 'j', 'k', 'l', 'm', 'n', 'o', 'p', 'q', 'r', 't', 'u', 'v', 'w', 'x', 'y', 'z'] are missing.\n",
      "False\n"
     ]
    }
   ],
   "source": [
    "#Method 1 for loop\n",
    "import re\n",
    "apb = 'abcdefghijklmnopqrstuvwxyz'\n",
    "\n",
    "\n",
    "sentence = input('Enter a sentence and let me help you check if it\\'s a pangram ------->')\n",
    "clean = re.sub(r'[^\\w]','',sentence).lower()    #clean = re.sub(r'[^a-z]', '', sentence.lower())， DON NOT USE split()\n",
    "checklist = list(apb)\n",
    "\n",
    "for i in clean:\n",
    "    if i in checklist:\n",
    "        checklist.remove(i)\n",
    "if len(checklist) == 0:  # if not checklist\n",
    "    print(f'The sentence is pangram.')\n",
    "else:\n",
    "    print(f'The sentence is not a pangram, the letter {checklist} are missing.')\n",
    "\n",
    "#Method 2, set\n",
    "apb = 'abcdefghijklmnopqrstuvwxyz'\n",
    "sentence = input('Enter a sentence and let me help you check if it\\'s a pangram ------->')\n",
    "clean = re.sub(r'[^a-z]','',sentence).lower()    \n",
    "check = set(apb)\n",
    "check_sen = set(clean)\n",
    "\n",
    "if check == check_sen:\n",
    "    print('The sentence is pangram.')\n",
    "else:\n",
    "    print(f'The sentence is not a pangram, the letter {sorted(check-check_sen)} are missing.')\n",
    "\n",
    "\n",
    "print(sorted(check-check_sen) == checklist)"
   ]
  },
  {
   "cell_type": "code",
   "execution_count": 18,
   "id": "09c84d6a-1c9c-4965-b53a-a77daa127c97",
   "metadata": {},
   "outputs": [
    {
     "name": "stdin",
     "output_type": "stream",
     "text": [
      "You can input a sentence, let me help you check how many words start with a vowel! fsdfdn\n"
     ]
    },
    {
     "name": "stdout",
     "output_type": "stream",
     "text": [
      "There are 0 words start with a vowel.\n"
     ]
    }
   ],
   "source": [
    "\n",
    "sentence = input('You can input a sentence, let me help you check how many words start with a vowel!')\n",
    "clean = re.sub(r'[^\\w\\s]','',sentence).lower().split()\n",
    "vowel = 'aeiou'\n",
    "count = 0\n",
    "\n",
    "for i in clean:\n",
    "    if i[0] in vowel:\n",
    "        count += 1\n",
    "\n",
    "print(f'There are {count} words start with a vowel.')"
   ]
  },
  {
   "cell_type": "code",
   "execution_count": 19,
   "id": "6dc4abe3-8b28-4e3d-9b5d-ad217333ca22",
   "metadata": {},
   "outputs": [
    {
     "name": "stdout",
     "output_type": "stream",
     "text": [
      "['Ada', 'Alan', 'Grace']\n",
      "-------------------------\n",
      "2\n",
      "2\n",
      "-------------------------\n",
      "['Evans', 'Potter', 'Black']\n"
     ]
    }
   ],
   "source": [
    "names = {1: \"Ada Lovelace\", 2: \"Alan Turing\", 3: \"Grace Hopper\"}\n",
    "# Expected output: ['Ada', 'Alan', 'Grace']\n",
    "\n",
    "first_name = [name.split()[0] for name in names.values()]\n",
    "print(first_name)\n",
    "\n",
    "print('-------------------------')\n",
    "people = {1: \"John Smith\", 2: \"Mary Johnson\", 3: \"Tom Smith\", 4: \"Anna Brown\"}\n",
    "# Count How Many Names Have the Last Name “Smith” \n",
    "# Expected output: 2\n",
    "\n",
    "last_name = [name.split()[-1] for name in people.values()]\n",
    "count = 0\n",
    "\n",
    "for i in last_name:\n",
    "    if i == 'Smith':\n",
    "        count += 1\n",
    "print(count)\n",
    "\n",
    "count = sum(1 for name in people.values() if name.split()[-1] == 'Smith')\n",
    "print(count)\n",
    "\n",
    "print('-------------------------')\n",
    "\n",
    "names = {1: \"lily evans\", 2: \"james potter\", 3: \"sirius black\"}\n",
    "#Capitalize All Last Names\n",
    "# Expected output: ['Evans', 'Potter', 'Black']\n",
    "\n",
    "last_name = [name.split()[-1].title() for name in names.values()]\n",
    "\n",
    "print(last_name)"
   ]
  },
  {
   "cell_type": "markdown",
   "id": "ec379057-95a3-4df1-81a2-7467cd8549a8",
   "metadata": {},
   "source": [
    "# Lab 4\n",
    "## read, files, write"
   ]
  },
  {
   "cell_type": "code",
   "execution_count": null,
   "id": "96a169bd-dcc7-4415-adf7-5c53e99fd843",
   "metadata": {},
   "outputs": [],
   "source": [
    "with open('/Users/ss/Downloads/python/Lab 4 Documents/data/Pizza_File.txt', 'r') as file:\n",
    "    lines = file.readlines()"
   ]
  },
  {
   "cell_type": "code",
   "execution_count": 20,
   "id": "ca6d3411-ba44-4cb9-9a06-bffb95eaf1a8",
   "metadata": {},
   "outputs": [
    {
     "name": "stdout",
     "output_type": "stream",
     "text": [
      "[1, 2, 1, 4, 5, 34, 23, 23, 23, 1, 5, 5, 5, 2, 6, 7, 5, 3, 5, 43, 54, 23, 6, 42, 23, 1, 2, 3, 4, 5, 6, 7, 8, 1, 3, 5, 34, 23, 35, 56, 3, 2, 4, 2, 34, 23, 5, 6, 7, 87, 54, 234, 2, 1, 5, 45, 34, 2, 4, 6, 8, 9, 56, 34, 2, 4]\n"
     ]
    }
   ],
   "source": [
    "\n",
    "def Read_File(file_path):\n",
    "    \n",
    "    #Write your code here\n",
    "    all_numbers=[]\n",
    "    with open(file_path,'r') as file:\n",
    "        for line in file:\n",
    "            numbers = [int(num) for num in line.split(',')]\n",
    "            all_numbers.extend(numbers)\n",
    "    return all_numbers #list_nums\n",
    "\n",
    "file_path = '/Users/ss/Downloads/2024Fall/python/Lab 5 Documents/data/numbers.txt'\n",
    "result = Read_File(file_path)\n",
    "print(result)"
   ]
  },
  {
   "cell_type": "markdown",
   "id": "ab2a4cb2-1fa4-4971-8de5-b99803005a6f",
   "metadata": {},
   "source": [
    "# Lab 5\n",
    "## Functions and Scope"
   ]
  },
  {
   "cell_type": "code",
   "execution_count": 21,
   "id": "9f97ca52-7297-4dd3-a6a6-aa4ae948a480",
   "metadata": {},
   "outputs": [
    {
     "name": "stdout",
     "output_type": "stream",
     "text": [
      "[5] : 10\n"
     ]
    }
   ],
   "source": [
    "def Mode(list_nums):\n",
    "    \n",
    "    #Write your code here\n",
    "    D_count = {}\n",
    "    for num in list_nums:\n",
    "        if num in D_count:\n",
    "            D_count[num] += 1\n",
    "        else:\n",
    "            D_count[num] = 1\n",
    "\n",
    "    count_mode = max(D_count.values( ))\n",
    "\n",
    "    list_key = []\n",
    "    for key in D_count:\n",
    "        if D_count[key] == count_mode:\n",
    "            list_key.append(key)\n",
    "    return list_key,count_mode\n",
    "\n",
    "list_nums = [1, 2, 1, 4, 5, 34, 23, 23, 23, 1, 5, 5, 5, 2, 6, 7, 5, 3, 5, 43, 54, 23, 6, 42, 23, 1, 2, 3, 4, 5, 6, 7, 8, 1, 3, 5, 34, 23, 35, 56, 3, 2, 4, 2, 34, 23, 5, 6, 7, 87, 54, 234, 2, 1, 5, 45, 34, 2, 4, 6, 8, 9, 56, 34, 2, 4]\n",
    "list_key,count_mode = Mode(list_nums)\n",
    "print(list_key,\":\",count_mode)\n",
    "\n",
    "    "
   ]
  },
  {
   "cell_type": "markdown",
   "id": "b1222c26-b150-4b3b-849d-9da703ef4838",
   "metadata": {},
   "source": [
    "### Counter"
   ]
  },
  {
   "cell_type": "code",
   "execution_count": 22,
   "id": "479a2198-2068-420b-b683-acebad46ed7f",
   "metadata": {},
   "outputs": [
    {
     "name": "stdout",
     "output_type": "stream",
     "text": [
      "The list of numbers' mode is [5], the frequenct is 10\n",
      "Counter({5: 10, 2: 8, 23: 7, 1: 6, 4: 5, 34: 5, 6: 5, 3: 4, 7: 3, 54: 2, 8: 2, 56: 2, 43: 1, 42: 1, 35: 1, 87: 1, 234: 1, 45: 1, 9: 1})\n"
     ]
    }
   ],
   "source": [
    "# “Write a function that takes a list of numbers and returns the mode(s) and their frequency.”\n",
    "from collections import Counter\n",
    "\n",
    "def Mode(L):\n",
    "    count = Counter(L)\n",
    "    max_fre_count = max(count.values())\n",
    "    max_fre_num = [num for num,freq in count.items() if max_fre_count == freq ]\n",
    "    return f'The list of numbers\\' mode is {max_fre_num}, the frequenct is {max_fre_count}'\n",
    "\n",
    "list_nums = [1, 2, 1, 4, 5, 34, 23, 23, 23, 1, 5, 5, 5, 2, 6, 7, 5, 3, 5,\\\n",
    "             43, 54, 23, 6, 42, 23, 1, 2, 3, 4, 5, 6, 7, 8, 1, 3, 5, 34, 23, 35, 56, 3, 2, 4, 2, 34, 23, 5, 6, 7, 87, 54, 234, 2, 1, 5, 45, 34, 2, 4, 6, 8, 9, 56, 34, 2, 4]\n",
    "result = Mode(list_nums)\n",
    "print(result)\n",
    "print(Counter(list_nums))"
   ]
  },
  {
   "cell_type": "code",
   "execution_count": 23,
   "id": "e7ef4488-fae2-42c8-82ce-4101231be76c",
   "metadata": {},
   "outputs": [
    {
     "name": "stdout",
     "output_type": "stream",
     "text": [
      "The mode is 5, appearing 10 times.\n"
     ]
    }
   ],
   "source": [
    "def Mode(L):\n",
    "    count = Counter(L)\n",
    "    max_num = max(count,key = count.get)\n",
    "    max_num_count = count[max_num]\n",
    "    return f'The mode is {max_num}, appearing {max_num_count} times.'\n",
    "\n",
    "list_nums = [1, 2, 1, 4, 5, 34, 23, 23, 23, 1, 5, 5, 5, 2, 6, 7, 5, 3, 5,\\\n",
    "             43, 54, 23, 6, 42, 23, 1, 2, 3, 4, 5, 6, 7, 8, 1, 3, 5, 34, 23, 35, 56, 3, 2, 4, 2, 34, 23, 5, 6, 7, 87, 54, 234, 2, 1, 5, 45, 34, 2, 4, 6, 8, 9, 56, 34, 2, 4]\n",
    "result = Mode(list_nums)\n",
    "print(result)"
   ]
  },
  {
   "cell_type": "code",
   "execution_count": 24,
   "id": "368d2585-333a-4c9e-8409-d00736ce193f",
   "metadata": {},
   "outputs": [
    {
     "name": "stdout",
     "output_type": "stream",
     "text": [
      "5 10\n"
     ]
    }
   ],
   "source": [
    "a = Counter(list_nums)\n",
    "max_key = max(a, key=a.get) #key=a.get tells max() to compare each key based on its corresponding value in the dictionary.\n",
    "max_value = a[max_key]\n",
    "print(max_key,max_value)"
   ]
  },
  {
   "cell_type": "code",
   "execution_count": 25,
   "id": "6e9dfbf0-6f82-4bb7-945b-d461e056571e",
   "metadata": {},
   "outputs": [
    {
     "name": "stdout",
     "output_type": "stream",
     "text": [
      "[('Johnson', 5), ('Smith', 5), ('Lee', 2), ('Brown', 2)]\n"
     ]
    }
   ],
   "source": [
    "names = [\n",
    "    \"Alice Johnson\", \"Bob Smith\", \"Cathy Johnson\", \"David Lee\", \"Emily Smith\",\n",
    "    \"Frank Smith\", \"Grace Lee\", \"Helen Johnson\", \"Ivy Brown\", \"Jack Smith\",\n",
    "    \"Kelly Johnson\", \"Leo Smith\", \"Mia Johnson\", \"Nora Brown\"\n",
    "]\n",
    "\n",
    "def most_lastname(L):\n",
    "    last_name = [name.split()[-1] for name in names]\n",
    "    count = Counter(last_name)\n",
    "    count = sorted(count.items(), key=lambda x: x[1],reverse = True)\n",
    "    return count\n",
    "\n",
    "result = most_lastname(names)  \n",
    "print(result)"
   ]
  },
  {
   "cell_type": "code",
   "execution_count": 26,
   "id": "421749bd-93b1-437f-b335-5df82c344839",
   "metadata": {},
   "outputs": [
    {
     "name": "stdout",
     "output_type": "stream",
     "text": [
      "['Johnson', 'Smith'] is the most frequent last name appearing 5 times\n"
     ]
    }
   ],
   "source": [
    "# It can return multiple letters that all have the highest frequency\n",
    "names = [\n",
    "    \"Alice Johnson\", \"Bob Smith\", \"Cathy Johnson\", \"David Lee\", \"Emily Smith\",\n",
    "    \"Frank Smith\", \"Grace Lee\", \"Helen Johnson\", \"Ivy Brown\", \"Jack Smith\",\n",
    "    \"Kelly Johnson\", \"Leo Smith\", \"Mia Johnson\", \"Nora Brown\"\n",
    "]\n",
    "\n",
    "from collections import Counter\n",
    "def most_lastname(L):\n",
    "    last_name = [name.split()[-1] for name in names]\n",
    "    count = Counter(last_name)\n",
    "    max_lastname_num = max(count.values())\n",
    "    max_lastname = [name for name,num in count.items() if max_lastname_num == num]\n",
    "    return max_lastname,max_lastname_num\n",
    "\n",
    "max_lastname,max_lastname_num = most_lastname(names)\n",
    "print(f\"{max_lastname} is the most frequent last name appearing {max_lastname_num} times\")"
   ]
  },
  {
   "cell_type": "code",
   "execution_count": 27,
   "id": "ed01521b-2c00-4bed-a6ac-929976a7439b",
   "metadata": {},
   "outputs": [
    {
     "name": "stdout",
     "output_type": "stream",
     "text": [
      "The most frequent appear letter is a, appearing 11 times.\n"
     ]
    }
   ],
   "source": [
    "texts = [\n",
    "    \"I love Python programming!\",\n",
    "    \"Data Science is amazing.\",\n",
    "    \"Machine learning and AI are the future.\",\n",
    "    \"Go WashU!\"\n",
    "]\n",
    "import re\n",
    "\n",
    "def lettersfre(L):\n",
    "    clean = ''.join(L)\n",
    "    clean = re.sub(r'[^\\w]','',clean).lower()\n",
    "    count = Counter(clean)\n",
    "    max_l = max(count,key = count.get)\n",
    "    max_value = count[max_l]\n",
    "    return f'The most frequent appear letter is {max_l}, appearing {max_value} times.'\n",
    "\n",
    "result = lettersfre(texts)\n",
    "print(result)"
   ]
  },
  {
   "cell_type": "code",
   "execution_count": 28,
   "id": "7329de8b-995b-4e80-a7a0-c5b967153b2f",
   "metadata": {},
   "outputs": [
    {
     "name": "stdout",
     "output_type": "stream",
     "text": [
      "The common word in the text is 'you',appearing 11 times.\n",
      "-------------\n",
      "'love' word appears 6 times.\n",
      "-------------\n",
      "'you' appears 11 times.\n",
      "'in' appears 7 times.\n",
      "'i' appears 6 times.\n",
      "'love' appears 6 times.\n",
      "'that' appears 6 times.\n",
      "'every' appears 5 times.\n"
     ]
    }
   ],
   "source": [
    "ella_text = \"\"\"\n",
    "Every moment I spend with you deepens a love I didn’t know was possible. \n",
    "It’s the kind of love that lives quietly in the breath between words, \n",
    "in the way I look at you when you’re not looking — soft, steady, and endlessly growing.\n",
    "\n",
    "I love you with a depth that doesn’t depend on sunshine or easy days. \n",
    "It’s the kind of love that stands quietly beside you in your tiredness, \n",
    "that holds your hand in silence when there’s nothing to say, \n",
    "that waits patiently when you need space, and that runs to catch you when you fall.\n",
    "\n",
    "You are my softness in a world that’s often loud. My calm in the storm. My safest home.\n",
    "\n",
    "Every glance, every smile, every sleepy “goodnight” only reminds me more: I don’t just love you.  \n",
    "I am in love with you — deeply, completely, every version of you, always.\n",
    "\"\"\"\n",
    "def commonword(text):\n",
    "    clean_text = re.sub(r'[^\\w\\s]','',text).lower().split()\n",
    "    count = Counter(clean_text)\n",
    "    max_common_word = max(count,key = count.get)\n",
    "    max_count = count[max_common_word]    \n",
    "    return f'The common word in the text is \\'{max_common_word}\\',appearing {max_count} times.'\n",
    "\n",
    "result = commonword(ella_text)\n",
    "print(result)\n",
    "print('-------------')\n",
    "print(f'\\'love\\' word appears {ella_text.lower().count('love')} times.')\n",
    "\n",
    "def commonword(text, top_n=5):\n",
    "    # Clean text: remove punctuation, lowercase, split\n",
    "    clean_words = re.sub(r'[^\\w\\s]', '', text).lower().split()\n",
    "    count = Counter(clean_words)\n",
    "    most_common = count.most_common(top_n)\n",
    "    \n",
    "    # Build the print-friendly result\n",
    "    result_lines = []\n",
    "    for word, freq in most_common:\n",
    "        result_lines.append(f\"'{word}' appears {freq} times.\")\n",
    "    \n",
    "    return \"\\n\".join(result_lines)\n",
    "\n",
    "# Output\n",
    "print('-------------')\n",
    "print(commonword(ella_text, top_n=6))"
   ]
  },
  {
   "cell_type": "code",
   "execution_count": 29,
   "id": "c736b77f-ebf1-464f-9c3d-16e14e0fc6f0",
   "metadata": {},
   "outputs": [
    {
     "name": "stdout",
     "output_type": "stream",
     "text": [
      "'ella' appears 8 times.\n",
      "'i' appears 5 times.\n",
      "'for' appears 5 times.\n",
      "'what' appears 4 times.\n",
      "'love' appears 3 times.\n",
      "'of' appears 3 times.\n"
     ]
    }
   ],
   "source": [
    "ella_text = \"\"\"\n",
    "I love you not only for what you are, but for what I am when I am with you.\n",
    "I love you not only for what you have made of yourself, but for what you are making of me.\n",
    "I love you for the part of me that you bring out.\n",
    "\"\"\"\n",
    "def commontext(text,top_n=1):\n",
    "    clean_text = re.sub(r'[^\\w\\s]','',text).lower().split()\n",
    "    count = Counter(clean_text)\n",
    "    filtered = [(word,freq) for word,freq in count.items() if freq > 2]\n",
    "    sorted_filtered = sorted(filtered, key = lambda x : x[1], reverse =True)[:top_n]\n",
    "    result_lines = [f\"'{word}' appears {freq} times.\" for word, freq in sorted_filtered]\n",
    "    return '\\n'.join(result_lines)\n",
    "\n",
    "print(commontext(ella_text.replace('you','ella'),top_n=10))"
   ]
  },
  {
   "cell_type": "markdown",
   "id": "ed742605-d0cc-4f8b-9db7-4137eacd9e38",
   "metadata": {},
   "source": [
    "# Lab 6\n",
    "## copy()"
   ]
  },
  {
   "cell_type": "code",
   "execution_count": 30,
   "id": "310d9df1-03b4-4fb7-b309-da530402e8f5",
   "metadata": {},
   "outputs": [
    {
     "name": "stdout",
     "output_type": "stream",
     "text": [
      "[10, 2, 3]\n",
      "[11, 5, 6]\n",
      "[[1, 2, 3], [4, 5, 6]]\n"
     ]
    }
   ],
   "source": [
    "L3 = []\n",
    "L1 = [1,2,3]\n",
    "L2 = [4,5,6]\n",
    "#L3 = [L1.copy,L2.copy]\n",
    "L1_C = L1.copy()\n",
    "L2_C = L2.copy()\n",
    "L3.append(L1_C)\n",
    "L3.append(L2_C)\n",
    "\n",
    "L1[0]= 10\n",
    "L2[0] = 11\n",
    "\n",
    "print(L1)\n",
    "print(L2)\n",
    "print(L3)"
   ]
  },
  {
   "cell_type": "markdown",
   "id": "b993ddbd-b093-4415-b3b5-9a8f4611eebc",
   "metadata": {},
   "source": [
    "# Lab 7\n",
    "## numpy/ list comprehension"
   ]
  },
  {
   "cell_type": "code",
   "execution_count": 31,
   "id": "6f9e65fa-d9f4-4c97-862a-ecf1af5ef65e",
   "metadata": {},
   "outputs": [
    {
     "name": "stdout",
     "output_type": "stream",
     "text": [
      "\n",
      "🎲 Match Summary:\n",
      "   Round Rolls Player1  Max Player1 Rolls Player2  Max Player2   Winner\n",
      "0      1     [4, 3, 3]            4        [2, 5]            5  Player2\n",
      "1      2     [4, 5, 1]            5        [6, 2]            6  Player2\n",
      "2      3     [1, 4, 1]            4        [6, 5]            6  Player2\n",
      "3      4     [5, 2, 1]            5        [3, 1]            3  Player1\n",
      "4      5     [5, 1, 2]            5        [6, 1]            6  Player2\n",
      "5      6     [3, 5, 2]            5        [4, 4]            4  Player1\n",
      "6      7     [2, 1, 2]            2        [3, 4]            4  Player2\n",
      "7      8     [2, 1, 1]            2        [4, 4]            4  Player2\n",
      "8      9     [5, 1, 3]            5        [6, 5]            6  Player2\n",
      "9     10     [5, 2, 4]            5        [7, 4]            7  Player2\n",
      "\n",
      "Final Score — Player1: 2, Player2: 8 → Player 2 wins!\n"
     ]
    }
   ],
   "source": [
    "import numpy as np\n",
    "import pandas as pd\n",
    "def Roll_Player1(listfor1):\n",
    "    rolls1 = [np.random.randint(1,listfor1[i]) for i in range(len(listfor1))]\n",
    "    return rolls1,max(rolls1)\n",
    "\n",
    "def Roll_Player2(listfor2):\n",
    "    rolls2 = [np.random.randint(1,listfor2[i]) for i in range(len(listfor2))]\n",
    "    return rolls2,max(rolls2)\n",
    "\n",
    "def whowins(N,listfor1,listfor2):\n",
    "    count1 = 0\n",
    "    count2 = 0\n",
    "    records = []\n",
    "    for i in range(N):\n",
    "        outcome1,max1 = Roll_Player1(listfor1)\n",
    "        outcome2,max2 = Roll_Player2(listfor2)\n",
    "        \n",
    "        if max1 > max2:\n",
    "            count1 += 1\n",
    "            maxvalue = max1\n",
    "            winner = 'Player1'\n",
    "            \n",
    "        else:\n",
    "            count2 += 1\n",
    "            maxvalue = max2\n",
    "            winner = 'Player2'\n",
    "            \n",
    "            \n",
    "        records.append({\n",
    "            'Round': i + 1,\n",
    "            'Rolls Player1': outcome1,\n",
    "            'Max Player1': max1,\n",
    "            'Rolls Player2': outcome2,\n",
    "            'Max Player2': max2,\n",
    "            'Winner': winner\n",
    "        })\n",
    "\n",
    "    final_winner = 'Player 1 wins!' if count1 > count2 else 'Player 2 wins!'\n",
    "    \n",
    "    df = pd.DataFrame(records)\n",
    "    print(\"\\n🎲 Match Summary:\")\n",
    "    print(df)\n",
    "    \n",
    "    return f'\\nFinal Score — Player1: {count1}, Player2: {count2} → {final_winner}'\n",
    "   \n",
    "N = 10\n",
    "listfor1 = [6,6,6]\n",
    "listfor2 = [8,6]\n",
    "result = whowins(N,listfor1,listfor2)\n",
    "print(result)"
   ]
  },
  {
   "cell_type": "markdown",
   "id": "3461156a-d310-47e2-bc15-86fde675b8f3",
   "metadata": {},
   "source": [
    "# Lab 8\n",
    "## Pandas"
   ]
  },
  {
   "cell_type": "markdown",
   "id": "39e14999-b3af-44fb-b6c3-b73ff0fa9ecb",
   "metadata": {},
   "source": [
    "### read and basic attribute"
   ]
  },
  {
   "cell_type": "code",
   "execution_count": 34,
   "id": "0353a9df-4e71-4bb0-bf5f-42f01f255aa4",
   "metadata": {},
   "outputs": [
    {
     "data": {
      "text/html": [
       "<div>\n",
       "<style scoped>\n",
       "    .dataframe tbody tr th:only-of-type {\n",
       "        vertical-align: middle;\n",
       "    }\n",
       "\n",
       "    .dataframe tbody tr th {\n",
       "        vertical-align: top;\n",
       "    }\n",
       "\n",
       "    .dataframe thead th {\n",
       "        text-align: right;\n",
       "    }\n",
       "</style>\n",
       "<table border=\"1\" class=\"dataframe\">\n",
       "  <thead>\n",
       "    <tr style=\"text-align: right;\">\n",
       "      <th></th>\n",
       "      <th>Name</th>\n",
       "      <th>Previous_Part</th>\n",
       "      <th>Participation1</th>\n",
       "      <th>Mini_Exam1</th>\n",
       "      <th>Mini_Exam2</th>\n",
       "      <th>Participation2</th>\n",
       "      <th>Mini_Exam3</th>\n",
       "      <th>Final</th>\n",
       "      <th>Grade</th>\n",
       "    </tr>\n",
       "  </thead>\n",
       "  <tbody>\n",
       "    <tr>\n",
       "      <th>0</th>\n",
       "      <td>Jake</td>\n",
       "      <td>32.0</td>\n",
       "      <td>1</td>\n",
       "      <td>19.5</td>\n",
       "      <td>20.0</td>\n",
       "      <td>1</td>\n",
       "      <td>10.0</td>\n",
       "      <td>33.0</td>\n",
       "      <td>A</td>\n",
       "    </tr>\n",
       "    <tr>\n",
       "      <th>1</th>\n",
       "      <td>Joe</td>\n",
       "      <td>32.0</td>\n",
       "      <td>1</td>\n",
       "      <td>20.0</td>\n",
       "      <td>16.0</td>\n",
       "      <td>1</td>\n",
       "      <td>14.0</td>\n",
       "      <td>32.0</td>\n",
       "      <td>A</td>\n",
       "    </tr>\n",
       "    <tr>\n",
       "      <th>2</th>\n",
       "      <td>Susan</td>\n",
       "      <td>30.0</td>\n",
       "      <td>1</td>\n",
       "      <td>19.0</td>\n",
       "      <td>19.0</td>\n",
       "      <td>1</td>\n",
       "      <td>10.5</td>\n",
       "      <td>33.0</td>\n",
       "      <td>A-</td>\n",
       "    </tr>\n",
       "    <tr>\n",
       "      <th>3</th>\n",
       "      <td>Sol</td>\n",
       "      <td>31.0</td>\n",
       "      <td>1</td>\n",
       "      <td>22.0</td>\n",
       "      <td>13.0</td>\n",
       "      <td>1</td>\n",
       "      <td>13.0</td>\n",
       "      <td>34.0</td>\n",
       "      <td>A</td>\n",
       "    </tr>\n",
       "    <tr>\n",
       "      <th>4</th>\n",
       "      <td>Chris</td>\n",
       "      <td>30.0</td>\n",
       "      <td>1</td>\n",
       "      <td>19.0</td>\n",
       "      <td>17.0</td>\n",
       "      <td>1</td>\n",
       "      <td>12.5</td>\n",
       "      <td>33.5</td>\n",
       "      <td>A</td>\n",
       "    </tr>\n",
       "  </tbody>\n",
       "</table>\n",
       "</div>"
      ],
      "text/plain": [
       "    Name  Previous_Part  Participation1  Mini_Exam1  Mini_Exam2  \\\n",
       "0   Jake           32.0               1        19.5        20.0   \n",
       "1    Joe           32.0               1        20.0        16.0   \n",
       "2  Susan           30.0               1        19.0        19.0   \n",
       "3    Sol           31.0               1        22.0        13.0   \n",
       "4  Chris           30.0               1        19.0        17.0   \n",
       "\n",
       "   Participation2  Mini_Exam3  Final Grade  \n",
       "0               1        10.0   33.0     A  \n",
       "1               1        14.0   32.0     A  \n",
       "2               1        10.5   33.0    A-  \n",
       "3               1        13.0   34.0     A  \n",
       "4               1        12.5   33.5     A  "
      ]
     },
     "execution_count": 34,
     "metadata": {},
     "output_type": "execute_result"
    }
   ],
   "source": [
    "import pandas as pd\n",
    "\n",
    "#How we read in a pandas dataframe. The header=0 means column names are in the first row\n",
    "df = pd.read_csv(\"Lab 8 Documents/data/Grades.csv\", header=0)\n",
    "\n",
    "#The head method returns the first five rows\n",
    "df.head()"
   ]
  },
  {
   "cell_type": "code",
   "execution_count": null,
   "id": "a4825a07-9b7b-4a21-a33a-3ba86f8ab6b7",
   "metadata": {},
   "outputs": [],
   "source": [
    "df.dtypes"
   ]
  },
  {
   "cell_type": "code",
   "execution_count": 37,
   "id": "c27d9f1c-5a0a-417e-98b7-acb3a9827391",
   "metadata": {},
   "outputs": [
    {
     "data": {
      "text/html": [
       "<div>\n",
       "<style scoped>\n",
       "    .dataframe tbody tr th:only-of-type {\n",
       "        vertical-align: middle;\n",
       "    }\n",
       "\n",
       "    .dataframe tbody tr th {\n",
       "        vertical-align: top;\n",
       "    }\n",
       "\n",
       "    .dataframe thead th {\n",
       "        text-align: right;\n",
       "    }\n",
       "</style>\n",
       "<table border=\"1\" class=\"dataframe\">\n",
       "  <thead>\n",
       "    <tr style=\"text-align: right;\">\n",
       "      <th></th>\n",
       "      <th>Previous_Part</th>\n",
       "      <th>Participation1</th>\n",
       "      <th>Mini_Exam1</th>\n",
       "      <th>Mini_Exam2</th>\n",
       "      <th>Participation2</th>\n",
       "      <th>Mini_Exam3</th>\n",
       "      <th>Final</th>\n",
       "    </tr>\n",
       "  </thead>\n",
       "  <tbody>\n",
       "    <tr>\n",
       "      <th>count</th>\n",
       "      <td>19.000000</td>\n",
       "      <td>19.000000</td>\n",
       "      <td>19.000000</td>\n",
       "      <td>19.000000</td>\n",
       "      <td>19.0</td>\n",
       "      <td>19.000000</td>\n",
       "      <td>19.000000</td>\n",
       "    </tr>\n",
       "    <tr>\n",
       "      <th>mean</th>\n",
       "      <td>29.500000</td>\n",
       "      <td>0.947368</td>\n",
       "      <td>18.026316</td>\n",
       "      <td>17.052632</td>\n",
       "      <td>1.0</td>\n",
       "      <td>10.526316</td>\n",
       "      <td>31.815789</td>\n",
       "    </tr>\n",
       "    <tr>\n",
       "      <th>std</th>\n",
       "      <td>2.848001</td>\n",
       "      <td>0.229416</td>\n",
       "      <td>3.360199</td>\n",
       "      <td>2.753254</td>\n",
       "      <td>0.0</td>\n",
       "      <td>2.796196</td>\n",
       "      <td>4.913729</td>\n",
       "    </tr>\n",
       "    <tr>\n",
       "      <th>min</th>\n",
       "      <td>22.000000</td>\n",
       "      <td>0.000000</td>\n",
       "      <td>7.000000</td>\n",
       "      <td>12.000000</td>\n",
       "      <td>1.0</td>\n",
       "      <td>5.500000</td>\n",
       "      <td>21.000000</td>\n",
       "    </tr>\n",
       "    <tr>\n",
       "      <th>25%</th>\n",
       "      <td>28.500000</td>\n",
       "      <td>1.000000</td>\n",
       "      <td>17.500000</td>\n",
       "      <td>15.500000</td>\n",
       "      <td>1.0</td>\n",
       "      <td>9.000000</td>\n",
       "      <td>31.000000</td>\n",
       "    </tr>\n",
       "    <tr>\n",
       "      <th>50%</th>\n",
       "      <td>30.000000</td>\n",
       "      <td>1.000000</td>\n",
       "      <td>19.000000</td>\n",
       "      <td>18.000000</td>\n",
       "      <td>1.0</td>\n",
       "      <td>10.000000</td>\n",
       "      <td>32.000000</td>\n",
       "    </tr>\n",
       "    <tr>\n",
       "      <th>75%</th>\n",
       "      <td>31.500000</td>\n",
       "      <td>1.000000</td>\n",
       "      <td>20.000000</td>\n",
       "      <td>19.000000</td>\n",
       "      <td>1.0</td>\n",
       "      <td>12.750000</td>\n",
       "      <td>34.000000</td>\n",
       "    </tr>\n",
       "    <tr>\n",
       "      <th>max</th>\n",
       "      <td>33.000000</td>\n",
       "      <td>1.000000</td>\n",
       "      <td>22.000000</td>\n",
       "      <td>21.000000</td>\n",
       "      <td>1.0</td>\n",
       "      <td>17.000000</td>\n",
       "      <td>42.000000</td>\n",
       "    </tr>\n",
       "  </tbody>\n",
       "</table>\n",
       "</div>"
      ],
      "text/plain": [
       "       Previous_Part  Participation1  Mini_Exam1  Mini_Exam2  Participation2  \\\n",
       "count      19.000000       19.000000   19.000000   19.000000            19.0   \n",
       "mean       29.500000        0.947368   18.026316   17.052632             1.0   \n",
       "std         2.848001        0.229416    3.360199    2.753254             0.0   \n",
       "min        22.000000        0.000000    7.000000   12.000000             1.0   \n",
       "25%        28.500000        1.000000   17.500000   15.500000             1.0   \n",
       "50%        30.000000        1.000000   19.000000   18.000000             1.0   \n",
       "75%        31.500000        1.000000   20.000000   19.000000             1.0   \n",
       "max        33.000000        1.000000   22.000000   21.000000             1.0   \n",
       "\n",
       "       Mini_Exam3      Final  \n",
       "count   19.000000  19.000000  \n",
       "mean    10.526316  31.815789  \n",
       "std      2.796196   4.913729  \n",
       "min      5.500000  21.000000  \n",
       "25%      9.000000  31.000000  \n",
       "50%     10.000000  32.000000  \n",
       "75%     12.750000  34.000000  \n",
       "max     17.000000  42.000000  "
      ]
     },
     "execution_count": 37,
     "metadata": {},
     "output_type": "execute_result"
    }
   ],
   "source": [
    "#Using the describe() method\n",
    "summary = df.describe()\n",
    "summary"
   ]
  },
  {
   "cell_type": "code",
   "execution_count": null,
   "id": "0b507539-127b-49b8-9070-4338a10e0b75",
   "metadata": {},
   "outputs": [],
   "source": [
    "list(df.columns)"
   ]
  },
  {
   "cell_type": "code",
   "execution_count": null,
   "id": "266c3edb-acfa-4e3d-b84f-4c9938e5287e",
   "metadata": {},
   "outputs": [],
   "source": [
    "list(df.index)"
   ]
  },
  {
   "cell_type": "code",
   "execution_count": null,
   "id": "b31d1fcf-a608-4b6c-9470-59d05543f61e",
   "metadata": {},
   "outputs": [],
   "source": [
    "dimensions = df.shape\n",
    "print(dimensions)\n",
    "numRows = dimensions[0]\n",
    "numCols = dimensions[1]\n",
    "numRows"
   ]
  },
  {
   "cell_type": "markdown",
   "id": "fd944980-459c-40d7-8caf-da2b534fb10d",
   "metadata": {},
   "source": [
    "### Slicing and Indexing"
   ]
  },
  {
   "cell_type": "code",
   "execution_count": 35,
   "id": "2d07d0f1-37fd-4c84-8081-cb7c1ac000b5",
   "metadata": {},
   "outputs": [
    {
     "data": {
      "text/plain": [
       "'Sol'"
      ]
     },
     "execution_count": 35,
     "metadata": {},
     "output_type": "execute_result"
    }
   ],
   "source": [
    "df.loc[3,\"Name\"]"
   ]
  },
  {
   "cell_type": "code",
   "execution_count": null,
   "id": "7eeb796b-4da2-4685-a558-65e6d3a87231",
   "metadata": {},
   "outputs": [],
   "source": [
    "df.loc[1:3, \"Mini_Exam3\":\"Grade\"]"
   ]
  },
  {
   "cell_type": "code",
   "execution_count": null,
   "id": "f7742372-3e2c-463c-85c0-540ac83300ad",
   "metadata": {},
   "outputs": [],
   "source": [
    "df.loc[[0,2,4], [\"Previous_Part\",\"Grade\"]]"
   ]
  },
  {
   "cell_type": "code",
   "execution_count": 38,
   "id": "a5212f50-593d-4722-8b2c-b1a37431fc7e",
   "metadata": {},
   "outputs": [
    {
     "data": {
      "text/html": [
       "<div>\n",
       "<style scoped>\n",
       "    .dataframe tbody tr th:only-of-type {\n",
       "        vertical-align: middle;\n",
       "    }\n",
       "\n",
       "    .dataframe tbody tr th {\n",
       "        vertical-align: top;\n",
       "    }\n",
       "\n",
       "    .dataframe thead th {\n",
       "        text-align: right;\n",
       "    }\n",
       "</style>\n",
       "<table border=\"1\" class=\"dataframe\">\n",
       "  <thead>\n",
       "    <tr style=\"text-align: right;\">\n",
       "      <th></th>\n",
       "      <th>Final</th>\n",
       "      <th>Previous_Part</th>\n",
       "    </tr>\n",
       "  </thead>\n",
       "  <tbody>\n",
       "    <tr>\n",
       "      <th>min</th>\n",
       "      <td>21.0</td>\n",
       "      <td>22.0</td>\n",
       "    </tr>\n",
       "    <tr>\n",
       "      <th>max</th>\n",
       "      <td>42.0</td>\n",
       "      <td>33.0</td>\n",
       "    </tr>\n",
       "  </tbody>\n",
       "</table>\n",
       "</div>"
      ],
      "text/plain": [
       "     Final  Previous_Part\n",
       "min   21.0           22.0\n",
       "max   42.0           33.0"
      ]
     },
     "execution_count": 38,
     "metadata": {},
     "output_type": "execute_result"
    }
   ],
   "source": [
    "#slicing summary dataframe\n",
    "summary.loc[[\"min\", \"max\"], [\"Final\", \"Previous_Part\"]]"
   ]
  },
  {
   "cell_type": "markdown",
   "id": "1e5c054c-8458-40d6-b41a-640be9399c7d",
   "metadata": {},
   "source": [
    "### Part 2 "
   ]
  },
  {
   "cell_type": "code",
   "execution_count": null,
   "id": "4ac0adea-4300-4bd7-9f74-19ee9c40e3b4",
   "metadata": {},
   "outputs": [],
   "source": [
    "list_grades = df[\"Grade\"].unique()\n",
    "\n",
    "list_grades"
   ]
  },
  {
   "cell_type": "code",
   "execution_count": null,
   "id": "993b8548-6952-4ee7-95fc-d80a7a9c1528",
   "metadata": {},
   "outputs": [],
   "source": [
    "grade_breakdown = df[\"Grade\"].value_counts()\n",
    "grade_breakdown"
   ]
  },
  {
   "cell_type": "code",
   "execution_count": null,
   "id": "86b8b2ea-a043-4fd5-9f97-854e6983122e",
   "metadata": {},
   "outputs": [],
   "source": [
    "df.sort_values(by = [\"Final\"], inplace =False, ascending=False).head()"
   ]
  },
  {
   "cell_type": "code",
   "execution_count": 39,
   "id": "0186f3ce-77bd-4c88-b2c3-3ded5490573f",
   "metadata": {},
   "outputs": [
    {
     "data": {
      "text/html": [
       "<div>\n",
       "<style scoped>\n",
       "    .dataframe tbody tr th:only-of-type {\n",
       "        vertical-align: middle;\n",
       "    }\n",
       "\n",
       "    .dataframe tbody tr th {\n",
       "        vertical-align: top;\n",
       "    }\n",
       "\n",
       "    .dataframe thead th {\n",
       "        text-align: right;\n",
       "    }\n",
       "</style>\n",
       "<table border=\"1\" class=\"dataframe\">\n",
       "  <thead>\n",
       "    <tr style=\"text-align: right;\">\n",
       "      <th></th>\n",
       "      <th>Unnamed: 0</th>\n",
       "      <th>Registration_State</th>\n",
       "      <th>Issue_Date</th>\n",
       "      <th>Vehicle_Make</th>\n",
       "    </tr>\n",
       "  </thead>\n",
       "  <tbody>\n",
       "    <tr>\n",
       "      <th>0</th>\n",
       "      <td>0</td>\n",
       "      <td>NY</td>\n",
       "      <td>6/30/16 2:17</td>\n",
       "      <td>TOYOT</td>\n",
       "    </tr>\n",
       "    <tr>\n",
       "      <th>1</th>\n",
       "      <td>1</td>\n",
       "      <td>NY</td>\n",
       "      <td>7/4/16 1:18</td>\n",
       "      <td>ME/BE</td>\n",
       "    </tr>\n",
       "    <tr>\n",
       "      <th>2</th>\n",
       "      <td>2</td>\n",
       "      <td>NY</td>\n",
       "      <td>7/11/16 6:15</td>\n",
       "      <td>LINCO</td>\n",
       "    </tr>\n",
       "    <tr>\n",
       "      <th>3</th>\n",
       "      <td>3</td>\n",
       "      <td>NY</td>\n",
       "      <td>7/4/16 1:10</td>\n",
       "      <td>NISSA</td>\n",
       "    </tr>\n",
       "    <tr>\n",
       "      <th>4</th>\n",
       "      <td>4</td>\n",
       "      <td>NY</td>\n",
       "      <td>7/1/16 6:30</td>\n",
       "      <td>VOLKS</td>\n",
       "    </tr>\n",
       "  </tbody>\n",
       "</table>\n",
       "</div>"
      ],
      "text/plain": [
       "   Unnamed: 0 Registration_State    Issue_Date Vehicle_Make\n",
       "0           0                 NY  6/30/16 2:17        TOYOT\n",
       "1           1                 NY   7/4/16 1:18        ME/BE\n",
       "2           2                 NY  7/11/16 6:15        LINCO\n",
       "3           3                 NY   7/4/16 1:10        NISSA\n",
       "4           4                 NY   7/1/16 6:30        VOLKS"
      ]
     },
     "execution_count": 39,
     "metadata": {},
     "output_type": "execute_result"
    }
   ],
   "source": [
    "#Read in parking and let's have a look.\n",
    "df_parking = pd.read_csv(\"Lab 8 Documents/Data/Parking.csv\")\n",
    "df_parking.head()"
   ]
  },
  {
   "cell_type": "code",
   "execution_count": 41,
   "id": "bacf5b67-8adb-4395-bdc2-037edb3329e7",
   "metadata": {},
   "outputs": [
    {
     "data": {
      "text/html": [
       "<div>\n",
       "<style scoped>\n",
       "    .dataframe tbody tr th:only-of-type {\n",
       "        vertical-align: middle;\n",
       "    }\n",
       "\n",
       "    .dataframe tbody tr th {\n",
       "        vertical-align: top;\n",
       "    }\n",
       "\n",
       "    .dataframe thead th {\n",
       "        text-align: right;\n",
       "    }\n",
       "</style>\n",
       "<table border=\"1\" class=\"dataframe\">\n",
       "  <thead>\n",
       "    <tr style=\"text-align: right;\">\n",
       "      <th></th>\n",
       "      <th>Registration_State</th>\n",
       "      <th>Issue_Date</th>\n",
       "      <th>Vehicle_Make</th>\n",
       "    </tr>\n",
       "  </thead>\n",
       "  <tbody>\n",
       "    <tr>\n",
       "      <th>0</th>\n",
       "      <td>NY</td>\n",
       "      <td>6/30/16 2:17</td>\n",
       "      <td>TOYOT</td>\n",
       "    </tr>\n",
       "    <tr>\n",
       "      <th>1</th>\n",
       "      <td>NY</td>\n",
       "      <td>7/4/16 1:18</td>\n",
       "      <td>ME/BE</td>\n",
       "    </tr>\n",
       "    <tr>\n",
       "      <th>2</th>\n",
       "      <td>NY</td>\n",
       "      <td>7/11/16 6:15</td>\n",
       "      <td>LINCO</td>\n",
       "    </tr>\n",
       "    <tr>\n",
       "      <th>3</th>\n",
       "      <td>NY</td>\n",
       "      <td>7/4/16 1:10</td>\n",
       "      <td>NISSA</td>\n",
       "    </tr>\n",
       "    <tr>\n",
       "      <th>4</th>\n",
       "      <td>NY</td>\n",
       "      <td>7/1/16 6:30</td>\n",
       "      <td>VOLKS</td>\n",
       "    </tr>\n",
       "  </tbody>\n",
       "</table>\n",
       "</div>"
      ],
      "text/plain": [
       "  Registration_State    Issue_Date Vehicle_Make\n",
       "0                 NY  6/30/16 2:17        TOYOT\n",
       "1                 NY   7/4/16 1:18        ME/BE\n",
       "2                 NY  7/11/16 6:15        LINCO\n",
       "3                 NY   7/4/16 1:10        NISSA\n",
       "4                 NY   7/1/16 6:30        VOLKS"
      ]
     },
     "execution_count": 41,
     "metadata": {},
     "output_type": "execute_result"
    }
   ],
   "source": [
    "#Read in parking and specify column that will serve as index\n",
    "df_parking = pd.read_csv(\"Lab 8 Documents/Data/Parking.csv\", index_col=0)\n",
    "df_parking.head()"
   ]
  },
  {
   "cell_type": "markdown",
   "id": "3778e8ad-67c3-40fa-a886-436555a53961",
   "metadata": {},
   "source": [
    "### Part 3"
   ]
  },
  {
   "cell_type": "code",
   "execution_count": 42,
   "id": "d491c6ef-7b8f-4f71-bf75-7e29281fb4b3",
   "metadata": {},
   "outputs": [
    {
     "name": "stderr",
     "output_type": "stream",
     "text": [
      "/var/folders/1y/0n53lf4d02b_k6_16dfgx4540000gn/T/ipykernel_13367/4261402957.py:1: UserWarning: Could not infer format, so each element will be parsed individually, falling back to `dateutil`. To ensure parsing is consistent and as-expected, please specify a format.\n",
      "  df_parking[\"Issue_Date\"] = pd.to_datetime(df_parking[\"Issue_Date\"])\n"
     ]
    },
    {
     "data": {
      "text/html": [
       "<div>\n",
       "<style scoped>\n",
       "    .dataframe tbody tr th:only-of-type {\n",
       "        vertical-align: middle;\n",
       "    }\n",
       "\n",
       "    .dataframe tbody tr th {\n",
       "        vertical-align: top;\n",
       "    }\n",
       "\n",
       "    .dataframe thead th {\n",
       "        text-align: right;\n",
       "    }\n",
       "</style>\n",
       "<table border=\"1\" class=\"dataframe\">\n",
       "  <thead>\n",
       "    <tr style=\"text-align: right;\">\n",
       "      <th></th>\n",
       "      <th>Registration_State</th>\n",
       "      <th>Issue_Date</th>\n",
       "      <th>Vehicle_Make</th>\n",
       "    </tr>\n",
       "  </thead>\n",
       "  <tbody>\n",
       "    <tr>\n",
       "      <th>0</th>\n",
       "      <td>NY</td>\n",
       "      <td>2016-06-30 02:17:00</td>\n",
       "      <td>TOYOT</td>\n",
       "    </tr>\n",
       "    <tr>\n",
       "      <th>1</th>\n",
       "      <td>NY</td>\n",
       "      <td>2016-07-04 01:18:00</td>\n",
       "      <td>ME/BE</td>\n",
       "    </tr>\n",
       "    <tr>\n",
       "      <th>2</th>\n",
       "      <td>NY</td>\n",
       "      <td>2016-07-11 06:15:00</td>\n",
       "      <td>LINCO</td>\n",
       "    </tr>\n",
       "    <tr>\n",
       "      <th>3</th>\n",
       "      <td>NY</td>\n",
       "      <td>2016-07-04 01:10:00</td>\n",
       "      <td>NISSA</td>\n",
       "    </tr>\n",
       "    <tr>\n",
       "      <th>4</th>\n",
       "      <td>NY</td>\n",
       "      <td>2016-07-01 06:30:00</td>\n",
       "      <td>VOLKS</td>\n",
       "    </tr>\n",
       "  </tbody>\n",
       "</table>\n",
       "</div>"
      ],
      "text/plain": [
       "  Registration_State          Issue_Date Vehicle_Make\n",
       "0                 NY 2016-06-30 02:17:00        TOYOT\n",
       "1                 NY 2016-07-04 01:18:00        ME/BE\n",
       "2                 NY 2016-07-11 06:15:00        LINCO\n",
       "3                 NY 2016-07-04 01:10:00        NISSA\n",
       "4                 NY 2016-07-01 06:30:00        VOLKS"
      ]
     },
     "execution_count": 42,
     "metadata": {},
     "output_type": "execute_result"
    }
   ],
   "source": [
    "df_parking[\"Issue_Date\"] = pd.to_datetime(df_parking[\"Issue_Date\"]) \n",
    "df_parking.head()"
   ]
  },
  {
   "cell_type": "code",
   "execution_count": 46,
   "id": "cf765e17-24dc-4bb5-b4bf-53d9ecbbd60e",
   "metadata": {},
   "outputs": [
    {
     "data": {
      "text/html": [
       "<div>\n",
       "<style scoped>\n",
       "    .dataframe tbody tr th:only-of-type {\n",
       "        vertical-align: middle;\n",
       "    }\n",
       "\n",
       "    .dataframe tbody tr th {\n",
       "        vertical-align: top;\n",
       "    }\n",
       "\n",
       "    .dataframe thead th {\n",
       "        text-align: right;\n",
       "    }\n",
       "</style>\n",
       "<table border=\"1\" class=\"dataframe\">\n",
       "  <thead>\n",
       "    <tr style=\"text-align: right;\">\n",
       "      <th></th>\n",
       "      <th>Registration_State</th>\n",
       "      <th>Issue_Date</th>\n",
       "      <th>Vehicle_Make</th>\n",
       "      <th>DOW</th>\n",
       "      <th>Month</th>\n",
       "      <th>Weekday</th>\n",
       "      <th>Week</th>\n",
       "    </tr>\n",
       "  </thead>\n",
       "  <tbody>\n",
       "    <tr>\n",
       "      <th>0</th>\n",
       "      <td>NY</td>\n",
       "      <td>2016-06-30 02:17:00</td>\n",
       "      <td>TOYOT</td>\n",
       "      <td>Thursday</td>\n",
       "      <td>6</td>\n",
       "      <td>3</td>\n",
       "      <td>26</td>\n",
       "    </tr>\n",
       "    <tr>\n",
       "      <th>1</th>\n",
       "      <td>NY</td>\n",
       "      <td>2016-07-04 01:18:00</td>\n",
       "      <td>ME/BE</td>\n",
       "      <td>Monday</td>\n",
       "      <td>7</td>\n",
       "      <td>0</td>\n",
       "      <td>27</td>\n",
       "    </tr>\n",
       "    <tr>\n",
       "      <th>2</th>\n",
       "      <td>NY</td>\n",
       "      <td>2016-07-11 06:15:00</td>\n",
       "      <td>LINCO</td>\n",
       "      <td>Monday</td>\n",
       "      <td>7</td>\n",
       "      <td>0</td>\n",
       "      <td>28</td>\n",
       "    </tr>\n",
       "    <tr>\n",
       "      <th>3</th>\n",
       "      <td>NY</td>\n",
       "      <td>2016-07-04 01:10:00</td>\n",
       "      <td>NISSA</td>\n",
       "      <td>Monday</td>\n",
       "      <td>7</td>\n",
       "      <td>0</td>\n",
       "      <td>27</td>\n",
       "    </tr>\n",
       "    <tr>\n",
       "      <th>4</th>\n",
       "      <td>NY</td>\n",
       "      <td>2016-07-01 06:30:00</td>\n",
       "      <td>VOLKS</td>\n",
       "      <td>Friday</td>\n",
       "      <td>7</td>\n",
       "      <td>4</td>\n",
       "      <td>26</td>\n",
       "    </tr>\n",
       "  </tbody>\n",
       "</table>\n",
       "</div>"
      ],
      "text/plain": [
       "  Registration_State          Issue_Date Vehicle_Make       DOW  Month  \\\n",
       "0                 NY 2016-06-30 02:17:00        TOYOT  Thursday      6   \n",
       "1                 NY 2016-07-04 01:18:00        ME/BE    Monday      7   \n",
       "2                 NY 2016-07-11 06:15:00        LINCO    Monday      7   \n",
       "3                 NY 2016-07-04 01:10:00        NISSA    Monday      7   \n",
       "4                 NY 2016-07-01 06:30:00        VOLKS    Friday      7   \n",
       "\n",
       "   Weekday  Week  \n",
       "0        3    26  \n",
       "1        0    27  \n",
       "2        0    28  \n",
       "3        0    27  \n",
       "4        4    26  "
      ]
     },
     "execution_count": 46,
     "metadata": {},
     "output_type": "execute_result"
    }
   ],
   "source": [
    "df_parking[\"DOW\"] = df_parking[\"Issue_Date\"].dt.day_name()  # e.g., 'Monday'\n",
    "df_parking[\"Month\"] = df_parking[\"Issue_Date\"].dt.month\n",
    "df_parking[\"Week\"] = df_parking[\"Issue_Date\"].dt.isocalendar().week\n",
    "df_parking[\"Weekday\"] = df_parking[\"Issue_Date\"].dt.weekday  # 0 = Monday\n",
    "df_parking.head()"
   ]
  },
  {
   "cell_type": "code",
   "execution_count": null,
   "id": "dc9b2c4c-2ce1-4232-8f5f-30748e8b7646",
   "metadata": {},
   "outputs": [],
   "source": [
    "df.rename(columns={\"Participation1\":\"Participation_1\", \"Participation2\":\"Participation_2\"}, inplace=True)\n",
    "\n",
    "df.head()"
   ]
  },
  {
   "cell_type": "code",
   "execution_count": null,
   "id": "03f9ac58-edc5-47a3-bdef-9f5dba925ab7",
   "metadata": {},
   "outputs": [],
   "source": [
    "#Setting the column Name to be the index\n",
    "df.set_index(\"Name\", inplace = True)\n",
    "\n",
    "df.head()"
   ]
  },
  {
   "cell_type": "code",
   "execution_count": null,
   "id": "c1ba855c-06df-4506-ba98-078aebd7ba20",
   "metadata": {},
   "outputs": [],
   "source": [
    "df.reset_index(drop=False, inplace=True)\n",
    "df.head()"
   ]
  },
  {
   "cell_type": "code",
   "execution_count": null,
   "id": "e324d3bf-091a-4cc9-bffe-1b8ea3dc96b9",
   "metadata": {},
   "outputs": [],
   "source": [
    "#I can combine data frames with concat function\n",
    "head = df.head()\n",
    "tail = df.tail()"
   ]
  },
  {
   "cell_type": "code",
   "execution_count": null,
   "id": "1fc6ebbf-a1b3-4d73-b885-8beaabf59275",
   "metadata": {},
   "outputs": [],
   "source": [
    "#axis=0 says stack them top to bottom. axis =1 stacks side to side \n",
    "dfConcat = pd.concat([head,tail], axis =0)\n",
    "dfConcat"
   ]
  },
  {
   "cell_type": "markdown",
   "id": "2c8c3d20-deb0-4123-92e6-fe2850ccb3d3",
   "metadata": {},
   "source": [
    "### Missing data"
   ]
  },
  {
   "cell_type": "code",
   "execution_count": null,
   "id": "686bba26-9169-4807-a09e-0a02408fa143",
   "metadata": {},
   "outputs": [],
   "source": [
    "#isnull method for a data frame\n",
    "df_missing.isnull()"
   ]
  },
  {
   "cell_type": "code",
   "execution_count": null,
   "id": "91b279b6-5e4b-4991-8ed5-0e25b66547d6",
   "metadata": {},
   "outputs": [],
   "source": [
    "#Notice that here the not available is turned into an NaN value\n",
    "df_missing_NA = pd.read_csv(\"Data/Missing_Data.csv\", na_values=[\"NaN\", \"not available\"])\n",
    "df_missing_NA"
   ]
  },
  {
   "cell_type": "code",
   "execution_count": null,
   "id": "ba407389-8774-4c11-add4-8307e2a68a77",
   "metadata": {},
   "outputs": [],
   "source": [
    "#Let's rerun the isnull() method on the Previous_Part column\n",
    "df_missing_NA.Previous_Part.isnull()"
   ]
  },
  {
   "cell_type": "code",
   "execution_count": null,
   "id": "378a9144-38c0-4bd4-928f-be972ea5b8a4",
   "metadata": {},
   "outputs": [],
   "source": [
    "#Get rid of all rows with an NA\n",
    "df_missing_NA2.dropna(axis=0)"
   ]
  },
  {
   "cell_type": "code",
   "execution_count": null,
   "id": "0b319d73-b5f0-42cb-b4da-6ec9a35bb4df",
   "metadata": {},
   "outputs": [],
   "source": [
    "df_missing_NA2.fillna(0)"
   ]
  },
  {
   "cell_type": "code",
   "execution_count": null,
   "id": "d57e06fc-2e43-41d1-884f-4085a714a488",
   "metadata": {},
   "outputs": [],
   "source": [
    "#You can pass fillna a dict which gives the replacement value for each column\n",
    "df_missing_NA2.fillna({\"Previous_Part\":5,\"Mini_Exam2\":0.5})"
   ]
  },
  {
   "cell_type": "code",
   "execution_count": null,
   "id": "839714bf-65e3-495f-b127-b3a751bb8568",
   "metadata": {},
   "outputs": [],
   "source": [
    "#Replace with mean\n",
    "df_missing_NA2.fillna(df_missing_NA2.mean())"
   ]
  },
  {
   "cell_type": "markdown",
   "id": "c0bc8e21-e93f-4c45-8c8b-2d8e4bf37e0e",
   "metadata": {},
   "source": [
    "# Lab 9\n",
    "## Advanced Pandas"
   ]
  },
  {
   "cell_type": "markdown",
   "id": "3baa65eb-bf9a-48f2-8aaf-7251f45fe9b7",
   "metadata": {},
   "source": [
    "### String methods"
   ]
  },
  {
   "cell_type": "code",
   "execution_count": 1,
   "id": "011af461-d37c-429e-917e-3ea71cb60031",
   "metadata": {},
   "outputs": [
    {
     "name": "stdout",
     "output_type": "stream",
     "text": [
      "The history saving thread hit an unexpected error (OperationalError('attempt to write a readonly database')).History will not be written to the database.\n"
     ]
    },
    {
     "data": {
      "text/html": [
       "<div>\n",
       "<style scoped>\n",
       "    .dataframe tbody tr th:only-of-type {\n",
       "        vertical-align: middle;\n",
       "    }\n",
       "\n",
       "    .dataframe tbody tr th {\n",
       "        vertical-align: top;\n",
       "    }\n",
       "\n",
       "    .dataframe thead th {\n",
       "        text-align: right;\n",
       "    }\n",
       "</style>\n",
       "<table border=\"1\" class=\"dataframe\">\n",
       "  <thead>\n",
       "    <tr style=\"text-align: right;\">\n",
       "      <th></th>\n",
       "      <th>PassengerId</th>\n",
       "      <th>Pclass</th>\n",
       "      <th>Name</th>\n",
       "      <th>Sex</th>\n",
       "      <th>Age</th>\n",
       "      <th>SibSp</th>\n",
       "      <th>Parch</th>\n",
       "      <th>Ticket</th>\n",
       "      <th>Fare</th>\n",
       "      <th>Cabin</th>\n",
       "      <th>Embarked</th>\n",
       "    </tr>\n",
       "  </thead>\n",
       "  <tbody>\n",
       "    <tr>\n",
       "      <th>0</th>\n",
       "      <td>892</td>\n",
       "      <td>3</td>\n",
       "      <td>Kelly, Mr. James</td>\n",
       "      <td>male</td>\n",
       "      <td>34.5</td>\n",
       "      <td>0</td>\n",
       "      <td>0</td>\n",
       "      <td>330911</td>\n",
       "      <td>7.8292</td>\n",
       "      <td>NaN</td>\n",
       "      <td>Q</td>\n",
       "    </tr>\n",
       "    <tr>\n",
       "      <th>1</th>\n",
       "      <td>893</td>\n",
       "      <td>3</td>\n",
       "      <td>Wilkes, Mrs. James (Ellen Needs)</td>\n",
       "      <td>female</td>\n",
       "      <td>47.0</td>\n",
       "      <td>1</td>\n",
       "      <td>0</td>\n",
       "      <td>363272</td>\n",
       "      <td>7.0000</td>\n",
       "      <td>NaN</td>\n",
       "      <td>S</td>\n",
       "    </tr>\n",
       "    <tr>\n",
       "      <th>2</th>\n",
       "      <td>894</td>\n",
       "      <td>2</td>\n",
       "      <td>Myles, Mr. Thomas Francis</td>\n",
       "      <td>male</td>\n",
       "      <td>62.0</td>\n",
       "      <td>0</td>\n",
       "      <td>0</td>\n",
       "      <td>240276</td>\n",
       "      <td>9.6875</td>\n",
       "      <td>NaN</td>\n",
       "      <td>Q</td>\n",
       "    </tr>\n",
       "    <tr>\n",
       "      <th>3</th>\n",
       "      <td>895</td>\n",
       "      <td>3</td>\n",
       "      <td>Wirz, Mr. Albert</td>\n",
       "      <td>male</td>\n",
       "      <td>27.0</td>\n",
       "      <td>0</td>\n",
       "      <td>0</td>\n",
       "      <td>315154</td>\n",
       "      <td>8.6625</td>\n",
       "      <td>NaN</td>\n",
       "      <td>S</td>\n",
       "    </tr>\n",
       "    <tr>\n",
       "      <th>4</th>\n",
       "      <td>896</td>\n",
       "      <td>3</td>\n",
       "      <td>Hirvonen, Mrs. Alexander (Helga E Lindqvist)</td>\n",
       "      <td>female</td>\n",
       "      <td>22.0</td>\n",
       "      <td>1</td>\n",
       "      <td>1</td>\n",
       "      <td>3101298</td>\n",
       "      <td>12.2875</td>\n",
       "      <td>NaN</td>\n",
       "      <td>S</td>\n",
       "    </tr>\n",
       "  </tbody>\n",
       "</table>\n",
       "</div>"
      ],
      "text/plain": [
       "   PassengerId  Pclass                                          Name     Sex  \\\n",
       "0          892       3                              Kelly, Mr. James    male   \n",
       "1          893       3              Wilkes, Mrs. James (Ellen Needs)  female   \n",
       "2          894       2                     Myles, Mr. Thomas Francis    male   \n",
       "3          895       3                              Wirz, Mr. Albert    male   \n",
       "4          896       3  Hirvonen, Mrs. Alexander (Helga E Lindqvist)  female   \n",
       "\n",
       "    Age  SibSp  Parch   Ticket     Fare Cabin Embarked  \n",
       "0  34.5      0      0   330911   7.8292   NaN        Q  \n",
       "1  47.0      1      0   363272   7.0000   NaN        S  \n",
       "2  62.0      0      0   240276   9.6875   NaN        Q  \n",
       "3  27.0      0      0   315154   8.6625   NaN        S  \n",
       "4  22.0      1      1  3101298  12.2875   NaN        S  "
      ]
     },
     "execution_count": 1,
     "metadata": {},
     "output_type": "execute_result"
    }
   ],
   "source": [
    "import pandas as pd\n",
    "\n",
    "df = pd.read_csv(\"Lab 9 Documents/Data/Titanic.csv\")\n",
    "df.head()"
   ]
  },
  {
   "cell_type": "code",
   "execution_count": null,
   "id": "24c65624-73f5-41de-bc71-a08b3e97d162",
   "metadata": {},
   "outputs": [],
   "source": [
    "#Using the lower() method\n",
    "\n",
    "df_titanic[\"Name\"].str.lower().head()\n"
   ]
  },
  {
   "cell_type": "code",
   "execution_count": null,
   "id": "b26ce589-624d-4cba-93e2-f86fc5d850df",
   "metadata": {},
   "outputs": [],
   "source": [
    "#Creating new column\n",
    "df_titanic[\"Bool_Mr\"] = df_titanic[\"Name\"].str.contains(\"Mr\\.\")\n",
    "\n",
    "df_titanic.head()"
   ]
  },
  {
   "cell_type": "code",
   "execution_count": null,
   "id": "736e319b-2027-403b-a4ba-fc49e1a270b5",
   "metadata": {},
   "outputs": [],
   "source": [
    "#Replace the underscore\n",
    "df_titanic.columns = df_titanic.columns.str.replace(\"_\", \"\")\n",
    "\n",
    "df_titanic.head()"
   ]
  },
  {
   "cell_type": "markdown",
   "id": "29076e4c-148e-4cc9-acad-23e252fb0efb",
   "metadata": {},
   "source": [
    "### Map"
   ]
  },
  {
   "cell_type": "code",
   "execution_count": null,
   "id": "2ef1ffa0-7546-4373-9b5d-a35a75fb8140",
   "metadata": {},
   "outputs": [],
   "source": [
    "#Using map\n",
    "df_titanic.Sex.map({\"male\":1, \"female\":0}).head()"
   ]
  },
  {
   "cell_type": "code",
   "execution_count": null,
   "id": "4de28e70-13ed-4fde-b623-a17837bc4e3f",
   "metadata": {},
   "outputs": [],
   "source": [
    "#Use map to create new column\n",
    "df_titanic[\"Binary_Male\"] = df_titanic.Sex.map({\"male\":1, \"female\":0})\n",
    "\n",
    "df_titanic.head()"
   ]
  },
  {
   "cell_type": "markdown",
   "id": "3d11c881-4577-4632-9930-cc3b9ccfd88c",
   "metadata": {},
   "source": [
    "### Apply"
   ]
  },
  {
   "cell_type": "code",
   "execution_count": null,
   "id": "de229fa2-1c22-4aa2-9bce-474834ec9c6f",
   "metadata": {},
   "outputs": [],
   "source": [
    "#Using apply - axis =0\n",
    "import numpy as np\n",
    "\n",
    "df_titanic[[\"Age\", \"Fare\"]].apply(np.mean,axis=0)"
   ]
  },
  {
   "cell_type": "code",
   "execution_count": null,
   "id": "9edb84f9-6d21-4509-8e90-32b10a60e46f",
   "metadata": {},
   "outputs": [],
   "source": [
    "#Using apply - axis = 1\n",
    "df_titanic[[\"Age\", \"Fare\"]].apply(np.mean,axis=1).head()"
   ]
  },
  {
   "cell_type": "code",
   "execution_count": null,
   "id": "24666870-b0ed-4ca3-9d90-e66e389b58eb",
   "metadata": {},
   "outputs": [],
   "source": [
    "#Using apply with the round function\n",
    "rounded_cols = df_titanic[[\"Age\", \"Fare\"]].apply(np.round).head()\n",
    "rounded_cols.head()        "
   ]
  },
  {
   "cell_type": "code",
   "execution_count": null,
   "id": "fae8c6c1-72ed-4314-82fa-37dc3bf555bc",
   "metadata": {},
   "outputs": [],
   "source": [
    "def Get_Title(name):\n",
    "    \n",
    "    parsed_name = name.split(\" \")\n",
    "    for i in range(len(parsed_name)):\n",
    "        if \",\"  in parsed_name[i]:\n",
    "            return parsed_name[i+1]\n",
    "        \n",
    "    \n",
    "    return title\n",
    "\n",
    "\n",
    "\n",
    "#Add  in the new Title column\n",
    "df_titanic[\"Title\"] = df_titanic.Name.apply(Get_Title)\n",
    "\n",
    "df_titanic.head()"
   ]
  },
  {
   "cell_type": "code",
   "execution_count": null,
   "id": "c23f1271-cd27-415c-a15e-e1cc900f6203",
   "metadata": {},
   "outputs": [],
   "source": [
    "#Let's see the breakdown of each title\n",
    "df_titanic.Title.value_counts()"
   ]
  },
  {
   "cell_type": "markdown",
   "id": "edcfcf16-5dde-4cf5-9a06-58217bc3e4e4",
   "metadata": {},
   "source": [
    "### Iterrows"
   ]
  },
  {
   "cell_type": "code",
   "execution_count": 48,
   "id": "f91d5603-bb14-4a3d-843e-84a04eb92f38",
   "metadata": {},
   "outputs": [
    {
     "data": {
      "text/html": [
       "<div>\n",
       "<style scoped>\n",
       "    .dataframe tbody tr th:only-of-type {\n",
       "        vertical-align: middle;\n",
       "    }\n",
       "\n",
       "    .dataframe tbody tr th {\n",
       "        vertical-align: top;\n",
       "    }\n",
       "\n",
       "    .dataframe thead th {\n",
       "        text-align: right;\n",
       "    }\n",
       "</style>\n",
       "<table border=\"1\" class=\"dataframe\">\n",
       "  <thead>\n",
       "    <tr style=\"text-align: right;\">\n",
       "      <th></th>\n",
       "      <th>names</th>\n",
       "      <th>position</th>\n",
       "      <th>homeruns</th>\n",
       "    </tr>\n",
       "  </thead>\n",
       "  <tbody>\n",
       "    <tr>\n",
       "      <th>0</th>\n",
       "      <td>Chapman, Matt</td>\n",
       "      <td>3B</td>\n",
       "      <td>25</td>\n",
       "    </tr>\n",
       "    <tr>\n",
       "      <th>1</th>\n",
       "      <td>Olson, Matt</td>\n",
       "      <td>1B</td>\n",
       "      <td>30</td>\n",
       "    </tr>\n",
       "    <tr>\n",
       "      <th>2</th>\n",
       "      <td>Davis, Khris</td>\n",
       "      <td>OF</td>\n",
       "      <td>45</td>\n",
       "    </tr>\n",
       "  </tbody>\n",
       "</table>\n",
       "</div>"
      ],
      "text/plain": [
       "           names position  homeruns\n",
       "0  Chapman, Matt       3B        25\n",
       "1    Olson, Matt       1B        30\n",
       "2   Davis, Khris       OF        45"
      ]
     },
     "execution_count": 48,
     "metadata": {},
     "output_type": "execute_result"
    }
   ],
   "source": [
    "import pandas as pd\n",
    "\n",
    "#Create dataframe\n",
    "names = [\"Chapman, Matt\", \"Olson, Matt\", \"Davis, Khris\"]\n",
    "positions = [\"3B\", \"1B\", \"OF\"]\n",
    "hrs = [25,30,45]\n",
    "df_players = pd.DataFrame({\"names\":names, \"position\":positions, \"homeruns\":hrs})\n",
    "df_players"
   ]
  },
  {
   "cell_type": "raw",
   "id": "d2231034-a7d1-4845-8942-d083f90d5648",
   "metadata": {},
   "source": [
    "Add a column denoted whether the player is an all-star. We will say a player is an all-star if they play third base or outfield and have at least threshold_hr = 20 homeruns. If the player is an all-star the row in the new column should read \"all-star\" and otherwise it shoul read \"not selected\"."
   ]
  },
  {
   "cell_type": "code",
   "execution_count": 49,
   "id": "52980a9c-69b8-40e7-bb0e-b30deaed9736",
   "metadata": {},
   "outputs": [
    {
     "data": {
      "text/html": [
       "<div>\n",
       "<style scoped>\n",
       "    .dataframe tbody tr th:only-of-type {\n",
       "        vertical-align: middle;\n",
       "    }\n",
       "\n",
       "    .dataframe tbody tr th {\n",
       "        vertical-align: top;\n",
       "    }\n",
       "\n",
       "    .dataframe thead th {\n",
       "        text-align: right;\n",
       "    }\n",
       "</style>\n",
       "<table border=\"1\" class=\"dataframe\">\n",
       "  <thead>\n",
       "    <tr style=\"text-align: right;\">\n",
       "      <th></th>\n",
       "      <th>names</th>\n",
       "      <th>position</th>\n",
       "      <th>homeruns</th>\n",
       "      <th>all-star</th>\n",
       "    </tr>\n",
       "  </thead>\n",
       "  <tbody>\n",
       "    <tr>\n",
       "      <th>0</th>\n",
       "      <td>Chapman, Matt</td>\n",
       "      <td>3B</td>\n",
       "      <td>25</td>\n",
       "      <td>all-star</td>\n",
       "    </tr>\n",
       "    <tr>\n",
       "      <th>1</th>\n",
       "      <td>Olson, Matt</td>\n",
       "      <td>1B</td>\n",
       "      <td>30</td>\n",
       "      <td>not selectes</td>\n",
       "    </tr>\n",
       "    <tr>\n",
       "      <th>2</th>\n",
       "      <td>Davis, Khris</td>\n",
       "      <td>OF</td>\n",
       "      <td>45</td>\n",
       "      <td>all-star</td>\n",
       "    </tr>\n",
       "  </tbody>\n",
       "</table>\n",
       "</div>"
      ],
      "text/plain": [
       "           names position  homeruns      all-star\n",
       "0  Chapman, Matt       3B        25      all-star\n",
       "1    Olson, Matt       1B        30  not selectes\n",
       "2   Davis, Khris       OF        45      all-star"
      ]
     },
     "metadata": {},
     "output_type": "display_data"
    }
   ],
   "source": [
    "for index,row in df_players.iterrows():\n",
    "    position = row['position']\n",
    "    homeruns = row['homeruns']\n",
    "    if position in ['3B','OF'] and homeruns > 20:\n",
    "        df_players.loc[index, 'all-star'] = 'all-star'\n",
    "    else:\n",
    "        df_players.loc[index, 'all-star'] = 'not selectes'\n",
    "\n",
    "display(df_players)"
   ]
  },
  {
   "cell_type": "code",
   "execution_count": 50,
   "id": "59b30594-644f-4f2c-be5a-a64e36785e14",
   "metadata": {},
   "outputs": [
    {
     "data": {
      "text/html": [
       "<div>\n",
       "<style scoped>\n",
       "    .dataframe tbody tr th:only-of-type {\n",
       "        vertical-align: middle;\n",
       "    }\n",
       "\n",
       "    .dataframe tbody tr th {\n",
       "        vertical-align: top;\n",
       "    }\n",
       "\n",
       "    .dataframe thead th {\n",
       "        text-align: right;\n",
       "    }\n",
       "</style>\n",
       "<table border=\"1\" class=\"dataframe\">\n",
       "  <thead>\n",
       "    <tr style=\"text-align: right;\">\n",
       "      <th></th>\n",
       "      <th>names</th>\n",
       "      <th>position</th>\n",
       "      <th>homeruns</th>\n",
       "      <th>all-star</th>\n",
       "    </tr>\n",
       "  </thead>\n",
       "  <tbody>\n",
       "    <tr>\n",
       "      <th>0</th>\n",
       "      <td>Chapman, Matt</td>\n",
       "      <td>3B</td>\n",
       "      <td>25</td>\n",
       "      <td>all-star</td>\n",
       "    </tr>\n",
       "    <tr>\n",
       "      <th>1</th>\n",
       "      <td>Olson, Matt</td>\n",
       "      <td>1B</td>\n",
       "      <td>30</td>\n",
       "      <td>not selected</td>\n",
       "    </tr>\n",
       "    <tr>\n",
       "      <th>2</th>\n",
       "      <td>Davis, Khris</td>\n",
       "      <td>OF</td>\n",
       "      <td>45</td>\n",
       "      <td>all-star</td>\n",
       "    </tr>\n",
       "  </tbody>\n",
       "</table>\n",
       "</div>"
      ],
      "text/plain": [
       "           names position  homeruns      all-star\n",
       "0  Chapman, Matt       3B        25      all-star\n",
       "1    Olson, Matt       1B        30  not selected\n",
       "2   Davis, Khris       OF        45      all-star"
      ]
     },
     "execution_count": 50,
     "metadata": {},
     "output_type": "execute_result"
    }
   ],
   "source": [
    "df_players['all-star'] = df_players.apply(lambda row : 'all-star' if row['position'] in ['3B','OF'] and row['homeruns'] > 20\n",
    "                                          else 'not selected',axis =1)\n",
    "df_players"
   ]
  },
  {
   "cell_type": "markdown",
   "id": "ad9e68f8-091c-4d8a-ac11-ce19b62b627b",
   "metadata": {},
   "source": [
    "### Coef"
   ]
  },
  {
   "cell_type": "code",
   "execution_count": 3,
   "id": "cf4ae7cf-1563-4e54-a2a7-e4341bc7a3c4",
   "metadata": {},
   "outputs": [
    {
     "name": "stdout",
     "output_type": "stream",
     "text": [
      "The methods using corr() result :\n",
      "           Age      Fare\n",
      "Age   1.000000  0.337932\n",
      "Fare  0.337932  1.000000\n",
      "\n",
      "The more efficiency corr() methods: \n",
      "0.3379315845519922\n",
      "\n",
      "Correlation (Age vs. Pclass) using corrcoef: -0.4921427625708598\n",
      "\n",
      " using new list result :-0.4921427625708598\n",
      "\n",
      "\n",
      " using corr() methods if multiple parameter :\n",
      "Age       1.000000\n",
      "Fare      0.337932\n",
      "Pclass   -0.502919\n",
      "Name: Age, dtype: float64\n"
     ]
    }
   ],
   "source": [
    "import numpy as np\n",
    "# using corr() methods\n",
    "df_corr1 = df[['Age','Fare']].dropna().corr()\n",
    "print(f'The methods using corr() result :\\n{df_corr1}\\n')\n",
    "\n",
    "# corr() methods more efficiency, which automatically drop missing values\n",
    "df_corr2 = df['Age'].corr(df['Fare'])\n",
    "print(f'The more efficiency corr() methods: \\n{df_corr2}\\n')\n",
    "\n",
    "# using np.corrcoef() methods, directly using columns from df\n",
    "df_clean = df[['Age', 'Pclass']].dropna()\n",
    "\n",
    "corr2 = np.corrcoef(df_clean['Age'].values, df_clean['Pclass'].values)[0, 1]\n",
    "\n",
    "print(\"Correlation (Age vs. Pclass) using corrcoef:\", corr2 )\n",
    "\n",
    "#using np.corrcoef() methods using new list with iterrows()\n",
    "agelist = []\n",
    "pclasslist = []\n",
    "\n",
    "for _,row in df.iterrows():\n",
    "    age = row['Age']\n",
    "    pclass = row['Pclass']\n",
    "    if pd.notna(age):\n",
    "        agelist.append(age)\n",
    "        pclasslist.append(pclass)\n",
    "\n",
    "corr22 = np.corrcoef(agelist,pclasslist)[0,1]\n",
    "print(f'\\n using new list result :{corr22}\\n')\n",
    "\n",
    "# using corr() methods if you have two parameter to see the correlation to one parameter\n",
    "df_clean = df[['Age','Fare','Pclass']].dropna()\n",
    "corr3 = df_clean.corr()\n",
    "print(f'\\n using corr() methods if multiple parameter :\\n{corr3.loc['Age']}')"
   ]
  },
  {
   "cell_type": "raw",
   "id": "66a0bb14-f50d-4c95-bd52-bbb9584b0b70",
   "metadata": {},
   "source": [
    "# Practice:\n",
    "\n",
    "Ex 1. 计算 Fare 和 Pclass 的相关性\n",
    "\n",
    "Ex 2. 计算 survivor 和 Binary_sex 的相关性\n",
    "\n",
    "\n",
    "Ex 3. 计算 SibSp 和 Parch 的相关性\n",
    "\n",
    "Ex 4. 使用 np.corrcoef() 计算 Fare 和 survivor 的相关性\n",
    "\n",
    "Ex 5. 哪两个变量的相关性最高？（使用 .corr() + .abs() + .unstack() + .sort_values()）\n",
    "\n",
    "Ex 6. 使用 iterrows() 构造两个列表： fare and survivor\n",
    "\n",
    "Ex 7. 你能找出所有 Age < 10 且是 Pclass == 1 的乘客，打印他们的 Name, Age, Pclass 吗？\n",
    "\n",
    "Ex 8. 用 sns.heatmap() 可视化以下变量的相关性：\n",
    "\n",
    "Ex 9. 自定义函数 def corr_with(df, target_col):\n"
   ]
  },
  {
   "cell_type": "code",
   "execution_count": 5,
   "id": "674b10f5-29da-401a-9d82-4b98698791c0",
   "metadata": {
    "scrolled": true
   },
   "outputs": [
    {
     "data": {
      "text/html": [
       "<div>\n",
       "<style scoped>\n",
       "    .dataframe tbody tr th:only-of-type {\n",
       "        vertical-align: middle;\n",
       "    }\n",
       "\n",
       "    .dataframe tbody tr th {\n",
       "        vertical-align: top;\n",
       "    }\n",
       "\n",
       "    .dataframe thead th {\n",
       "        text-align: right;\n",
       "    }\n",
       "</style>\n",
       "<table border=\"1\" class=\"dataframe\">\n",
       "  <thead>\n",
       "    <tr style=\"text-align: right;\">\n",
       "      <th></th>\n",
       "      <th>PassengerId</th>\n",
       "      <th>Pclass</th>\n",
       "      <th>Name</th>\n",
       "      <th>Sex</th>\n",
       "      <th>Age</th>\n",
       "      <th>SibSp</th>\n",
       "      <th>Parch</th>\n",
       "      <th>Ticket</th>\n",
       "      <th>Fare</th>\n",
       "      <th>Cabin</th>\n",
       "      <th>Embarked</th>\n",
       "      <th>Binary_sex</th>\n",
       "    </tr>\n",
       "  </thead>\n",
       "  <tbody>\n",
       "    <tr>\n",
       "      <th>0</th>\n",
       "      <td>892</td>\n",
       "      <td>3</td>\n",
       "      <td>Kelly, Mr. James</td>\n",
       "      <td>male</td>\n",
       "      <td>34.5</td>\n",
       "      <td>0</td>\n",
       "      <td>0</td>\n",
       "      <td>330911</td>\n",
       "      <td>7.8292</td>\n",
       "      <td>NaN</td>\n",
       "      <td>Q</td>\n",
       "      <td>1</td>\n",
       "    </tr>\n",
       "    <tr>\n",
       "      <th>1</th>\n",
       "      <td>893</td>\n",
       "      <td>3</td>\n",
       "      <td>Wilkes, Mrs. James (Ellen Needs)</td>\n",
       "      <td>female</td>\n",
       "      <td>47.0</td>\n",
       "      <td>1</td>\n",
       "      <td>0</td>\n",
       "      <td>363272</td>\n",
       "      <td>7.0000</td>\n",
       "      <td>NaN</td>\n",
       "      <td>S</td>\n",
       "      <td>0</td>\n",
       "    </tr>\n",
       "    <tr>\n",
       "      <th>2</th>\n",
       "      <td>894</td>\n",
       "      <td>2</td>\n",
       "      <td>Myles, Mr. Thomas Francis</td>\n",
       "      <td>male</td>\n",
       "      <td>62.0</td>\n",
       "      <td>0</td>\n",
       "      <td>0</td>\n",
       "      <td>240276</td>\n",
       "      <td>9.6875</td>\n",
       "      <td>NaN</td>\n",
       "      <td>Q</td>\n",
       "      <td>1</td>\n",
       "    </tr>\n",
       "    <tr>\n",
       "      <th>3</th>\n",
       "      <td>895</td>\n",
       "      <td>3</td>\n",
       "      <td>Wirz, Mr. Albert</td>\n",
       "      <td>male</td>\n",
       "      <td>27.0</td>\n",
       "      <td>0</td>\n",
       "      <td>0</td>\n",
       "      <td>315154</td>\n",
       "      <td>8.6625</td>\n",
       "      <td>NaN</td>\n",
       "      <td>S</td>\n",
       "      <td>1</td>\n",
       "    </tr>\n",
       "    <tr>\n",
       "      <th>4</th>\n",
       "      <td>896</td>\n",
       "      <td>3</td>\n",
       "      <td>Hirvonen, Mrs. Alexander (Helga E Lindqvist)</td>\n",
       "      <td>female</td>\n",
       "      <td>22.0</td>\n",
       "      <td>1</td>\n",
       "      <td>1</td>\n",
       "      <td>3101298</td>\n",
       "      <td>12.2875</td>\n",
       "      <td>NaN</td>\n",
       "      <td>S</td>\n",
       "      <td>0</td>\n",
       "    </tr>\n",
       "    <tr>\n",
       "      <th>...</th>\n",
       "      <td>...</td>\n",
       "      <td>...</td>\n",
       "      <td>...</td>\n",
       "      <td>...</td>\n",
       "      <td>...</td>\n",
       "      <td>...</td>\n",
       "      <td>...</td>\n",
       "      <td>...</td>\n",
       "      <td>...</td>\n",
       "      <td>...</td>\n",
       "      <td>...</td>\n",
       "      <td>...</td>\n",
       "    </tr>\n",
       "    <tr>\n",
       "      <th>413</th>\n",
       "      <td>1305</td>\n",
       "      <td>3</td>\n",
       "      <td>Spector, Mr. Woolf</td>\n",
       "      <td>male</td>\n",
       "      <td>NaN</td>\n",
       "      <td>0</td>\n",
       "      <td>0</td>\n",
       "      <td>A.5. 3236</td>\n",
       "      <td>8.0500</td>\n",
       "      <td>NaN</td>\n",
       "      <td>S</td>\n",
       "      <td>1</td>\n",
       "    </tr>\n",
       "    <tr>\n",
       "      <th>414</th>\n",
       "      <td>1306</td>\n",
       "      <td>1</td>\n",
       "      <td>Oliva y Ocana, Dona. Fermina</td>\n",
       "      <td>female</td>\n",
       "      <td>39.0</td>\n",
       "      <td>0</td>\n",
       "      <td>0</td>\n",
       "      <td>PC 17758</td>\n",
       "      <td>108.9000</td>\n",
       "      <td>C105</td>\n",
       "      <td>C</td>\n",
       "      <td>0</td>\n",
       "    </tr>\n",
       "    <tr>\n",
       "      <th>415</th>\n",
       "      <td>1307</td>\n",
       "      <td>3</td>\n",
       "      <td>Saether, Mr. Simon Sivertsen</td>\n",
       "      <td>male</td>\n",
       "      <td>38.5</td>\n",
       "      <td>0</td>\n",
       "      <td>0</td>\n",
       "      <td>SOTON/O.Q. 3101262</td>\n",
       "      <td>7.2500</td>\n",
       "      <td>NaN</td>\n",
       "      <td>S</td>\n",
       "      <td>1</td>\n",
       "    </tr>\n",
       "    <tr>\n",
       "      <th>416</th>\n",
       "      <td>1308</td>\n",
       "      <td>3</td>\n",
       "      <td>Ware, Mr. Frederick</td>\n",
       "      <td>male</td>\n",
       "      <td>NaN</td>\n",
       "      <td>0</td>\n",
       "      <td>0</td>\n",
       "      <td>359309</td>\n",
       "      <td>8.0500</td>\n",
       "      <td>NaN</td>\n",
       "      <td>S</td>\n",
       "      <td>1</td>\n",
       "    </tr>\n",
       "    <tr>\n",
       "      <th>417</th>\n",
       "      <td>1309</td>\n",
       "      <td>3</td>\n",
       "      <td>Peter, Master. Michael J</td>\n",
       "      <td>male</td>\n",
       "      <td>NaN</td>\n",
       "      <td>1</td>\n",
       "      <td>1</td>\n",
       "      <td>2668</td>\n",
       "      <td>22.3583</td>\n",
       "      <td>NaN</td>\n",
       "      <td>C</td>\n",
       "      <td>1</td>\n",
       "    </tr>\n",
       "  </tbody>\n",
       "</table>\n",
       "<p>418 rows × 12 columns</p>\n",
       "</div>"
      ],
      "text/plain": [
       "     PassengerId  Pclass                                          Name  \\\n",
       "0            892       3                              Kelly, Mr. James   \n",
       "1            893       3              Wilkes, Mrs. James (Ellen Needs)   \n",
       "2            894       2                     Myles, Mr. Thomas Francis   \n",
       "3            895       3                              Wirz, Mr. Albert   \n",
       "4            896       3  Hirvonen, Mrs. Alexander (Helga E Lindqvist)   \n",
       "..           ...     ...                                           ...   \n",
       "413         1305       3                            Spector, Mr. Woolf   \n",
       "414         1306       1                  Oliva y Ocana, Dona. Fermina   \n",
       "415         1307       3                  Saether, Mr. Simon Sivertsen   \n",
       "416         1308       3                           Ware, Mr. Frederick   \n",
       "417         1309       3                      Peter, Master. Michael J   \n",
       "\n",
       "        Sex   Age  SibSp  Parch              Ticket      Fare Cabin Embarked  \\\n",
       "0      male  34.5      0      0              330911    7.8292   NaN        Q   \n",
       "1    female  47.0      1      0              363272    7.0000   NaN        S   \n",
       "2      male  62.0      0      0              240276    9.6875   NaN        Q   \n",
       "3      male  27.0      0      0              315154    8.6625   NaN        S   \n",
       "4    female  22.0      1      1             3101298   12.2875   NaN        S   \n",
       "..      ...   ...    ...    ...                 ...       ...   ...      ...   \n",
       "413    male   NaN      0      0           A.5. 3236    8.0500   NaN        S   \n",
       "414  female  39.0      0      0            PC 17758  108.9000  C105        C   \n",
       "415    male  38.5      0      0  SOTON/O.Q. 3101262    7.2500   NaN        S   \n",
       "416    male   NaN      0      0              359309    8.0500   NaN        S   \n",
       "417    male   NaN      1      1                2668   22.3583   NaN        C   \n",
       "\n",
       "     Binary_sex  \n",
       "0             1  \n",
       "1             0  \n",
       "2             1  \n",
       "3             1  \n",
       "4             0  \n",
       "..          ...  \n",
       "413           1  \n",
       "414           0  \n",
       "415           1  \n",
       "416           1  \n",
       "417           1  \n",
       "\n",
       "[418 rows x 12 columns]"
      ]
     },
     "execution_count": 5,
     "metadata": {},
     "output_type": "execute_result"
    }
   ],
   "source": [
    "df['Binary_sex'] = df.Sex.map({\"male\":1, \"female\":0})\n"
   ]
  },
  {
   "cell_type": "code",
   "execution_count": 8,
   "id": "2bab34da-e747-4e87-b372-a0b692c2f52c",
   "metadata": {},
   "outputs": [],
   "source": [
    "def survivor(row):\n",
    "    if row['Age'] < 15:\n",
    "        return 0\n",
    "    elif row['Sex'] == 'female':\n",
    "        return 0\n",
    "    else:\n",
    "        return 1\n",
    "\n",
    "df['survivor'] = df.apply(survivor, axis=1)"
   ]
  },
  {
   "cell_type": "code",
   "execution_count": 9,
   "id": "35f33fda-2b35-4c74-ad4b-62011c0a35b8",
   "metadata": {},
   "outputs": [
    {
     "name": "stdout",
     "output_type": "stream",
     "text": [
      "Question 1\n",
      "The correlation between Fare and Pclass is -0.5771473123362401\n",
      "\n",
      "Question 2\n",
      "The correlation between survivor and binary sex is             survivor  Binary_sex\n",
      "survivor    1.000000    0.908514\n",
      "Binary_sex  0.908514    1.000000\n",
      "\n",
      "Question 3\n",
      "The correlation between SibSp and Parch is  0.30689461547590013\n",
      "\n",
      "Question 4\n",
      "The correlation between Fare and survivor is -0.1994661878721102\n",
      "\n",
      "Question 5\n",
      "Age         Age           1.000000\n",
      "Fare        Fare          1.000000\n",
      "survivor    survivor      1.000000\n",
      "Parch       Parch         1.000000\n",
      "Pclass      Pclass        1.000000\n",
      "SibSp       SibSp         1.000000\n",
      "Binary_sex  Binary_sex    1.000000\n",
      "            survivor      0.908514\n",
      "survivor    Binary_sex    0.908514\n",
      "Pclass      Fare          0.577147\n",
      "Fare        Pclass        0.577147\n",
      "Pclass      Age           0.492143\n",
      "Age         Pclass        0.492143\n",
      "Fare        Age           0.337932\n",
      "Age         Fare          0.337932\n",
      "Parch       SibSp         0.306895\n",
      "SibSp       Parch         0.306895\n",
      "survivor    Parch         0.242775\n",
      "Parch       survivor      0.242775\n",
      "Fare        Parch         0.230046\n",
      "Parch       Fare          0.230046\n",
      "survivor    SibSp         0.214583\n",
      "SibSp       survivor      0.214583\n",
      "Fare        survivor      0.199466\n",
      "survivor    Fare          0.199466\n",
      "Binary_sex  Fare          0.191514\n",
      "Fare        Binary_sex    0.191514\n",
      "Age         survivor      0.180550\n",
      "survivor    Age           0.180550\n",
      "SibSp       Fare          0.171539\n",
      "Fare        SibSp         0.171539\n",
      "Binary_sex  Parch         0.159120\n",
      "Parch       Binary_sex    0.159120\n",
      "Pclass      Binary_sex    0.108615\n",
      "Binary_sex  Pclass        0.108615\n",
      "            SibSp         0.099943\n",
      "SibSp       Binary_sex    0.099943\n",
      "Age         SibSp         0.091587\n",
      "SibSp       Age           0.091587\n",
      "survivor    Pclass        0.066023\n",
      "Pclass      survivor      0.066023\n",
      "Parch       Age           0.061249\n",
      "Age         Parch         0.061249\n",
      "Parch       Pclass        0.018721\n",
      "Pclass      Parch         0.018721\n",
      "SibSp       Pclass        0.001087\n",
      "Pclass      SibSp         0.001087\n",
      "Binary_sex  Age           0.000013\n",
      "Age         Binary_sex    0.000013\n",
      "dtype: float64\n",
      "\n",
      "Question 6\n",
      "The correlation between Fare and survivor is -0.1994661878721102\n",
      "\n",
      "Question 7\n"
     ]
    },
    {
     "data": {
      "text/html": [
       "<div>\n",
       "<style scoped>\n",
       "    .dataframe tbody tr th:only-of-type {\n",
       "        vertical-align: middle;\n",
       "    }\n",
       "\n",
       "    .dataframe tbody tr th {\n",
       "        vertical-align: top;\n",
       "    }\n",
       "\n",
       "    .dataframe thead th {\n",
       "        text-align: right;\n",
       "    }\n",
       "</style>\n",
       "<table border=\"1\" class=\"dataframe\">\n",
       "  <thead>\n",
       "    <tr style=\"text-align: right;\">\n",
       "      <th></th>\n",
       "      <th>Age</th>\n",
       "      <th>Name</th>\n",
       "      <th>Pclass</th>\n",
       "    </tr>\n",
       "  </thead>\n",
       "  <tbody>\n",
       "    <tr>\n",
       "      <th>64</th>\n",
       "      <td>13.0</td>\n",
       "      <td>Ryerson, Master. John Borie</td>\n",
       "      <td>1</td>\n",
       "    </tr>\n",
       "    <tr>\n",
       "      <th>182</th>\n",
       "      <td>18.0</td>\n",
       "      <td>Marvin, Mrs. Daniel Warner (Mary Graham Carmic...</td>\n",
       "      <td>1</td>\n",
       "    </tr>\n",
       "    <tr>\n",
       "      <th>196</th>\n",
       "      <td>6.0</td>\n",
       "      <td>Spedden, Master. Robert Douglas</td>\n",
       "      <td>1</td>\n",
       "    </tr>\n",
       "    <tr>\n",
       "      <th>395</th>\n",
       "      <td>18.0</td>\n",
       "      <td>Smith, Mrs. Lucien Philip (Mary Eloise Hughes)</td>\n",
       "      <td>1</td>\n",
       "    </tr>\n",
       "    <tr>\n",
       "      <th>403</th>\n",
       "      <td>17.0</td>\n",
       "      <td>Carrau, Mr. Jose Pedro</td>\n",
       "      <td>1</td>\n",
       "    </tr>\n",
       "  </tbody>\n",
       "</table>\n",
       "</div>"
      ],
      "text/plain": [
       "      Age                                               Name  Pclass\n",
       "64   13.0                        Ryerson, Master. John Borie       1\n",
       "182  18.0  Marvin, Mrs. Daniel Warner (Mary Graham Carmic...       1\n",
       "196   6.0                    Spedden, Master. Robert Douglas       1\n",
       "395  18.0     Smith, Mrs. Lucien Philip (Mary Eloise Hughes)       1\n",
       "403  17.0                             Carrau, Mr. Jose Pedro       1"
      ]
     },
     "metadata": {},
     "output_type": "display_data"
    },
    {
     "name": "stdout",
     "output_type": "stream",
     "text": [
      "\n",
      "Question 8\n"
     ]
    },
    {
     "data": {
      "image/png": "[encoded data removed]",
      "text/plain": [
       "<Figure size 800x600 with 2 Axes>"
      ]
     },
     "metadata": {},
     "output_type": "display_data"
    },
    {
     "name": "stdout",
     "output_type": "stream",
     "text": [
      "\n",
      "Question 9\n",
      "\n",
      "Correlation with Age:\n",
      "Age            1.000000\n",
      "Fare           0.337932\n",
      "survivor       0.176262\n",
      "Binary_sex    -0.005104\n",
      "PassengerId   -0.031379\n",
      "Parch         -0.058506\n",
      "SibSp         -0.088679\n",
      "Pclass        -0.502919\n",
      "Name: Age, dtype: float64\n",
      "\n",
      "Correlation with Fare:\n",
      "Fare           1.000000\n",
      "Age            0.337932\n",
      "Parch          0.246088\n",
      "SibSp          0.151836\n",
      "PassengerId    0.013272\n",
      "survivor      -0.192324\n",
      "Binary_sex    -0.192672\n",
      "Pclass        -0.585726\n",
      "Name: Fare, dtype: float64\n"
     ]
    }
   ],
   "source": [
    "#1\n",
    "print('Question 1')\n",
    "q1 = df['Fare'].corr(df['Pclass'])\n",
    "print('The correlation between Fare and Pclass is',q1)\n",
    "\n",
    "#2\n",
    "\n",
    "print('\\n'+'Question 2')\n",
    "q2 = df[['survivor','Binary_sex']].dropna().corr()\n",
    "print('The correlation between survivor and binary sex is',q2)\n",
    "\n",
    "#3\n",
    "\n",
    "print('\\n'+'Question 3')\n",
    "q3 = df['SibSp'].corr(df['Parch'])\n",
    "print('The correlation between SibSp and Parch is ',q3)\n",
    "\n",
    "#4\n",
    "print('\\n'+'Question 4')\n",
    "df_clean = df[['Fare','survivor']].dropna()\n",
    "q4 = np.corrcoef(df_clean['Fare'].values,df_clean['survivor'].values)[0,1]\n",
    "print('The correlation between Fare and survivor is',q4)\n",
    "\n",
    "#5 dont understand what unstack() mean\n",
    "print('\\n'+'Question 5')\n",
    "corr_matrix = df[['Age','Fare','Pclass','SibSp','Parch','survivor','Binary_sex']].corr()\n",
    "top_corr = corr_matrix.abs().unstack().sort_values(ascending=False)\n",
    "print(top_corr)\n",
    "\n",
    "#6 \n",
    "print('\\n'+'Question 6')\n",
    "farelist = []\n",
    "survivorlist = []\n",
    "for index,row in df.iterrows():\n",
    "    fare = row['Fare']\n",
    "    survivor = row['survivor']\n",
    "    if pd.notna(fare):\n",
    "        farelist.append(fare)\n",
    "        survivorlist.append(survivor)\n",
    "\n",
    "q6 = np.corrcoef(farelist,survivorlist)[0,1]\n",
    "print('The correlation between Fare and survivor is',q6)\n",
    "\n",
    "#7\n",
    "print('\\n'+'Question 7')\n",
    "dfcopy = df[(df['Age']<20) & (df['Pclass'] == 1)]\n",
    "display(dfcopy[['Age','Name','Pclass']])\n",
    "\n",
    "#8\n",
    "print('\\n'+'Question 8')\n",
    "import seaborn as sns\n",
    "import matplotlib.pyplot as plt\n",
    "cols = ['Age', 'Fare', 'Pclass', 'SibSp', 'Parch', 'survivor', 'Binary_sex']\n",
    "df_corr = df[cols].corr()\n",
    "\n",
    "plt.figure(figsize = (8,6))\n",
    "sns.heatmap(df_corr, annot = True, cmap = 'coolwarm', fmt= '.2f')\n",
    "plt.title('Correlation Map')\n",
    "plt.show()\n",
    "\n",
    "#9\n",
    "print('\\n'+'Question 9')\n",
    "def corr_with(df, target_col):\n",
    "    numeric_cols = df.select_dtypes(include=['number']).columns.tolist()\n",
    "    numeric_cols = [col for col in numeric_cols if col != target_col]\n",
    "    df_clean = df[[target_col]+numeric_cols].dropna()\n",
    "    corr_metrix = df_clean.corr()\n",
    "    return corr_metrix.loc[target_col]\n",
    "\n",
    "for target in ['Age', 'Fare']:\n",
    "    print(f\"\\nCorrelation with {target}:\")\n",
    "    print(corr_with(df, target).sort_values(ascending=False))"
   ]
  },
  {
   "cell_type": "code",
   "execution_count": null,
   "id": "fffc3f88-7f88-4f42-a380-03b3c62864b0",
   "metadata": {},
   "outputs": [],
   "source": []
  },
  {
   "cell_type": "code",
   "execution_count": null,
   "id": "ffcc7521-ef9f-4e83-b806-bb584f0fa278",
   "metadata": {},
   "outputs": [],
   "source": []
  },
  {
   "cell_type": "markdown",
   "id": "02c082ac-6561-4f1a-9b6e-cc0a6beea9fe",
   "metadata": {},
   "source": [
    "# Lab 10\n",
    "## Matplotlib / Visualization"
   ]
  },
  {
   "cell_type": "code",
   "execution_count": 52,
   "id": "8fc0431e-e921-4d11-aedc-8249154805da",
   "metadata": {},
   "outputs": [
    {
     "data": {
      "text/html": [
       "<div>\n",
       "<style scoped>\n",
       "    .dataframe tbody tr th:only-of-type {\n",
       "        vertical-align: middle;\n",
       "    }\n",
       "\n",
       "    .dataframe tbody tr th {\n",
       "        vertical-align: top;\n",
       "    }\n",
       "\n",
       "    .dataframe thead th {\n",
       "        text-align: right;\n",
       "    }\n",
       "</style>\n",
       "<table border=\"1\" class=\"dataframe\">\n",
       "  <thead>\n",
       "    <tr style=\"text-align: right;\">\n",
       "      <th></th>\n",
       "      <th>car_name</th>\n",
       "      <th>mpg</th>\n",
       "      <th>cyl</th>\n",
       "      <th>disp</th>\n",
       "      <th>hp</th>\n",
       "      <th>drat</th>\n",
       "      <th>wt</th>\n",
       "      <th>qsec</th>\n",
       "      <th>vs</th>\n",
       "      <th>am</th>\n",
       "      <th>gear</th>\n",
       "      <th>carb</th>\n",
       "    </tr>\n",
       "  </thead>\n",
       "  <tbody>\n",
       "    <tr>\n",
       "      <th>0</th>\n",
       "      <td>Lincoln Continental</td>\n",
       "      <td>10.4</td>\n",
       "      <td>8</td>\n",
       "      <td>460.0</td>\n",
       "      <td>215</td>\n",
       "      <td>3.00</td>\n",
       "      <td>5.424</td>\n",
       "      <td>17.82</td>\n",
       "      <td>0</td>\n",
       "      <td>0</td>\n",
       "      <td>3</td>\n",
       "      <td>4</td>\n",
       "    </tr>\n",
       "    <tr>\n",
       "      <th>1</th>\n",
       "      <td>Dodge Challenger</td>\n",
       "      <td>15.5</td>\n",
       "      <td>8</td>\n",
       "      <td>318.0</td>\n",
       "      <td>150</td>\n",
       "      <td>2.76</td>\n",
       "      <td>3.520</td>\n",
       "      <td>16.87</td>\n",
       "      <td>0</td>\n",
       "      <td>0</td>\n",
       "      <td>3</td>\n",
       "      <td>2</td>\n",
       "    </tr>\n",
       "    <tr>\n",
       "      <th>2</th>\n",
       "      <td>Toyota Corona</td>\n",
       "      <td>21.5</td>\n",
       "      <td>4</td>\n",
       "      <td>120.1</td>\n",
       "      <td>97</td>\n",
       "      <td>3.70</td>\n",
       "      <td>2.465</td>\n",
       "      <td>20.01</td>\n",
       "      <td>1</td>\n",
       "      <td>0</td>\n",
       "      <td>3</td>\n",
       "      <td>1</td>\n",
       "    </tr>\n",
       "    <tr>\n",
       "      <th>3</th>\n",
       "      <td>Pontiac Firebird</td>\n",
       "      <td>19.2</td>\n",
       "      <td>8</td>\n",
       "      <td>400.0</td>\n",
       "      <td>175</td>\n",
       "      <td>3.08</td>\n",
       "      <td>3.845</td>\n",
       "      <td>17.05</td>\n",
       "      <td>0</td>\n",
       "      <td>0</td>\n",
       "      <td>3</td>\n",
       "      <td>2</td>\n",
       "    </tr>\n",
       "    <tr>\n",
       "      <th>4</th>\n",
       "      <td>Chrysler Imperial</td>\n",
       "      <td>14.7</td>\n",
       "      <td>8</td>\n",
       "      <td>440.0</td>\n",
       "      <td>230</td>\n",
       "      <td>3.23</td>\n",
       "      <td>5.345</td>\n",
       "      <td>17.42</td>\n",
       "      <td>0</td>\n",
       "      <td>0</td>\n",
       "      <td>3</td>\n",
       "      <td>4</td>\n",
       "    </tr>\n",
       "  </tbody>\n",
       "</table>\n",
       "</div>"
      ],
      "text/plain": [
       "              car_name   mpg  cyl   disp   hp  drat     wt   qsec  vs  am  \\\n",
       "0  Lincoln Continental  10.4    8  460.0  215  3.00  5.424  17.82   0   0   \n",
       "1     Dodge Challenger  15.5    8  318.0  150  2.76  3.520  16.87   0   0   \n",
       "2        Toyota Corona  21.5    4  120.1   97  3.70  2.465  20.01   1   0   \n",
       "3     Pontiac Firebird  19.2    8  400.0  175  3.08  3.845  17.05   0   0   \n",
       "4    Chrysler Imperial  14.7    8  440.0  230  3.23  5.345  17.42   0   0   \n",
       "\n",
       "   gear  carb  \n",
       "0     3     4  \n",
       "1     3     2  \n",
       "2     3     1  \n",
       "3     3     2  \n",
       "4     3     4  "
      ]
     },
     "execution_count": 52,
     "metadata": {},
     "output_type": "execute_result"
    }
   ],
   "source": [
    "import pandas as pd\n",
    "import matplotlib.pyplot as plt\n",
    "\n",
    "\n",
    "#Read in data frame - Note the new style \"bmh\"\n",
    "plt.style.use(\"ggplot\") # 'classic'...\n",
    "#matplotlib.use(\"nbagg\")\n",
    "df_cars = pd.read_csv(\"Lab 10 Documents/Data/mtcars.csv\")\n",
    "\n",
    "#I am sorting so I can slice out the automatic and manual calls.\n",
    "df_cars_sorted = df_cars.sort_values(by=\"am\").reset_index(drop = True)\n",
    "df_cars_sorted.head()"
   ]
  },
  {
   "cell_type": "markdown",
   "id": "b21edc72-80a8-4bc3-af47-1f181f8cd52b",
   "metadata": {},
   "source": [
    "### single plot"
   ]
  },
  {
   "cell_type": "code",
   "execution_count": 59,
   "id": "b94c3d37-61a9-4bb7-85a9-50011dae5ea2",
   "metadata": {},
   "outputs": [
    {
     "data": {
      "text/plain": [
       "<module 'matplotlib.pyplot' from '/opt/anaconda3/lib/python3.12/site-packages/matplotlib/pyplot.py'>"
      ]
     },
     "execution_count": 59,
     "metadata": {},
     "output_type": "execute_result"
    },
    {
     "data": {
      "text/plain": [
       "<Figure size 480x320 with 0 Axes>"
      ]
     },
     "metadata": {},
     "output_type": "display_data"
    },
    {
     "data": {
      "image/png": "[encoded data removed]",
      "text/plain": [
       "<Figure size 640x480 with 1 Axes>"
      ]
     },
     "metadata": {},
     "output_type": "display_data"
    }
   ],
   "source": [
    "#Create figure and axis\n",
    "plt.style.use('classic')\n",
    "plt.figure(figsize = (6,4))\n",
    "df_cars_sorted.plot(kind = 'scatter',title = 'hp vs mpg', x='hp', y='mpg',color = 'b')\n",
    "plt"
   ]
  },
  {
   "cell_type": "markdown",
   "id": "80e0e11b-1fbc-4d1c-91e2-2bdc8943f40c",
   "metadata": {},
   "source": [
    "### nrows and ncols plot"
   ]
  },
  {
   "cell_type": "code",
   "execution_count": 53,
   "id": "dd6a32eb-4d24-4de8-9af2-ff27e36fd422",
   "metadata": {},
   "outputs": [],
   "source": [
    "#Get automatic (am=0) versus manual (am=1) cars.  We will see a faster way to do this using SQL.\n",
    "df_cars_auto = df_cars_sorted.loc[0:18,:]\n",
    "df_cars_man = df_cars_sorted.loc[19:,:]"
   ]
  },
  {
   "cell_type": "code",
   "execution_count": 54,
   "id": "522e9327-8886-4bd0-95f2-aceb2a51afce",
   "metadata": {},
   "outputs": [
    {
     "data": {
      "text/plain": [
       "Text(0.5, 0.98, 'Understanding the Effect of Horspower on other Features')"
      ]
     },
     "execution_count": 54,
     "metadata": {},
     "output_type": "execute_result"
    },
    {
     "data": {
      "image/png": "[encoded data removed]",
      "text/plain": [
       "<Figure size 1500x500 with 3 Axes>"
      ]
     },
     "metadata": {},
     "output_type": "display_data"
    }
   ],
   "source": [
    "#Create figure and get the axes\n",
    "\n",
    "fig, (ax0,ax1,ax2) = plt.subplots(nrows = 1, ncols = 3, figsize = (15,5))\n",
    "#Add title for entire figure\n",
    "fig.suptitle(\"Understanding the Effect of Horspower on other Features\")"
   ]
  },
  {
   "cell_type": "code",
   "execution_count": 55,
   "id": "97dd1d8b-f0e9-4ecb-9d01-7c3ed4be1da6",
   "metadata": {},
   "outputs": [],
   "source": [
    "df_cars_auto.plot(kind = 'scatter',x = 'hp', y = 'mpg', color = 'b', label = 'auto', ax = ax0)\n",
    "df_cars_man.plot(kind = 'scatter', x ='hp',y='mpg',color ='r',label = 'manual',ax = ax0)\n",
    "ax0.set(title = 'hp vs. mpg',xlabel = 'horsepower', ylabel = 'miles per gallon')\n",
    "ax0.grid(False)\n",
    "# ax0.grid(True, color='gray', linestyle='--', linewidth=0.5)\n",
    "ax0.set_facecolor('White')\n"
   ]
  },
  {
   "cell_type": "code",
   "execution_count": 56,
   "id": "81288421-e8c0-4fca-8ad8-bda4ecd9682d",
   "metadata": {},
   "outputs": [],
   "source": [
    "df_cars_auto.plot(kind = 'scatter', x = 'hp', y='disp',color = 'b',label = 'auto',ax = ax1)\n",
    "df_cars_man.plot(kind = 'scatter', x = 'hp', y='disp',color = 'r',label = 'manual',ax = ax1)\n",
    "ax1.set(title = 'hp vs. disp', xlabel = 'horsepower', ylabel = 'dispersion')\n",
    "ax1.grid(False)\n",
    "ax1.set_facecolor('grey')\n",
    "# ax1.get_xlim(10,35) or ax1.get_ylim(0,5)\n",
    "\n",
    "df_cars_auto.plot(kind = 'scatter', x = 'hp', y='qsec',color = 'b',label = 'auto',ax = ax2)\n",
    "df_cars_man.plot(kind = 'scatter', x = 'hp', y='qsec',color = 'r',label = 'manual',ax = ax2)\n",
    "ax2.set(title = 'hp vs. qsec', xlabel = 'horsepower', ylabel = '1/4 mile time (sec)')\n",
    "ax2.grid(False)\n",
    "ax2.set_facecolor('pink')"
   ]
  },
  {
   "cell_type": "code",
   "execution_count": null,
   "id": "c03d0b30-35da-44ba-a077-f73d912c82cf",
   "metadata": {},
   "outputs": [],
   "source": [
    "#Let's look at the current figure\n",
    "fig"
   ]
  },
  {
   "cell_type": "code",
   "execution_count": 57,
   "id": "ffb4f260-9b31-4c87-a5a6-1ce4b971f464",
   "metadata": {},
   "outputs": [
    {
     "data": {
      "image/png": "[encoded data removed]",
      "text/plain": [
       "<Figure size 1500x500 with 3 Axes>"
      ]
     },
     "execution_count": 57,
     "metadata": {},
     "output_type": "execute_result"
    }
   ],
   "source": [
    "#Compute the two means\n",
    "mean_mpg_auto = df_cars_auto.mpg.mean()\n",
    "mean_mpg_man = df_cars_man.mpg.mean()\n",
    "\n",
    "#Draw the two lines\n",
    "ax0.axhline(mean_mpg_auto, color = \"b\", linestyle = \"--\")\n",
    "ax0.axhline(mean_mpg_man, color = \"r\", linestyle = \"--\")\n",
    "\n",
    "fig"
   ]
  },
  {
   "cell_type": "code",
   "execution_count": null,
   "id": "b9e334d5-6bdd-48a4-b202-0029ecb7a329",
   "metadata": {},
   "outputs": [],
   "source": [
    "#Saving the figure to png\n",
    "fig.savefig(\"carplots.png\", bbox_inches = \"tight\")"
   ]
  },
  {
   "cell_type": "markdown",
   "id": "5a429232-5d71-4a3c-b4ff-e5d4e2c2222c",
   "metadata": {},
   "source": [
    "### sharey one"
   ]
  },
  {
   "cell_type": "code",
   "execution_count": 60,
   "id": "e90947d6-05d9-46f9-9397-9c65a4310e35",
   "metadata": {},
   "outputs": [
    {
     "data": {
      "text/html": [
       "<div>\n",
       "<style scoped>\n",
       "    .dataframe tbody tr th:only-of-type {\n",
       "        vertical-align: middle;\n",
       "    }\n",
       "\n",
       "    .dataframe tbody tr th {\n",
       "        vertical-align: top;\n",
       "    }\n",
       "\n",
       "    .dataframe thead th {\n",
       "        text-align: right;\n",
       "    }\n",
       "</style>\n",
       "<table border=\"1\" class=\"dataframe\">\n",
       "  <thead>\n",
       "    <tr style=\"text-align: right;\">\n",
       "      <th></th>\n",
       "      <th>Industry</th>\n",
       "      <th>Avg_GMAT</th>\n",
       "      <th>Avg_Age</th>\n",
       "      <th>Avg_Job_Months</th>\n",
       "    </tr>\n",
       "  </thead>\n",
       "  <tbody>\n",
       "    <tr>\n",
       "      <th>0</th>\n",
       "      <td>Accounting</td>\n",
       "      <td>657.555379</td>\n",
       "      <td>28.445946</td>\n",
       "      <td>60.108108</td>\n",
       "    </tr>\n",
       "    <tr>\n",
       "      <th>1</th>\n",
       "      <td>Advertising/Marketing Services</td>\n",
       "      <td>633.750000</td>\n",
       "      <td>29.625000</td>\n",
       "      <td>71.750000</td>\n",
       "    </tr>\n",
       "    <tr>\n",
       "      <th>2</th>\n",
       "      <td>Aerospace</td>\n",
       "      <td>674.683303</td>\n",
       "      <td>28.635116</td>\n",
       "      <td>60.818182</td>\n",
       "    </tr>\n",
       "    <tr>\n",
       "      <th>3</th>\n",
       "      <td>Agribusiness</td>\n",
       "      <td>636.666667</td>\n",
       "      <td>28.611111</td>\n",
       "      <td>52.444444</td>\n",
       "    </tr>\n",
       "    <tr>\n",
       "      <th>4</th>\n",
       "      <td>Auto/Transportation</td>\n",
       "      <td>643.480908</td>\n",
       "      <td>30.118421</td>\n",
       "      <td>69.500000</td>\n",
       "    </tr>\n",
       "  </tbody>\n",
       "</table>\n",
       "</div>"
      ],
      "text/plain": [
       "                         Industry    Avg_GMAT    Avg_Age  Avg_Job_Months\n",
       "0                      Accounting  657.555379  28.445946       60.108108\n",
       "1  Advertising/Marketing Services  633.750000  29.625000       71.750000\n",
       "2                       Aerospace  674.683303  28.635116       60.818182\n",
       "3                    Agribusiness  636.666667  28.611111       52.444444\n",
       "4             Auto/Transportation  643.480908  30.118421       69.500000"
      ]
     },
     "execution_count": 60,
     "metadata": {},
     "output_type": "execute_result"
    }
   ],
   "source": [
    "df_MBA = pd.read_csv(\"Lab 10 Documents/data/MBA_Stats.csv\", index_col=0)\n",
    "df_MBA.head()"
   ]
  },
  {
   "cell_type": "code",
   "execution_count": 61,
   "id": "cd974df9-4da3-4f58-ac9b-74c38f095e03",
   "metadata": {
    "scrolled": true
   },
   "outputs": [
    {
     "data": {
      "text/plain": [
       "Text(0.5, 0.98, 'MBA Applicant Statistics by Industry')"
      ]
     },
     "execution_count": 61,
     "metadata": {},
     "output_type": "execute_result"
    },
    {
     "data": {
      "image/png": "[encoded data removed]",
      "text/plain": [
       "<Figure size 800x800 with 3 Axes>"
      ]
     },
     "metadata": {},
     "output_type": "display_data"
    }
   ],
   "source": [
    "plt.style.use('ggplot')\n",
    "fig,(ax0,ax1,ax2) = plt.subplots(1,3,figsize = (10,10),sharey=True)\n",
    "fig.suptitle('MBA Applicant Statistics by Industry')"
   ]
  },
  {
   "cell_type": "code",
   "execution_count": 62,
   "id": "1412ab7e-6ca8-4742-94a6-7abf52995a04",
   "metadata": {},
   "outputs": [],
   "source": [
    "df = df_MBA.set_index(df_MBA['Industry'])"
   ]
  },
  {
   "cell_type": "code",
   "execution_count": 63,
   "id": "262e63f3-9254-4281-b867-f54a8eb38d65",
   "metadata": {
    "scrolled": true
   },
   "outputs": [
    {
     "data": {
      "image/png": "[encoded data removed]",
      "text/plain": [
       "<Figure size 800x800 with 3 Axes>"
      ]
     },
     "execution_count": 63,
     "metadata": {},
     "output_type": "execute_result"
    }
   ],
   "source": [
    "df.plot(kind = 'barh', color = 'red',y = 'Avg_GMAT',ax = ax0)\n",
    "ax0.set(xlabel = 'Avg. GMAT Score',ylabel = 'Industry',title = 'GMAT')\n",
    "ax0.set_xlim(600,680)\n",
    "\n",
    "df.plot(kind = 'barh',y = 'Avg_Age',color = 'blue',ax = ax1)\n",
    "ax1.set(title = 'Age', xlabel = 'Avg.Age')\n",
    "ax1.set_xlim(25,32)\n",
    "\n",
    "df.plot(kind = 'barh',y = 'Avg_Job_Months',color = 'green',ax = ax2)\n",
    "ax2.set(title = 'Age', xlabel = 'Avg. Months Work Experience')\n",
    "ax2.set_xlim(45,75)\n",
    "\n",
    "fig"
   ]
  },
  {
   "cell_type": "markdown",
   "id": "36788232-75bc-4023-a009-726ec6acdde8",
   "metadata": {},
   "source": [
    "# Lab 11\n",
    "## Pandas Filtering"
   ]
  },
  {
   "cell_type": "markdown",
   "id": "189d677b-2a93-49e7-81e3-d269f45e4df4",
   "metadata": {},
   "source": [
    "### Lambda function"
   ]
  },
  {
   "cell_type": "code",
   "execution_count": 64,
   "id": "7bfe0446-727b-48e4-b49b-081ecd3aad6e",
   "metadata": {},
   "outputs": [
    {
     "name": "stdout",
     "output_type": "stream",
     "text": [
      "20\n"
     ]
    }
   ],
   "source": [
    "def Mult_Two(x):\n",
    "    \n",
    "    \"\"\"If x is a multiple of 2 then return x*2 else return x\"\"\"\n",
    "    \n",
    "    if x%2 ==0:\n",
    "        return x*2\n",
    "    else:\n",
    "        return x\n",
    "    \n",
    "#Call the function\n",
    "result = Mult_Two(10)\n",
    "print(result)"
   ]
  },
  {
   "cell_type": "code",
   "execution_count": 65,
   "id": "0f74f3c3-dd18-4873-adc8-1f1118c4a93d",
   "metadata": {},
   "outputs": [
    {
     "data": {
      "text/plain": [
       "20"
      ]
     },
     "execution_count": 65,
     "metadata": {},
     "output_type": "execute_result"
    }
   ],
   "source": [
    "#Equivalent lambda function\n",
    "f = lambda x: x*2 if x%2==0 else x\n",
    "\n",
    "#Call the function\n",
    "f(10)"
   ]
  },
  {
   "cell_type": "code",
   "execution_count": 66,
   "id": "9ff7a958-1750-4224-9147-6d139debdae9",
   "metadata": {},
   "outputs": [
    {
     "data": {
      "text/html": [
       "<div>\n",
       "<style scoped>\n",
       "    .dataframe tbody tr th:only-of-type {\n",
       "        vertical-align: middle;\n",
       "    }\n",
       "\n",
       "    .dataframe tbody tr th {\n",
       "        vertical-align: top;\n",
       "    }\n",
       "\n",
       "    .dataframe thead th {\n",
       "        text-align: right;\n",
       "    }\n",
       "</style>\n",
       "<table border=\"1\" class=\"dataframe\">\n",
       "  <thead>\n",
       "    <tr style=\"text-align: right;\">\n",
       "      <th></th>\n",
       "      <th>car_name</th>\n",
       "      <th>mpg</th>\n",
       "      <th>cyl</th>\n",
       "      <th>disp</th>\n",
       "      <th>hp</th>\n",
       "      <th>drat</th>\n",
       "      <th>wt</th>\n",
       "      <th>qsec</th>\n",
       "      <th>vs</th>\n",
       "      <th>am</th>\n",
       "      <th>gear</th>\n",
       "      <th>carb</th>\n",
       "    </tr>\n",
       "  </thead>\n",
       "  <tbody>\n",
       "    <tr>\n",
       "      <th>0</th>\n",
       "      <td>Mazda RX4</td>\n",
       "      <td>21.0</td>\n",
       "      <td>6</td>\n",
       "      <td>160.0</td>\n",
       "      <td>110</td>\n",
       "      <td>3.90</td>\n",
       "      <td>2.620</td>\n",
       "      <td>16.46</td>\n",
       "      <td>0</td>\n",
       "      <td>1</td>\n",
       "      <td>4</td>\n",
       "      <td>4</td>\n",
       "    </tr>\n",
       "    <tr>\n",
       "      <th>1</th>\n",
       "      <td>Mazda RX4 Wag</td>\n",
       "      <td>21.0</td>\n",
       "      <td>6</td>\n",
       "      <td>160.0</td>\n",
       "      <td>110</td>\n",
       "      <td>3.90</td>\n",
       "      <td>2.875</td>\n",
       "      <td>17.02</td>\n",
       "      <td>0</td>\n",
       "      <td>1</td>\n",
       "      <td>4</td>\n",
       "      <td>4</td>\n",
       "    </tr>\n",
       "    <tr>\n",
       "      <th>2</th>\n",
       "      <td>Datsun 710</td>\n",
       "      <td>22.8</td>\n",
       "      <td>4</td>\n",
       "      <td>108.0</td>\n",
       "      <td>93</td>\n",
       "      <td>3.85</td>\n",
       "      <td>2.320</td>\n",
       "      <td>18.61</td>\n",
       "      <td>1</td>\n",
       "      <td>1</td>\n",
       "      <td>4</td>\n",
       "      <td>1</td>\n",
       "    </tr>\n",
       "    <tr>\n",
       "      <th>3</th>\n",
       "      <td>Hornet 4 Drive</td>\n",
       "      <td>21.4</td>\n",
       "      <td>6</td>\n",
       "      <td>258.0</td>\n",
       "      <td>110</td>\n",
       "      <td>3.08</td>\n",
       "      <td>3.215</td>\n",
       "      <td>19.44</td>\n",
       "      <td>1</td>\n",
       "      <td>0</td>\n",
       "      <td>3</td>\n",
       "      <td>1</td>\n",
       "    </tr>\n",
       "    <tr>\n",
       "      <th>4</th>\n",
       "      <td>Hornet Sportabout</td>\n",
       "      <td>18.7</td>\n",
       "      <td>8</td>\n",
       "      <td>360.0</td>\n",
       "      <td>175</td>\n",
       "      <td>3.15</td>\n",
       "      <td>3.440</td>\n",
       "      <td>17.02</td>\n",
       "      <td>0</td>\n",
       "      <td>0</td>\n",
       "      <td>3</td>\n",
       "      <td>2</td>\n",
       "    </tr>\n",
       "  </tbody>\n",
       "</table>\n",
       "</div>"
      ],
      "text/plain": [
       "            car_name   mpg  cyl   disp   hp  drat     wt   qsec  vs  am  gear  \\\n",
       "0          Mazda RX4  21.0    6  160.0  110  3.90  2.620  16.46   0   1     4   \n",
       "1      Mazda RX4 Wag  21.0    6  160.0  110  3.90  2.875  17.02   0   1     4   \n",
       "2         Datsun 710  22.8    4  108.0   93  3.85  2.320  18.61   1   1     4   \n",
       "3     Hornet 4 Drive  21.4    6  258.0  110  3.08  3.215  19.44   1   0     3   \n",
       "4  Hornet Sportabout  18.7    8  360.0  175  3.15  3.440  17.02   0   0     3   \n",
       "\n",
       "   carb  \n",
       "0     4  \n",
       "1     4  \n",
       "2     1  \n",
       "3     1  \n",
       "4     2  "
      ]
     },
     "execution_count": 66,
     "metadata": {},
     "output_type": "execute_result"
    }
   ],
   "source": [
    "import pandas as pd\n",
    "\n",
    "df_mtcars = pd.read_csv(\"Lab 11 Documents/Data/mtcars.csv\")\n",
    "\n",
    "df_mtcars.head()"
   ]
  },
  {
   "cell_type": "code",
   "execution_count": 68,
   "id": "5e47ae58-07d1-437d-8733-9a8957db5993",
   "metadata": {},
   "outputs": [
    {
     "data": {
      "text/html": [
       "<div>\n",
       "<style scoped>\n",
       "    .dataframe tbody tr th:only-of-type {\n",
       "        vertical-align: middle;\n",
       "    }\n",
       "\n",
       "    .dataframe tbody tr th {\n",
       "        vertical-align: top;\n",
       "    }\n",
       "\n",
       "    .dataframe thead th {\n",
       "        text-align: right;\n",
       "    }\n",
       "</style>\n",
       "<table border=\"1\" class=\"dataframe\">\n",
       "  <thead>\n",
       "    <tr style=\"text-align: right;\">\n",
       "      <th></th>\n",
       "      <th>car_name</th>\n",
       "      <th>mpg</th>\n",
       "      <th>cyl</th>\n",
       "      <th>disp</th>\n",
       "      <th>hp</th>\n",
       "      <th>drat</th>\n",
       "      <th>wt</th>\n",
       "      <th>qsec</th>\n",
       "      <th>vs</th>\n",
       "      <th>am</th>\n",
       "      <th>gear</th>\n",
       "      <th>carb</th>\n",
       "      <th>num_in_name</th>\n",
       "    </tr>\n",
       "  </thead>\n",
       "  <tbody>\n",
       "    <tr>\n",
       "      <th>0</th>\n",
       "      <td>Mazda RX4</td>\n",
       "      <td>21.0</td>\n",
       "      <td>6</td>\n",
       "      <td>160.0</td>\n",
       "      <td>110</td>\n",
       "      <td>3.90</td>\n",
       "      <td>2.620</td>\n",
       "      <td>16.46</td>\n",
       "      <td>0</td>\n",
       "      <td>1</td>\n",
       "      <td>4</td>\n",
       "      <td>4</td>\n",
       "      <td>0</td>\n",
       "    </tr>\n",
       "    <tr>\n",
       "      <th>1</th>\n",
       "      <td>Mazda RX4 Wag</td>\n",
       "      <td>21.0</td>\n",
       "      <td>6</td>\n",
       "      <td>160.0</td>\n",
       "      <td>110</td>\n",
       "      <td>3.90</td>\n",
       "      <td>2.875</td>\n",
       "      <td>17.02</td>\n",
       "      <td>0</td>\n",
       "      <td>1</td>\n",
       "      <td>4</td>\n",
       "      <td>4</td>\n",
       "      <td>0</td>\n",
       "    </tr>\n",
       "    <tr>\n",
       "      <th>2</th>\n",
       "      <td>Datsun 710</td>\n",
       "      <td>22.8</td>\n",
       "      <td>4</td>\n",
       "      <td>108.0</td>\n",
       "      <td>93</td>\n",
       "      <td>3.85</td>\n",
       "      <td>2.320</td>\n",
       "      <td>18.61</td>\n",
       "      <td>1</td>\n",
       "      <td>1</td>\n",
       "      <td>4</td>\n",
       "      <td>1</td>\n",
       "      <td>0</td>\n",
       "    </tr>\n",
       "    <tr>\n",
       "      <th>3</th>\n",
       "      <td>Hornet 4 Drive</td>\n",
       "      <td>21.4</td>\n",
       "      <td>6</td>\n",
       "      <td>258.0</td>\n",
       "      <td>110</td>\n",
       "      <td>3.08</td>\n",
       "      <td>3.215</td>\n",
       "      <td>19.44</td>\n",
       "      <td>1</td>\n",
       "      <td>0</td>\n",
       "      <td>3</td>\n",
       "      <td>1</td>\n",
       "      <td>0</td>\n",
       "    </tr>\n",
       "    <tr>\n",
       "      <th>4</th>\n",
       "      <td>Hornet Sportabout</td>\n",
       "      <td>18.7</td>\n",
       "      <td>8</td>\n",
       "      <td>360.0</td>\n",
       "      <td>175</td>\n",
       "      <td>3.15</td>\n",
       "      <td>3.440</td>\n",
       "      <td>17.02</td>\n",
       "      <td>0</td>\n",
       "      <td>0</td>\n",
       "      <td>3</td>\n",
       "      <td>2</td>\n",
       "      <td>1</td>\n",
       "    </tr>\n",
       "  </tbody>\n",
       "</table>\n",
       "</div>"
      ],
      "text/plain": [
       "            car_name   mpg  cyl   disp   hp  drat     wt   qsec  vs  am  gear  \\\n",
       "0          Mazda RX4  21.0    6  160.0  110  3.90  2.620  16.46   0   1     4   \n",
       "1      Mazda RX4 Wag  21.0    6  160.0  110  3.90  2.875  17.02   0   1     4   \n",
       "2         Datsun 710  22.8    4  108.0   93  3.85  2.320  18.61   1   1     4   \n",
       "3     Hornet 4 Drive  21.4    6  258.0  110  3.08  3.215  19.44   1   0     3   \n",
       "4  Hornet Sportabout  18.7    8  360.0  175  3.15  3.440  17.02   0   0     3   \n",
       "\n",
       "   carb  num_in_name  \n",
       "0     4            0  \n",
       "1     4            0  \n",
       "2     1            0  \n",
       "3     1            0  \n",
       "4     2            1  "
      ]
     },
     "execution_count": 68,
     "metadata": {},
     "output_type": "execute_result"
    }
   ],
   "source": [
    "#Create new binary column\n",
    "#The isalpha() string method return True is the string is all letters and False otherwise.\n",
    "df_mtcars[\"num_in_name\"] = df_mtcars.car_name.apply(lambda x: 1 if x.replace(\" \", \"\").\\\n",
    "                                                    isalpha() else 0)\n",
    "\n",
    "df_mtcars.head()"
   ]
  },
  {
   "cell_type": "code",
   "execution_count": 69,
   "id": "cf1ce35b-bd22-4ed5-b6ba-715ec0978048",
   "metadata": {},
   "outputs": [
    {
     "data": {
      "text/html": [
       "<div>\n",
       "<style scoped>\n",
       "    .dataframe tbody tr th:only-of-type {\n",
       "        vertical-align: middle;\n",
       "    }\n",
       "\n",
       "    .dataframe tbody tr th {\n",
       "        vertical-align: top;\n",
       "    }\n",
       "\n",
       "    .dataframe thead th {\n",
       "        text-align: right;\n",
       "    }\n",
       "</style>\n",
       "<table border=\"1\" class=\"dataframe\">\n",
       "  <thead>\n",
       "    <tr style=\"text-align: right;\">\n",
       "      <th></th>\n",
       "      <th>car_name</th>\n",
       "      <th>mpg</th>\n",
       "      <th>cyl</th>\n",
       "      <th>disp</th>\n",
       "      <th>hp</th>\n",
       "      <th>drat</th>\n",
       "      <th>wt</th>\n",
       "      <th>qsec</th>\n",
       "      <th>vs</th>\n",
       "      <th>am</th>\n",
       "      <th>gear</th>\n",
       "      <th>carb</th>\n",
       "      <th>num_in_name</th>\n",
       "      <th>env_friendly</th>\n",
       "    </tr>\n",
       "  </thead>\n",
       "  <tbody>\n",
       "    <tr>\n",
       "      <th>0</th>\n",
       "      <td>Mazda RX4</td>\n",
       "      <td>21.0</td>\n",
       "      <td>6</td>\n",
       "      <td>160.0</td>\n",
       "      <td>110</td>\n",
       "      <td>3.90</td>\n",
       "      <td>2.620</td>\n",
       "      <td>16.46</td>\n",
       "      <td>0</td>\n",
       "      <td>1</td>\n",
       "      <td>4</td>\n",
       "      <td>4</td>\n",
       "      <td>0</td>\n",
       "      <td>1</td>\n",
       "    </tr>\n",
       "    <tr>\n",
       "      <th>1</th>\n",
       "      <td>Mazda RX4 Wag</td>\n",
       "      <td>21.0</td>\n",
       "      <td>6</td>\n",
       "      <td>160.0</td>\n",
       "      <td>110</td>\n",
       "      <td>3.90</td>\n",
       "      <td>2.875</td>\n",
       "      <td>17.02</td>\n",
       "      <td>0</td>\n",
       "      <td>1</td>\n",
       "      <td>4</td>\n",
       "      <td>4</td>\n",
       "      <td>0</td>\n",
       "      <td>1</td>\n",
       "    </tr>\n",
       "    <tr>\n",
       "      <th>2</th>\n",
       "      <td>Datsun 710</td>\n",
       "      <td>22.8</td>\n",
       "      <td>4</td>\n",
       "      <td>108.0</td>\n",
       "      <td>93</td>\n",
       "      <td>3.85</td>\n",
       "      <td>2.320</td>\n",
       "      <td>18.61</td>\n",
       "      <td>1</td>\n",
       "      <td>1</td>\n",
       "      <td>4</td>\n",
       "      <td>1</td>\n",
       "      <td>0</td>\n",
       "      <td>1</td>\n",
       "    </tr>\n",
       "    <tr>\n",
       "      <th>3</th>\n",
       "      <td>Hornet 4 Drive</td>\n",
       "      <td>21.4</td>\n",
       "      <td>6</td>\n",
       "      <td>258.0</td>\n",
       "      <td>110</td>\n",
       "      <td>3.08</td>\n",
       "      <td>3.215</td>\n",
       "      <td>19.44</td>\n",
       "      <td>1</td>\n",
       "      <td>0</td>\n",
       "      <td>3</td>\n",
       "      <td>1</td>\n",
       "      <td>0</td>\n",
       "      <td>1</td>\n",
       "    </tr>\n",
       "    <tr>\n",
       "      <th>4</th>\n",
       "      <td>Hornet Sportabout</td>\n",
       "      <td>18.7</td>\n",
       "      <td>8</td>\n",
       "      <td>360.0</td>\n",
       "      <td>175</td>\n",
       "      <td>3.15</td>\n",
       "      <td>3.440</td>\n",
       "      <td>17.02</td>\n",
       "      <td>0</td>\n",
       "      <td>0</td>\n",
       "      <td>3</td>\n",
       "      <td>2</td>\n",
       "      <td>1</td>\n",
       "      <td>1</td>\n",
       "    </tr>\n",
       "  </tbody>\n",
       "</table>\n",
       "</div>"
      ],
      "text/plain": [
       "            car_name   mpg  cyl   disp   hp  drat     wt   qsec  vs  am  gear  \\\n",
       "0          Mazda RX4  21.0    6  160.0  110  3.90  2.620  16.46   0   1     4   \n",
       "1      Mazda RX4 Wag  21.0    6  160.0  110  3.90  2.875  17.02   0   1     4   \n",
       "2         Datsun 710  22.8    4  108.0   93  3.85  2.320  18.61   1   1     4   \n",
       "3     Hornet 4 Drive  21.4    6  258.0  110  3.08  3.215  19.44   1   0     3   \n",
       "4  Hornet Sportabout  18.7    8  360.0  175  3.15  3.440  17.02   0   0     3   \n",
       "\n",
       "   carb  num_in_name  env_friendly  \n",
       "0     4            0             1  \n",
       "1     4            0             1  \n",
       "2     1            0             1  \n",
       "3     1            0             1  \n",
       "4     2            1             1  "
      ]
     },
     "execution_count": 69,
     "metadata": {},
     "output_type": "execute_result"
    }
   ],
   "source": [
    "#Create new column\n",
    "df_mtcars[\"env_friendly\"] = df_mtcars.apply(lambda row: 1 if (row[\"cyl\"] in [4,6] and row[\"mpg\"]>=20)\\\n",
    "                                            or (row[\"cyl\"]==8 and row[\"mpg\"]>=16) else 0,\\\n",
    "                                            axis = 1)\n",
    "df_mtcars.head()"
   ]
  },
  {
   "cell_type": "markdown",
   "id": "0d003eed-6f6a-41d3-a5a9-55b640a8cbbf",
   "metadata": {},
   "source": [
    "### Filtering rows"
   ]
  },
  {
   "cell_type": "code",
   "execution_count": 71,
   "id": "678848bb-3d01-4b95-b8ed-a1eb95c8e2af",
   "metadata": {},
   "outputs": [
    {
     "data": {
      "text/html": [
       "<div>\n",
       "<style scoped>\n",
       "    .dataframe tbody tr th:only-of-type {\n",
       "        vertical-align: middle;\n",
       "    }\n",
       "\n",
       "    .dataframe tbody tr th {\n",
       "        vertical-align: top;\n",
       "    }\n",
       "\n",
       "    .dataframe thead th {\n",
       "        text-align: right;\n",
       "    }\n",
       "</style>\n",
       "<table border=\"1\" class=\"dataframe\">\n",
       "  <thead>\n",
       "    <tr style=\"text-align: right;\">\n",
       "      <th></th>\n",
       "      <th>car_name</th>\n",
       "      <th>mpg</th>\n",
       "      <th>cyl</th>\n",
       "      <th>disp</th>\n",
       "      <th>hp</th>\n",
       "      <th>drat</th>\n",
       "      <th>wt</th>\n",
       "      <th>qsec</th>\n",
       "      <th>vs</th>\n",
       "      <th>am</th>\n",
       "      <th>gear</th>\n",
       "      <th>carb</th>\n",
       "      <th>num_in_name</th>\n",
       "      <th>env_friendly</th>\n",
       "    </tr>\n",
       "  </thead>\n",
       "  <tbody>\n",
       "    <tr>\n",
       "      <th>0</th>\n",
       "      <td>Mazda RX4</td>\n",
       "      <td>21.0</td>\n",
       "      <td>6</td>\n",
       "      <td>160.0</td>\n",
       "      <td>110</td>\n",
       "      <td>3.90</td>\n",
       "      <td>2.620</td>\n",
       "      <td>16.46</td>\n",
       "      <td>0</td>\n",
       "      <td>1</td>\n",
       "      <td>4</td>\n",
       "      <td>4</td>\n",
       "      <td>0</td>\n",
       "      <td>1</td>\n",
       "    </tr>\n",
       "    <tr>\n",
       "      <th>1</th>\n",
       "      <td>Mazda RX4 Wag</td>\n",
       "      <td>21.0</td>\n",
       "      <td>6</td>\n",
       "      <td>160.0</td>\n",
       "      <td>110</td>\n",
       "      <td>3.90</td>\n",
       "      <td>2.875</td>\n",
       "      <td>17.02</td>\n",
       "      <td>0</td>\n",
       "      <td>1</td>\n",
       "      <td>4</td>\n",
       "      <td>4</td>\n",
       "      <td>0</td>\n",
       "      <td>1</td>\n",
       "    </tr>\n",
       "    <tr>\n",
       "      <th>2</th>\n",
       "      <td>Datsun 710</td>\n",
       "      <td>22.8</td>\n",
       "      <td>4</td>\n",
       "      <td>108.0</td>\n",
       "      <td>93</td>\n",
       "      <td>3.85</td>\n",
       "      <td>2.320</td>\n",
       "      <td>18.61</td>\n",
       "      <td>1</td>\n",
       "      <td>1</td>\n",
       "      <td>4</td>\n",
       "      <td>1</td>\n",
       "      <td>0</td>\n",
       "      <td>1</td>\n",
       "    </tr>\n",
       "    <tr>\n",
       "      <th>3</th>\n",
       "      <td>Hornet 4 Drive</td>\n",
       "      <td>21.4</td>\n",
       "      <td>6</td>\n",
       "      <td>258.0</td>\n",
       "      <td>110</td>\n",
       "      <td>3.08</td>\n",
       "      <td>3.215</td>\n",
       "      <td>19.44</td>\n",
       "      <td>1</td>\n",
       "      <td>0</td>\n",
       "      <td>3</td>\n",
       "      <td>1</td>\n",
       "      <td>0</td>\n",
       "      <td>1</td>\n",
       "    </tr>\n",
       "    <tr>\n",
       "      <th>4</th>\n",
       "      <td>Hornet Sportabout</td>\n",
       "      <td>18.7</td>\n",
       "      <td>8</td>\n",
       "      <td>360.0</td>\n",
       "      <td>175</td>\n",
       "      <td>3.15</td>\n",
       "      <td>3.440</td>\n",
       "      <td>17.02</td>\n",
       "      <td>0</td>\n",
       "      <td>0</td>\n",
       "      <td>3</td>\n",
       "      <td>2</td>\n",
       "      <td>1</td>\n",
       "      <td>1</td>\n",
       "    </tr>\n",
       "    <tr>\n",
       "      <th>5</th>\n",
       "      <td>Valiant</td>\n",
       "      <td>18.1</td>\n",
       "      <td>6</td>\n",
       "      <td>225.0</td>\n",
       "      <td>105</td>\n",
       "      <td>2.76</td>\n",
       "      <td>3.460</td>\n",
       "      <td>20.22</td>\n",
       "      <td>1</td>\n",
       "      <td>0</td>\n",
       "      <td>3</td>\n",
       "      <td>1</td>\n",
       "      <td>1</td>\n",
       "      <td>0</td>\n",
       "    </tr>\n",
       "    <tr>\n",
       "      <th>6</th>\n",
       "      <td>Duster 360</td>\n",
       "      <td>14.3</td>\n",
       "      <td>8</td>\n",
       "      <td>360.0</td>\n",
       "      <td>245</td>\n",
       "      <td>3.21</td>\n",
       "      <td>3.570</td>\n",
       "      <td>15.84</td>\n",
       "      <td>0</td>\n",
       "      <td>0</td>\n",
       "      <td>3</td>\n",
       "      <td>4</td>\n",
       "      <td>0</td>\n",
       "      <td>0</td>\n",
       "    </tr>\n",
       "  </tbody>\n",
       "</table>\n",
       "</div>"
      ],
      "text/plain": [
       "            car_name   mpg  cyl   disp   hp  drat     wt   qsec  vs  am  gear  \\\n",
       "0          Mazda RX4  21.0    6  160.0  110  3.90  2.620  16.46   0   1     4   \n",
       "1      Mazda RX4 Wag  21.0    6  160.0  110  3.90  2.875  17.02   0   1     4   \n",
       "2         Datsun 710  22.8    4  108.0   93  3.85  2.320  18.61   1   1     4   \n",
       "3     Hornet 4 Drive  21.4    6  258.0  110  3.08  3.215  19.44   1   0     3   \n",
       "4  Hornet Sportabout  18.7    8  360.0  175  3.15  3.440  17.02   0   0     3   \n",
       "5            Valiant  18.1    6  225.0  105  2.76  3.460  20.22   1   0     3   \n",
       "6         Duster 360  14.3    8  360.0  245  3.21  3.570  15.84   0   0     3   \n",
       "\n",
       "   carb  num_in_name  env_friendly  \n",
       "0     4            0             1  \n",
       "1     4            0             1  \n",
       "2     1            0             1  \n",
       "3     1            0             1  \n",
       "4     2            1             1  \n",
       "5     1            1             0  \n",
       "6     4            0             0  "
      ]
     },
     "execution_count": 71,
     "metadata": {},
     "output_type": "execute_result"
    }
   ],
   "source": [
    "#Cut mtcars df\n",
    "df_mtcars_small = df_mtcars.head(7)\n",
    "\n",
    "df_mtcars_small"
   ]
  },
  {
   "cell_type": "code",
   "execution_count": 72,
   "id": "ad2d84a2-ad44-46e9-8afa-02b9bc201de2",
   "metadata": {},
   "outputs": [
    {
     "data": {
      "text/html": [
       "<div>\n",
       "<style scoped>\n",
       "    .dataframe tbody tr th:only-of-type {\n",
       "        vertical-align: middle;\n",
       "    }\n",
       "\n",
       "    .dataframe tbody tr th {\n",
       "        vertical-align: top;\n",
       "    }\n",
       "\n",
       "    .dataframe thead th {\n",
       "        text-align: right;\n",
       "    }\n",
       "</style>\n",
       "<table border=\"1\" class=\"dataframe\">\n",
       "  <thead>\n",
       "    <tr style=\"text-align: right;\">\n",
       "      <th></th>\n",
       "      <th>car_name</th>\n",
       "      <th>mpg</th>\n",
       "      <th>cyl</th>\n",
       "      <th>disp</th>\n",
       "      <th>hp</th>\n",
       "      <th>drat</th>\n",
       "      <th>wt</th>\n",
       "      <th>qsec</th>\n",
       "      <th>vs</th>\n",
       "      <th>am</th>\n",
       "      <th>gear</th>\n",
       "      <th>carb</th>\n",
       "      <th>num_in_name</th>\n",
       "      <th>env_friendly</th>\n",
       "    </tr>\n",
       "  </thead>\n",
       "  <tbody>\n",
       "    <tr>\n",
       "      <th>4</th>\n",
       "      <td>Hornet Sportabout</td>\n",
       "      <td>18.7</td>\n",
       "      <td>8</td>\n",
       "      <td>360.0</td>\n",
       "      <td>175</td>\n",
       "      <td>3.15</td>\n",
       "      <td>3.44</td>\n",
       "      <td>17.02</td>\n",
       "      <td>0</td>\n",
       "      <td>0</td>\n",
       "      <td>3</td>\n",
       "      <td>2</td>\n",
       "      <td>1</td>\n",
       "      <td>1</td>\n",
       "    </tr>\n",
       "    <tr>\n",
       "      <th>6</th>\n",
       "      <td>Duster 360</td>\n",
       "      <td>14.3</td>\n",
       "      <td>8</td>\n",
       "      <td>360.0</td>\n",
       "      <td>245</td>\n",
       "      <td>3.21</td>\n",
       "      <td>3.57</td>\n",
       "      <td>15.84</td>\n",
       "      <td>0</td>\n",
       "      <td>0</td>\n",
       "      <td>3</td>\n",
       "      <td>4</td>\n",
       "      <td>0</td>\n",
       "      <td>0</td>\n",
       "    </tr>\n",
       "  </tbody>\n",
       "</table>\n",
       "</div>"
      ],
      "text/plain": [
       "            car_name   mpg  cyl   disp   hp  drat    wt   qsec  vs  am  gear  \\\n",
       "4  Hornet Sportabout  18.7    8  360.0  175  3.15  3.44  17.02   0   0     3   \n",
       "6         Duster 360  14.3    8  360.0  245  3.21  3.57  15.84   0   0     3   \n",
       "\n",
       "   carb  num_in_name  env_friendly  \n",
       "4     2            1             1  \n",
       "6     4            0             0  "
      ]
     },
     "execution_count": 72,
     "metadata": {},
     "output_type": "execute_result"
    }
   ],
   "source": [
    "#Picking out rows that only correspond to cars with >=150 hp + all columns\n",
    "fast_cars  = df_mtcars_small.loc[df_mtcars_small.hp >= 150, :]\n",
    "\n",
    "fast_cars"
   ]
  },
  {
   "cell_type": "code",
   "execution_count": 73,
   "id": "1b45f800-ffff-48a3-bc3f-d875690d3553",
   "metadata": {},
   "outputs": [
    {
     "data": {
      "text/html": [
       "<div>\n",
       "<style scoped>\n",
       "    .dataframe tbody tr th:only-of-type {\n",
       "        vertical-align: middle;\n",
       "    }\n",
       "\n",
       "    .dataframe tbody tr th {\n",
       "        vertical-align: top;\n",
       "    }\n",
       "\n",
       "    .dataframe thead th {\n",
       "        text-align: right;\n",
       "    }\n",
       "</style>\n",
       "<table border=\"1\" class=\"dataframe\">\n",
       "  <thead>\n",
       "    <tr style=\"text-align: right;\">\n",
       "      <th></th>\n",
       "      <th>car_name</th>\n",
       "      <th>mpg</th>\n",
       "      <th>cyl</th>\n",
       "      <th>disp</th>\n",
       "      <th>hp</th>\n",
       "      <th>drat</th>\n",
       "      <th>wt</th>\n",
       "      <th>qsec</th>\n",
       "      <th>vs</th>\n",
       "      <th>am</th>\n",
       "      <th>gear</th>\n",
       "      <th>carb</th>\n",
       "      <th>num_in_name</th>\n",
       "      <th>env_friendly</th>\n",
       "    </tr>\n",
       "  </thead>\n",
       "  <tbody>\n",
       "    <tr>\n",
       "      <th>0</th>\n",
       "      <td>Mazda RX4</td>\n",
       "      <td>21.0</td>\n",
       "      <td>6</td>\n",
       "      <td>160.0</td>\n",
       "      <td>110</td>\n",
       "      <td>3.90</td>\n",
       "      <td>2.620</td>\n",
       "      <td>16.46</td>\n",
       "      <td>0</td>\n",
       "      <td>1</td>\n",
       "      <td>4</td>\n",
       "      <td>4</td>\n",
       "      <td>0</td>\n",
       "      <td>1</td>\n",
       "    </tr>\n",
       "    <tr>\n",
       "      <th>1</th>\n",
       "      <td>Mazda RX4 Wag</td>\n",
       "      <td>21.0</td>\n",
       "      <td>6</td>\n",
       "      <td>160.0</td>\n",
       "      <td>110</td>\n",
       "      <td>3.90</td>\n",
       "      <td>2.875</td>\n",
       "      <td>17.02</td>\n",
       "      <td>0</td>\n",
       "      <td>1</td>\n",
       "      <td>4</td>\n",
       "      <td>4</td>\n",
       "      <td>0</td>\n",
       "      <td>1</td>\n",
       "    </tr>\n",
       "    <tr>\n",
       "      <th>2</th>\n",
       "      <td>Datsun 710</td>\n",
       "      <td>22.8</td>\n",
       "      <td>4</td>\n",
       "      <td>108.0</td>\n",
       "      <td>93</td>\n",
       "      <td>3.85</td>\n",
       "      <td>2.320</td>\n",
       "      <td>18.61</td>\n",
       "      <td>1</td>\n",
       "      <td>1</td>\n",
       "      <td>4</td>\n",
       "      <td>1</td>\n",
       "      <td>0</td>\n",
       "      <td>1</td>\n",
       "    </tr>\n",
       "    <tr>\n",
       "      <th>3</th>\n",
       "      <td>Hornet 4 Drive</td>\n",
       "      <td>21.4</td>\n",
       "      <td>6</td>\n",
       "      <td>258.0</td>\n",
       "      <td>110</td>\n",
       "      <td>3.08</td>\n",
       "      <td>3.215</td>\n",
       "      <td>19.44</td>\n",
       "      <td>1</td>\n",
       "      <td>0</td>\n",
       "      <td>3</td>\n",
       "      <td>1</td>\n",
       "      <td>0</td>\n",
       "      <td>1</td>\n",
       "    </tr>\n",
       "    <tr>\n",
       "      <th>5</th>\n",
       "      <td>Valiant</td>\n",
       "      <td>18.1</td>\n",
       "      <td>6</td>\n",
       "      <td>225.0</td>\n",
       "      <td>105</td>\n",
       "      <td>2.76</td>\n",
       "      <td>3.460</td>\n",
       "      <td>20.22</td>\n",
       "      <td>1</td>\n",
       "      <td>0</td>\n",
       "      <td>3</td>\n",
       "      <td>1</td>\n",
       "      <td>1</td>\n",
       "      <td>0</td>\n",
       "    </tr>\n",
       "  </tbody>\n",
       "</table>\n",
       "</div>"
      ],
      "text/plain": [
       "         car_name   mpg  cyl   disp   hp  drat     wt   qsec  vs  am  gear  \\\n",
       "0       Mazda RX4  21.0    6  160.0  110  3.90  2.620  16.46   0   1     4   \n",
       "1   Mazda RX4 Wag  21.0    6  160.0  110  3.90  2.875  17.02   0   1     4   \n",
       "2      Datsun 710  22.8    4  108.0   93  3.85  2.320  18.61   1   1     4   \n",
       "3  Hornet 4 Drive  21.4    6  258.0  110  3.08  3.215  19.44   1   0     3   \n",
       "5         Valiant  18.1    6  225.0  105  2.76  3.460  20.22   1   0     3   \n",
       "\n",
       "   carb  num_in_name  env_friendly  \n",
       "0     4            0             1  \n",
       "1     4            0             1  \n",
       "2     1            0             1  \n",
       "3     1            0             1  \n",
       "5     1            1             0  "
      ]
     },
     "execution_count": 73,
     "metadata": {},
     "output_type": "execute_result"
    }
   ],
   "source": [
    "#All cars with 4 **or** 6 cylinders\n",
    "df_mtcars_small.loc[(df_mtcars_small.cyl == 4) | (df_mtcars_small.cyl == 6), :]"
   ]
  },
  {
   "cell_type": "code",
   "execution_count": 74,
   "id": "da198b7b-ca81-4f53-bd5e-6226ed49c362",
   "metadata": {},
   "outputs": [
    {
     "data": {
      "text/html": [
       "<div>\n",
       "<style scoped>\n",
       "    .dataframe tbody tr th:only-of-type {\n",
       "        vertical-align: middle;\n",
       "    }\n",
       "\n",
       "    .dataframe tbody tr th {\n",
       "        vertical-align: top;\n",
       "    }\n",
       "\n",
       "    .dataframe thead th {\n",
       "        text-align: right;\n",
       "    }\n",
       "</style>\n",
       "<table border=\"1\" class=\"dataframe\">\n",
       "  <thead>\n",
       "    <tr style=\"text-align: right;\">\n",
       "      <th></th>\n",
       "      <th>0</th>\n",
       "      <th>1</th>\n",
       "      <th>2</th>\n",
       "    </tr>\n",
       "  </thead>\n",
       "  <tbody>\n",
       "    <tr>\n",
       "      <th>0</th>\n",
       "      <td>Mazda</td>\n",
       "      <td>RX4</td>\n",
       "      <td>None</td>\n",
       "    </tr>\n",
       "    <tr>\n",
       "      <th>1</th>\n",
       "      <td>Mazda</td>\n",
       "      <td>RX4</td>\n",
       "      <td>Wag</td>\n",
       "    </tr>\n",
       "    <tr>\n",
       "      <th>2</th>\n",
       "      <td>Datsun</td>\n",
       "      <td>710</td>\n",
       "      <td>None</td>\n",
       "    </tr>\n",
       "    <tr>\n",
       "      <th>3</th>\n",
       "      <td>Hornet</td>\n",
       "      <td>4</td>\n",
       "      <td>Drive</td>\n",
       "    </tr>\n",
       "    <tr>\n",
       "      <th>4</th>\n",
       "      <td>Hornet</td>\n",
       "      <td>Sportabout</td>\n",
       "      <td>None</td>\n",
       "    </tr>\n",
       "    <tr>\n",
       "      <th>5</th>\n",
       "      <td>Valiant</td>\n",
       "      <td>None</td>\n",
       "      <td>None</td>\n",
       "    </tr>\n",
       "    <tr>\n",
       "      <th>6</th>\n",
       "      <td>Duster</td>\n",
       "      <td>360</td>\n",
       "      <td>None</td>\n",
       "    </tr>\n",
       "  </tbody>\n",
       "</table>\n",
       "</div>"
      ],
      "text/plain": [
       "         0           1      2\n",
       "0    Mazda         RX4   None\n",
       "1    Mazda         RX4    Wag\n",
       "2   Datsun         710   None\n",
       "3   Hornet           4  Drive\n",
       "4   Hornet  Sportabout   None\n",
       "5  Valiant        None   None\n",
       "6   Duster         360   None"
      ]
     },
     "execution_count": 74,
     "metadata": {},
     "output_type": "execute_result"
    }
   ],
   "source": [
    "#Set expand  = True\n",
    "# This accomplishes the task. Another way to do this is to set expand = True in the split method. \n",
    "# This will create a separate column for each element of the list that results from the split.\n",
    "parsed_names_expand = df_mtcars_small.car_name.str.split(\" \", expand = True)\n",
    "\n",
    "parsed_names_expand"
   ]
  },
  {
   "cell_type": "markdown",
   "id": "e4385b35-b3e0-47c9-bcca-6db191685bf1",
   "metadata": {},
   "source": [
    "### Filtering groupby / agg"
   ]
  },
  {
   "cell_type": "code",
   "execution_count": 89,
   "id": "adb06ef6-90fd-4e29-b7e5-5b8218e34064",
   "metadata": {},
   "outputs": [
    {
     "name": "stdout",
     "output_type": "stream",
     "text": [
      "(72742, 40)\n",
      "(72739, 40)\n"
     ]
    }
   ],
   "source": [
    "import numpy as np\n",
    "\n",
    "yelpraw = pd.read_csv('Lab 11 Documents/data/Yelp_Data.csv')\n",
    "yelp = yelpraw.dropna(axis = 0)\n",
    "print(yelpraw.shape)\n",
    "print(yelp.shape)"
   ]
  },
  {
   "cell_type": "code",
   "execution_count": 90,
   "id": "37aace41-6500-495d-81b4-f33f183d7a55",
   "metadata": {
    "scrolled": true
   },
   "outputs": [
    {
     "data": {
      "text/html": [
       "<div>\n",
       "<style scoped>\n",
       "    .dataframe tbody tr th:only-of-type {\n",
       "        vertical-align: middle;\n",
       "    }\n",
       "\n",
       "    .dataframe tbody tr th {\n",
       "        vertical-align: top;\n",
       "    }\n",
       "\n",
       "    .dataframe thead th {\n",
       "        text-align: right;\n",
       "    }\n",
       "</style>\n",
       "<table border=\"1\" class=\"dataframe\">\n",
       "  <thead>\n",
       "    <tr style=\"text-align: right;\">\n",
       "      <th></th>\n",
       "      <th>business_id</th>\n",
       "      <th>city</th>\n",
       "      <th>full_address</th>\n",
       "      <th>latitude</th>\n",
       "      <th>longitude</th>\n",
       "      <th>name</th>\n",
       "      <th>review_count</th>\n",
       "      <th>stars</th>\n",
       "      <th>state</th>\n",
       "      <th>type</th>\n",
       "      <th>...</th>\n",
       "      <th>Pakistani</th>\n",
       "      <th>Barbeque</th>\n",
       "      <th>Vietnamese</th>\n",
       "      <th>Asian Fusion</th>\n",
       "      <th>Diners</th>\n",
       "      <th>Greek</th>\n",
       "      <th>Vegetarian</th>\n",
       "      <th>Number_of_Checkins</th>\n",
       "      <th>Number_of_Tips</th>\n",
       "      <th>Number_of_Tip_Likes</th>\n",
       "    </tr>\n",
       "  </thead>\n",
       "  <tbody>\n",
       "    <tr>\n",
       "      <th>0</th>\n",
       "      <td>5UmKMjUEUNdYWqANhGckJw</td>\n",
       "      <td>Dravosburg</td>\n",
       "      <td>4734 Lebanon Church Rd Dravosburg, PA 15034</td>\n",
       "      <td>40.354327</td>\n",
       "      <td>-79.900706</td>\n",
       "      <td>Mr Hoagie</td>\n",
       "      <td>4</td>\n",
       "      <td>4.5</td>\n",
       "      <td>PA</td>\n",
       "      <td>business</td>\n",
       "      <td>...</td>\n",
       "      <td>0</td>\n",
       "      <td>0</td>\n",
       "      <td>0</td>\n",
       "      <td>0</td>\n",
       "      <td>0</td>\n",
       "      <td>0</td>\n",
       "      <td>0</td>\n",
       "      <td>0</td>\n",
       "      <td>0</td>\n",
       "      <td>0</td>\n",
       "    </tr>\n",
       "    <tr>\n",
       "      <th>1</th>\n",
       "      <td>UsFtqoBl7naz8AVUBZMjQQ</td>\n",
       "      <td>Dravosburg</td>\n",
       "      <td>202 McClure St Dravosburg, PA 15034</td>\n",
       "      <td>40.350553</td>\n",
       "      <td>-79.886814</td>\n",
       "      <td>Clancy's Pub</td>\n",
       "      <td>4</td>\n",
       "      <td>3.5</td>\n",
       "      <td>PA</td>\n",
       "      <td>business</td>\n",
       "      <td>...</td>\n",
       "      <td>0</td>\n",
       "      <td>0</td>\n",
       "      <td>0</td>\n",
       "      <td>0</td>\n",
       "      <td>0</td>\n",
       "      <td>0</td>\n",
       "      <td>0</td>\n",
       "      <td>0</td>\n",
       "      <td>0</td>\n",
       "      <td>0</td>\n",
       "    </tr>\n",
       "    <tr>\n",
       "      <th>2</th>\n",
       "      <td>3eu6MEFlq2Dg7bQh8QbdOg</td>\n",
       "      <td>Dravosburg</td>\n",
       "      <td>1 Ravine St Dravosburg, PA 15034</td>\n",
       "      <td>40.350956</td>\n",
       "      <td>-79.889059</td>\n",
       "      <td>Joe Cislo's Auto</td>\n",
       "      <td>3</td>\n",
       "      <td>5.0</td>\n",
       "      <td>PA</td>\n",
       "      <td>business</td>\n",
       "      <td>...</td>\n",
       "      <td>0</td>\n",
       "      <td>0</td>\n",
       "      <td>0</td>\n",
       "      <td>0</td>\n",
       "      <td>0</td>\n",
       "      <td>0</td>\n",
       "      <td>0</td>\n",
       "      <td>0</td>\n",
       "      <td>0</td>\n",
       "      <td>0</td>\n",
       "    </tr>\n",
       "    <tr>\n",
       "      <th>3</th>\n",
       "      <td>cE27W9VPgO88Qxe4ol6y_g</td>\n",
       "      <td>Bethel Park</td>\n",
       "      <td>1530 Hamilton Rd Bethel Park, PA 15234</td>\n",
       "      <td>40.354115</td>\n",
       "      <td>-80.014660</td>\n",
       "      <td>Cool Springs Golf Center</td>\n",
       "      <td>5</td>\n",
       "      <td>2.5</td>\n",
       "      <td>PA</td>\n",
       "      <td>business</td>\n",
       "      <td>...</td>\n",
       "      <td>0</td>\n",
       "      <td>0</td>\n",
       "      <td>0</td>\n",
       "      <td>0</td>\n",
       "      <td>0</td>\n",
       "      <td>0</td>\n",
       "      <td>0</td>\n",
       "      <td>9</td>\n",
       "      <td>1</td>\n",
       "      <td>0</td>\n",
       "    </tr>\n",
       "    <tr>\n",
       "      <th>4</th>\n",
       "      <td>HZdLhv6COCleJMo7nPl-RA</td>\n",
       "      <td>Pittsburgh</td>\n",
       "      <td>301 South Hills Village Pittsburgh, PA 15241</td>\n",
       "      <td>40.357620</td>\n",
       "      <td>-80.059980</td>\n",
       "      <td>Verizon</td>\n",
       "      <td>5</td>\n",
       "      <td>2.5</td>\n",
       "      <td>PA</td>\n",
       "      <td>business</td>\n",
       "      <td>...</td>\n",
       "      <td>0</td>\n",
       "      <td>0</td>\n",
       "      <td>0</td>\n",
       "      <td>0</td>\n",
       "      <td>0</td>\n",
       "      <td>0</td>\n",
       "      <td>0</td>\n",
       "      <td>0</td>\n",
       "      <td>0</td>\n",
       "      <td>0</td>\n",
       "    </tr>\n",
       "  </tbody>\n",
       "</table>\n",
       "<p>5 rows × 40 columns</p>\n",
       "</div>"
      ],
      "text/plain": [
       "              business_id         city  \\\n",
       "0  5UmKMjUEUNdYWqANhGckJw   Dravosburg   \n",
       "1  UsFtqoBl7naz8AVUBZMjQQ   Dravosburg   \n",
       "2  3eu6MEFlq2Dg7bQh8QbdOg   Dravosburg   \n",
       "3  cE27W9VPgO88Qxe4ol6y_g  Bethel Park   \n",
       "4  HZdLhv6COCleJMo7nPl-RA   Pittsburgh   \n",
       "\n",
       "                                   full_address   latitude  longitude  \\\n",
       "0   4734 Lebanon Church Rd Dravosburg, PA 15034  40.354327 -79.900706   \n",
       "1           202 McClure St Dravosburg, PA 15034  40.350553 -79.886814   \n",
       "2              1 Ravine St Dravosburg, PA 15034  40.350956 -79.889059   \n",
       "3        1530 Hamilton Rd Bethel Park, PA 15234  40.354115 -80.014660   \n",
       "4  301 South Hills Village Pittsburgh, PA 15241  40.357620 -80.059980   \n",
       "\n",
       "                       name  review_count  stars state      type  ...  \\\n",
       "0                 Mr Hoagie             4    4.5    PA  business  ...   \n",
       "1              Clancy's Pub             4    3.5    PA  business  ...   \n",
       "2          Joe Cislo's Auto             3    5.0    PA  business  ...   \n",
       "3  Cool Springs Golf Center             5    2.5    PA  business  ...   \n",
       "4                   Verizon             5    2.5    PA  business  ...   \n",
       "\n",
       "   Pakistani  Barbeque  Vietnamese  Asian Fusion  Diners  Greek  Vegetarian  \\\n",
       "0          0         0           0             0       0      0           0   \n",
       "1          0         0           0             0       0      0           0   \n",
       "2          0         0           0             0       0      0           0   \n",
       "3          0         0           0             0       0      0           0   \n",
       "4          0         0           0             0       0      0           0   \n",
       "\n",
       "   Number_of_Checkins  Number_of_Tips  Number_of_Tip_Likes  \n",
       "0                   0               0                    0  \n",
       "1                   0               0                    0  \n",
       "2                   0               0                    0  \n",
       "3                   9               1                    0  \n",
       "4                   0               0                    0  \n",
       "\n",
       "[5 rows x 40 columns]"
      ]
     },
     "execution_count": 90,
     "metadata": {},
     "output_type": "execute_result"
    }
   ],
   "source": [
    "yelp.head()"
   ]
  },
  {
   "cell_type": "code",
   "execution_count": null,
   "id": "74309d6b-eef2-44be-bd2e-9f2f65d73d12",
   "metadata": {},
   "outputs": [],
   "source": [
    "# Agg\n",
    "#yelp.groupby('state').agg({'stars':'mean',;review_count':'sum'})\n",
    "#yelp.groupby('state').agg(avg = ('stars','mean'))"
   ]
  },
  {
   "cell_type": "code",
   "execution_count": 91,
   "id": "efe8f645-36f3-443a-82a7-39a9acce6355",
   "metadata": {
    "scrolled": true
   },
   "outputs": [
    {
     "data": {
      "text/html": [
       "<div>\n",
       "<style scoped>\n",
       "    .dataframe tbody tr th:only-of-type {\n",
       "        vertical-align: middle;\n",
       "    }\n",
       "\n",
       "    .dataframe tbody tr th {\n",
       "        vertical-align: top;\n",
       "    }\n",
       "\n",
       "    .dataframe thead th {\n",
       "        text-align: right;\n",
       "    }\n",
       "</style>\n",
       "<table border=\"1\" class=\"dataframe\">\n",
       "  <thead>\n",
       "    <tr style=\"text-align: right;\">\n",
       "      <th></th>\n",
       "      <th>Avg_Star_Rating</th>\n",
       "    </tr>\n",
       "    <tr>\n",
       "      <th>state</th>\n",
       "      <th></th>\n",
       "    </tr>\n",
       "  </thead>\n",
       "  <tbody>\n",
       "    <tr>\n",
       "      <th>AL</th>\n",
       "      <td>3.500000</td>\n",
       "    </tr>\n",
       "    <tr>\n",
       "      <th>AR</th>\n",
       "      <td>5.000000</td>\n",
       "    </tr>\n",
       "    <tr>\n",
       "      <th>AZ</th>\n",
       "      <td>3.709510</td>\n",
       "    </tr>\n",
       "    <tr>\n",
       "      <th>BW</th>\n",
       "      <td>3.768531</td>\n",
       "    </tr>\n",
       "    <tr>\n",
       "      <th>CA</th>\n",
       "      <td>3.500000</td>\n",
       "    </tr>\n",
       "    <tr>\n",
       "      <th>EDH</th>\n",
       "      <td>3.807777</td>\n",
       "    </tr>\n",
       "    <tr>\n",
       "      <th>ELN</th>\n",
       "      <td>3.791667</td>\n",
       "    </tr>\n",
       "    <tr>\n",
       "      <th>FIF</th>\n",
       "      <td>3.700000</td>\n",
       "    </tr>\n",
       "    <tr>\n",
       "      <th>HAM</th>\n",
       "      <td>4.500000</td>\n",
       "    </tr>\n",
       "    <tr>\n",
       "      <th>IL</th>\n",
       "      <td>3.549728</td>\n",
       "    </tr>\n",
       "    <tr>\n",
       "      <th>KHL</th>\n",
       "      <td>3.500000</td>\n",
       "    </tr>\n",
       "    <tr>\n",
       "      <th>MA</th>\n",
       "      <td>5.000000</td>\n",
       "    </tr>\n",
       "    <tr>\n",
       "      <th>MLN</th>\n",
       "      <td>3.842466</td>\n",
       "    </tr>\n",
       "    <tr>\n",
       "      <th>MN</th>\n",
       "      <td>5.000000</td>\n",
       "    </tr>\n",
       "    <tr>\n",
       "      <th>NC</th>\n",
       "      <td>3.587095</td>\n",
       "    </tr>\n",
       "    <tr>\n",
       "      <th>NM</th>\n",
       "      <td>3.000000</td>\n",
       "    </tr>\n",
       "    <tr>\n",
       "      <th>NTH</th>\n",
       "      <td>2.000000</td>\n",
       "    </tr>\n",
       "    <tr>\n",
       "      <th>NV</th>\n",
       "      <td>3.682979</td>\n",
       "    </tr>\n",
       "    <tr>\n",
       "      <th>NW</th>\n",
       "      <td>4.500000</td>\n",
       "    </tr>\n",
       "    <tr>\n",
       "      <th>ON</th>\n",
       "      <td>3.577825</td>\n",
       "    </tr>\n",
       "    <tr>\n",
       "      <th>OR</th>\n",
       "      <td>2.500000</td>\n",
       "    </tr>\n",
       "    <tr>\n",
       "      <th>PA</th>\n",
       "      <td>3.699276</td>\n",
       "    </tr>\n",
       "    <tr>\n",
       "      <th>QC</th>\n",
       "      <td>3.579906</td>\n",
       "    </tr>\n",
       "    <tr>\n",
       "      <th>RP</th>\n",
       "      <td>4.083333</td>\n",
       "    </tr>\n",
       "    <tr>\n",
       "      <th>SC</th>\n",
       "      <td>3.568266</td>\n",
       "    </tr>\n",
       "    <tr>\n",
       "      <th>SCB</th>\n",
       "      <td>4.000000</td>\n",
       "    </tr>\n",
       "    <tr>\n",
       "      <th>TX</th>\n",
       "      <td>4.500000</td>\n",
       "    </tr>\n",
       "    <tr>\n",
       "      <th>WI</th>\n",
       "      <td>3.659335</td>\n",
       "    </tr>\n",
       "  </tbody>\n",
       "</table>\n",
       "</div>"
      ],
      "text/plain": [
       "       Avg_Star_Rating\n",
       "state                 \n",
       "AL            3.500000\n",
       "AR            5.000000\n",
       "AZ            3.709510\n",
       "BW            3.768531\n",
       "CA            3.500000\n",
       "EDH           3.807777\n",
       "ELN           3.791667\n",
       "FIF           3.700000\n",
       "HAM           4.500000\n",
       "IL            3.549728\n",
       "KHL           3.500000\n",
       "MA            5.000000\n",
       "MLN           3.842466\n",
       "MN            5.000000\n",
       "NC            3.587095\n",
       "NM            3.000000\n",
       "NTH           2.000000\n",
       "NV            3.682979\n",
       "NW            4.500000\n",
       "ON            3.577825\n",
       "OR            2.500000\n",
       "PA            3.699276\n",
       "QC            3.579906\n",
       "RP            4.083333\n",
       "SC            3.568266\n",
       "SCB           4.000000\n",
       "TX            4.500000\n",
       "WI            3.659335"
      ]
     },
     "execution_count": 91,
     "metadata": {},
     "output_type": "execute_result"
    }
   ],
   "source": [
    "df_1 = yelp.groupby('state').agg(Avg_Star_Rating = ('stars','mean'))\n",
    "df_1"
   ]
  },
  {
   "cell_type": "code",
   "execution_count": 92,
   "id": "2f60ca06-9d6b-4773-9251-3839ba58fddb",
   "metadata": {},
   "outputs": [
    {
     "data": {
      "text/plain": [
       "state\n",
       "AZ    85251\n",
       "NV    89109\n",
       "Name: zip_code, dtype: object"
      ]
     },
     "execution_count": 92,
     "metadata": {},
     "output_type": "execute_result"
    }
   ],
   "source": [
    "#Write your code here\n",
    "df_AZ_NV = yelp.loc[yelp.state.isin([\"AZ\",\"NV\"]),:].copy()\n",
    "\n",
    "df_AZ_NV[\"zip_code\"] = df_AZ_NV.full_address.map(lambda x: x.split(\" \")[-1])\n",
    "\n",
    "df_AZ_NV.groupby(\"state\").zip_code.apply(lambda x: x.value_counts().index[0])\n"
   ]
  },
  {
   "cell_type": "code",
   "execution_count": null,
   "id": "be4c4280-1153-4a30-9319-3166f03e7958",
   "metadata": {},
   "outputs": [],
   "source": []
  },
  {
   "cell_type": "markdown",
   "id": "c9e8ae33-eb1b-4ce8-bd2f-ac377d5bcadb",
   "metadata": {},
   "source": [
    "### keep = 'first' / ' last' / False For duplicated"
   ]
  },
  {
   "cell_type": "markdown",
   "id": "8e427446-800e-4ceb-9ff3-4c0fec1fa4bc",
   "metadata": {},
   "source": [
    "For **duplicated()** method the inputs are:\n",
    "\n",
    "**keep**\n",
    "* \"first\": Mark duplicates as True except for the first occurrence.\n",
    "* \"last\": Mark duplicates as True except for the last occurrence.\n",
    "* False: Mark all duplicates as True\n",
    "\n",
    "For the **drop_duplicates()** method the keep arguments does the following.\n",
    "\n",
    "**keep**\n",
    "* \"first\": Drop duplicates except for the first occurrence.\n",
    "* \"last\": Drop duplicates except for the last occurrence.\n",
    "* False: Drop all duplicates"
   ]
  },
  {
   "cell_type": "code",
   "execution_count": 75,
   "id": "fc396fce-6a2d-43c4-b04b-6c77d710b7e1",
   "metadata": {},
   "outputs": [
    {
     "data": {
      "text/html": [
       "<div>\n",
       "<style scoped>\n",
       "    .dataframe tbody tr th:only-of-type {\n",
       "        vertical-align: middle;\n",
       "    }\n",
       "\n",
       "    .dataframe tbody tr th {\n",
       "        vertical-align: top;\n",
       "    }\n",
       "\n",
       "    .dataframe thead th {\n",
       "        text-align: right;\n",
       "    }\n",
       "</style>\n",
       "<table border=\"1\" class=\"dataframe\">\n",
       "  <thead>\n",
       "    <tr style=\"text-align: right;\">\n",
       "      <th></th>\n",
       "      <th>cyl</th>\n",
       "      <th>gear</th>\n",
       "    </tr>\n",
       "  </thead>\n",
       "  <tbody>\n",
       "    <tr>\n",
       "      <th>0</th>\n",
       "      <td>6</td>\n",
       "      <td>4</td>\n",
       "    </tr>\n",
       "    <tr>\n",
       "      <th>1</th>\n",
       "      <td>6</td>\n",
       "      <td>4</td>\n",
       "    </tr>\n",
       "    <tr>\n",
       "      <th>2</th>\n",
       "      <td>4</td>\n",
       "      <td>4</td>\n",
       "    </tr>\n",
       "    <tr>\n",
       "      <th>3</th>\n",
       "      <td>6</td>\n",
       "      <td>3</td>\n",
       "    </tr>\n",
       "    <tr>\n",
       "      <th>4</th>\n",
       "      <td>8</td>\n",
       "      <td>3</td>\n",
       "    </tr>\n",
       "    <tr>\n",
       "      <th>5</th>\n",
       "      <td>6</td>\n",
       "      <td>3</td>\n",
       "    </tr>\n",
       "    <tr>\n",
       "      <th>6</th>\n",
       "      <td>8</td>\n",
       "      <td>3</td>\n",
       "    </tr>\n",
       "  </tbody>\n",
       "</table>\n",
       "</div>"
      ],
      "text/plain": [
       "   cyl  gear\n",
       "0    6     4\n",
       "1    6     4\n",
       "2    4     4\n",
       "3    6     3\n",
       "4    8     3\n",
       "5    6     3\n",
       "6    8     3"
      ]
     },
     "execution_count": 75,
     "metadata": {},
     "output_type": "execute_result"
    }
   ],
   "source": [
    "#Pick out just cyl and gear columns\n",
    "df_cyl_gear = df_mtcars_small.loc[:,[\"cyl\", \"gear\"]]\n",
    "\n",
    "df_cyl_gear"
   ]
  },
  {
   "cell_type": "code",
   "execution_count": 83,
   "id": "0c643107-0e42-4519-b213-9537bae1cfd5",
   "metadata": {},
   "outputs": [
    {
     "data": {
      "text/html": [
       "<div>\n",
       "<style scoped>\n",
       "    .dataframe tbody tr th:only-of-type {\n",
       "        vertical-align: middle;\n",
       "    }\n",
       "\n",
       "    .dataframe tbody tr th {\n",
       "        vertical-align: top;\n",
       "    }\n",
       "\n",
       "    .dataframe thead th {\n",
       "        text-align: right;\n",
       "    }\n",
       "</style>\n",
       "<table border=\"1\" class=\"dataframe\">\n",
       "  <thead>\n",
       "    <tr style=\"text-align: right;\">\n",
       "      <th></th>\n",
       "      <th>car_name</th>\n",
       "      <th>mpg</th>\n",
       "      <th>cyl</th>\n",
       "      <th>disp</th>\n",
       "      <th>hp</th>\n",
       "      <th>drat</th>\n",
       "      <th>wt</th>\n",
       "      <th>qsec</th>\n",
       "      <th>vs</th>\n",
       "      <th>am</th>\n",
       "      <th>gear</th>\n",
       "      <th>carb</th>\n",
       "      <th>num_in_name</th>\n",
       "      <th>env_friendly</th>\n",
       "    </tr>\n",
       "  </thead>\n",
       "  <tbody>\n",
       "    <tr>\n",
       "      <th>0</th>\n",
       "      <td>Mazda RX4</td>\n",
       "      <td>21.0</td>\n",
       "      <td>6</td>\n",
       "      <td>160.0</td>\n",
       "      <td>110</td>\n",
       "      <td>3.90</td>\n",
       "      <td>2.620</td>\n",
       "      <td>16.46</td>\n",
       "      <td>0</td>\n",
       "      <td>1</td>\n",
       "      <td>4</td>\n",
       "      <td>4</td>\n",
       "      <td>0</td>\n",
       "      <td>1</td>\n",
       "    </tr>\n",
       "    <tr>\n",
       "      <th>2</th>\n",
       "      <td>Datsun 710</td>\n",
       "      <td>22.8</td>\n",
       "      <td>4</td>\n",
       "      <td>108.0</td>\n",
       "      <td>93</td>\n",
       "      <td>3.85</td>\n",
       "      <td>2.320</td>\n",
       "      <td>18.61</td>\n",
       "      <td>1</td>\n",
       "      <td>1</td>\n",
       "      <td>4</td>\n",
       "      <td>1</td>\n",
       "      <td>0</td>\n",
       "      <td>1</td>\n",
       "    </tr>\n",
       "    <tr>\n",
       "      <th>3</th>\n",
       "      <td>Hornet 4 Drive</td>\n",
       "      <td>21.4</td>\n",
       "      <td>6</td>\n",
       "      <td>258.0</td>\n",
       "      <td>110</td>\n",
       "      <td>3.08</td>\n",
       "      <td>3.215</td>\n",
       "      <td>19.44</td>\n",
       "      <td>1</td>\n",
       "      <td>0</td>\n",
       "      <td>3</td>\n",
       "      <td>1</td>\n",
       "      <td>0</td>\n",
       "      <td>1</td>\n",
       "    </tr>\n",
       "    <tr>\n",
       "      <th>4</th>\n",
       "      <td>Hornet Sportabout</td>\n",
       "      <td>18.7</td>\n",
       "      <td>8</td>\n",
       "      <td>360.0</td>\n",
       "      <td>175</td>\n",
       "      <td>3.15</td>\n",
       "      <td>3.440</td>\n",
       "      <td>17.02</td>\n",
       "      <td>0</td>\n",
       "      <td>0</td>\n",
       "      <td>3</td>\n",
       "      <td>2</td>\n",
       "      <td>1</td>\n",
       "      <td>1</td>\n",
       "    </tr>\n",
       "  </tbody>\n",
       "</table>\n",
       "</div>"
      ],
      "text/plain": [
       "            car_name   mpg  cyl   disp   hp  drat     wt   qsec  vs  am  gear  \\\n",
       "0          Mazda RX4  21.0    6  160.0  110  3.90  2.620  16.46   0   1     4   \n",
       "2         Datsun 710  22.8    4  108.0   93  3.85  2.320  18.61   1   1     4   \n",
       "3     Hornet 4 Drive  21.4    6  258.0  110  3.08  3.215  19.44   1   0     3   \n",
       "4  Hornet Sportabout  18.7    8  360.0  175  3.15  3.440  17.02   0   0     3   \n",
       "\n",
       "   carb  num_in_name  env_friendly  \n",
       "0     4            0             1  \n",
       "2     1            0             1  \n",
       "3     1            0             1  \n",
       "4     2            1             1  "
      ]
     },
     "execution_count": 83,
     "metadata": {},
     "output_type": "execute_result"
    }
   ],
   "source": [
    "#Using drop_duplicates() method\n",
    "df_mtcars_small.drop_duplicates(keep = 'first', subset=[\"cyl\", \"gear\"],\\\n",
    "                                inplace = False)"
   ]
  },
  {
   "cell_type": "code",
   "execution_count": 78,
   "id": "e16cdf9e-0953-435f-b307-138db3db674a",
   "metadata": {
    "scrolled": true
   },
   "outputs": [
    {
     "data": {
      "text/html": [
       "<div>\n",
       "<style scoped>\n",
       "    .dataframe tbody tr th:only-of-type {\n",
       "        vertical-align: middle;\n",
       "    }\n",
       "\n",
       "    .dataframe tbody tr th {\n",
       "        vertical-align: top;\n",
       "    }\n",
       "\n",
       "    .dataframe thead th {\n",
       "        text-align: right;\n",
       "    }\n",
       "</style>\n",
       "<table border=\"1\" class=\"dataframe\">\n",
       "  <thead>\n",
       "    <tr style=\"text-align: right;\">\n",
       "      <th></th>\n",
       "      <th>cyl</th>\n",
       "      <th>gear</th>\n",
       "    </tr>\n",
       "  </thead>\n",
       "  <tbody>\n",
       "    <tr>\n",
       "      <th>0</th>\n",
       "      <td>6</td>\n",
       "      <td>4</td>\n",
       "    </tr>\n",
       "    <tr>\n",
       "      <th>2</th>\n",
       "      <td>4</td>\n",
       "      <td>4</td>\n",
       "    </tr>\n",
       "    <tr>\n",
       "      <th>3</th>\n",
       "      <td>6</td>\n",
       "      <td>3</td>\n",
       "    </tr>\n",
       "    <tr>\n",
       "      <th>4</th>\n",
       "      <td>8</td>\n",
       "      <td>3</td>\n",
       "    </tr>\n",
       "  </tbody>\n",
       "</table>\n",
       "</div>"
      ],
      "text/plain": [
       "   cyl  gear\n",
       "0    6     4\n",
       "2    4     4\n",
       "3    6     3\n",
       "4    8     3"
      ]
     },
     "execution_count": 78,
     "metadata": {},
     "output_type": "execute_result"
    }
   ],
   "source": [
    "#Using drop_duplicates() method\n",
    "df_mtcars_small.drop_duplicates(keep = \"first\", subset=[\"cyl\", \"gear\"],\\\n",
    "                                inplace = False)[[\"cyl\", \"gear\"]]"
   ]
  },
  {
   "cell_type": "markdown",
   "id": "0d1c1d1d-619f-4320-a080-21b61e5ceb21",
   "metadata": {},
   "source": [
    "### Merge\n",
    "#### Merge lets us combine multiple data frames. The general syntax is as follows to merge pandas dataframes df_1 and df_2:\n",
    "\n",
    "* df_1.merge(df_2, how = [\"inner\", \"outer\", \"left\"] , left_on = left_column_name, right_on = right_column_name)"
   ]
  },
  {
   "cell_type": "code",
   "execution_count": 85,
   "id": "5b2affd9-9efe-4f3b-abe1-bcecff4777ff",
   "metadata": {},
   "outputs": [
    {
     "data": {
      "text/html": [
       "<div>\n",
       "<style scoped>\n",
       "    .dataframe tbody tr th:only-of-type {\n",
       "        vertical-align: middle;\n",
       "    }\n",
       "\n",
       "    .dataframe tbody tr th {\n",
       "        vertical-align: top;\n",
       "    }\n",
       "\n",
       "    .dataframe thead th {\n",
       "        text-align: right;\n",
       "    }\n",
       "</style>\n",
       "<table border=\"1\" class=\"dataframe\">\n",
       "  <thead>\n",
       "    <tr style=\"text-align: right;\">\n",
       "      <th></th>\n",
       "      <th>doctor_id</th>\n",
       "      <th>doc_name</th>\n",
       "      <th>degree</th>\n",
       "    </tr>\n",
       "  </thead>\n",
       "  <tbody>\n",
       "    <tr>\n",
       "      <th>0</th>\n",
       "      <td>210</td>\n",
       "      <td>Jon</td>\n",
       "      <td>MD</td>\n",
       "    </tr>\n",
       "    <tr>\n",
       "      <th>1</th>\n",
       "      <td>211</td>\n",
       "      <td>Peter</td>\n",
       "      <td>MBBS</td>\n",
       "    </tr>\n",
       "    <tr>\n",
       "      <th>2</th>\n",
       "      <td>212</td>\n",
       "      <td>Ke</td>\n",
       "      <td>MD</td>\n",
       "    </tr>\n",
       "    <tr>\n",
       "      <th>3</th>\n",
       "      <td>213</td>\n",
       "      <td>Pat</td>\n",
       "      <td>MD</td>\n",
       "    </tr>\n",
       "  </tbody>\n",
       "</table>\n",
       "</div>"
      ],
      "text/plain": [
       "   doctor_id doc_name degree\n",
       "0        210      Jon     MD\n",
       "1        211    Peter   MBBS\n",
       "2        212       Ke     MD\n",
       "3        213      Pat     MD"
      ]
     },
     "metadata": {},
     "output_type": "display_data"
    },
    {
     "data": {
      "text/html": [
       "<div>\n",
       "<style scoped>\n",
       "    .dataframe tbody tr th:only-of-type {\n",
       "        vertical-align: middle;\n",
       "    }\n",
       "\n",
       "    .dataframe tbody tr th {\n",
       "        vertical-align: top;\n",
       "    }\n",
       "\n",
       "    .dataframe thead th {\n",
       "        text-align: right;\n",
       "    }\n",
       "</style>\n",
       "<table border=\"1\" class=\"dataframe\">\n",
       "  <thead>\n",
       "    <tr style=\"text-align: right;\">\n",
       "      <th></th>\n",
       "      <th>doctor_id</th>\n",
       "      <th>patient_name</th>\n",
       "      <th>year</th>\n",
       "    </tr>\n",
       "  </thead>\n",
       "  <tbody>\n",
       "    <tr>\n",
       "      <th>0</th>\n",
       "      <td>210</td>\n",
       "      <td>Julia</td>\n",
       "      <td>2015</td>\n",
       "    </tr>\n",
       "    <tr>\n",
       "      <th>1</th>\n",
       "      <td>214</td>\n",
       "      <td>TJ</td>\n",
       "      <td>2014</td>\n",
       "    </tr>\n",
       "    <tr>\n",
       "      <th>2</th>\n",
       "      <td>215</td>\n",
       "      <td>John</td>\n",
       "      <td>2015</td>\n",
       "    </tr>\n",
       "    <tr>\n",
       "      <th>3</th>\n",
       "      <td>212</td>\n",
       "      <td>James</td>\n",
       "      <td>2016</td>\n",
       "    </tr>\n",
       "    <tr>\n",
       "      <th>4</th>\n",
       "      <td>212</td>\n",
       "      <td>Jason</td>\n",
       "      <td>2012</td>\n",
       "    </tr>\n",
       "  </tbody>\n",
       "</table>\n",
       "</div>"
      ],
      "text/plain": [
       "   doctor_id patient_name  year\n",
       "0        210        Julia  2015\n",
       "1        214           TJ  2014\n",
       "2        215         John  2015\n",
       "3        212        James  2016\n",
       "4        212        Jason  2012"
      ]
     },
     "metadata": {},
     "output_type": "display_data"
    }
   ],
   "source": [
    "import pandas as pd\n",
    "\n",
    "#Create doctor df\n",
    "\n",
    "doctors = pd.DataFrame({\"doctor_id\":[210,211,212,213],\"doc_name\":[\"Jon\", \"Peter\", \"Ke\", \"Pat\"],\\\n",
    "                       \"degree\":[\"MD\",\"MBBS\", \"MD\", \"MD\"]})\n",
    "\n",
    "#Create visits\n",
    "visits = pd.DataFrame({\"doctor_id\":[210,214,215,212,212], \"patient_name\": [\"Julia\", \"TJ\", \"John\", \"James\", \"Jason\"],\\\n",
    "                      \"year\":[2015,2014, 2015, 2016, 2012]})\n",
    "\n",
    "display(doctors)\n",
    "display(visits)"
   ]
  },
  {
   "cell_type": "code",
   "execution_count": 86,
   "id": "13310238-b86e-4fc9-96be-9453b7180b9a",
   "metadata": {},
   "outputs": [
    {
     "data": {
      "text/html": [
       "<div>\n",
       "<style scoped>\n",
       "    .dataframe tbody tr th:only-of-type {\n",
       "        vertical-align: middle;\n",
       "    }\n",
       "\n",
       "    .dataframe tbody tr th {\n",
       "        vertical-align: top;\n",
       "    }\n",
       "\n",
       "    .dataframe thead th {\n",
       "        text-align: right;\n",
       "    }\n",
       "</style>\n",
       "<table border=\"1\" class=\"dataframe\">\n",
       "  <thead>\n",
       "    <tr style=\"text-align: right;\">\n",
       "      <th></th>\n",
       "      <th>doctor_id</th>\n",
       "      <th>patient_name</th>\n",
       "      <th>year</th>\n",
       "      <th>doc_name</th>\n",
       "      <th>degree</th>\n",
       "    </tr>\n",
       "  </thead>\n",
       "  <tbody>\n",
       "    <tr>\n",
       "      <th>0</th>\n",
       "      <td>210</td>\n",
       "      <td>Julia</td>\n",
       "      <td>2015</td>\n",
       "      <td>Jon</td>\n",
       "      <td>MD</td>\n",
       "    </tr>\n",
       "    <tr>\n",
       "      <th>1</th>\n",
       "      <td>212</td>\n",
       "      <td>James</td>\n",
       "      <td>2016</td>\n",
       "      <td>Ke</td>\n",
       "      <td>MD</td>\n",
       "    </tr>\n",
       "    <tr>\n",
       "      <th>2</th>\n",
       "      <td>212</td>\n",
       "      <td>Jason</td>\n",
       "      <td>2012</td>\n",
       "      <td>Ke</td>\n",
       "      <td>MD</td>\n",
       "    </tr>\n",
       "  </tbody>\n",
       "</table>\n",
       "</div>"
      ],
      "text/plain": [
       "   doctor_id patient_name  year doc_name degree\n",
       "0        210        Julia  2015      Jon     MD\n",
       "1        212        James  2016       Ke     MD\n",
       "2        212        Jason  2012       Ke     MD"
      ]
     },
     "execution_count": 86,
     "metadata": {},
     "output_type": "execute_result"
    }
   ],
   "source": [
    "#Basic inner merge\n",
    "visits.merge(doctors, how  = \"inner\", on  = \"doctor_id\" )"
   ]
  },
  {
   "cell_type": "code",
   "execution_count": 87,
   "id": "e2876f98-86b4-4882-b34a-1c6399fdcfd0",
   "metadata": {},
   "outputs": [
    {
     "data": {
      "text/html": [
       "<div>\n",
       "<style scoped>\n",
       "    .dataframe tbody tr th:only-of-type {\n",
       "        vertical-align: middle;\n",
       "    }\n",
       "\n",
       "    .dataframe tbody tr th {\n",
       "        vertical-align: top;\n",
       "    }\n",
       "\n",
       "    .dataframe thead th {\n",
       "        text-align: right;\n",
       "    }\n",
       "</style>\n",
       "<table border=\"1\" class=\"dataframe\">\n",
       "  <thead>\n",
       "    <tr style=\"text-align: right;\">\n",
       "      <th></th>\n",
       "      <th>patient_name</th>\n",
       "      <th>year</th>\n",
       "      <th>doc_name</th>\n",
       "    </tr>\n",
       "  </thead>\n",
       "  <tbody>\n",
       "    <tr>\n",
       "      <th>0</th>\n",
       "      <td>Julia</td>\n",
       "      <td>2015</td>\n",
       "      <td>Jon</td>\n",
       "    </tr>\n",
       "    <tr>\n",
       "      <th>1</th>\n",
       "      <td>James</td>\n",
       "      <td>2016</td>\n",
       "      <td>Ke</td>\n",
       "    </tr>\n",
       "    <tr>\n",
       "      <th>2</th>\n",
       "      <td>Jason</td>\n",
       "      <td>2012</td>\n",
       "      <td>Ke</td>\n",
       "    </tr>\n",
       "  </tbody>\n",
       "</table>\n",
       "</div>"
      ],
      "text/plain": [
       "  patient_name  year doc_name\n",
       "0        Julia  2015      Jon\n",
       "1        James  2016       Ke\n",
       "2        Jason  2012       Ke"
      ]
     },
     "execution_count": 87,
     "metadata": {},
     "output_type": "execute_result"
    }
   ],
   "source": [
    "visits.merge(doctors, how  = \"inner\", on  = \"doctor_id\" ).loc[:,[\"patient_name\", \"year\", \"doc_name\"]]\n",
    "# visits.merge(doctors, how = 'outer',left_on = 'id',right_on = 'user_id')"
   ]
  },
  {
   "cell_type": "code",
   "execution_count": null,
   "id": "d3ee6344-d7ce-45a6-9f58-ca5ea47a72d1",
   "metadata": {},
   "outputs": [],
   "source": []
  }
 ],
 "metadata": {
  "kernelspec": {
   "display_name": "Python 3 (ipykernel)",
   "language": "python",
   "name": "python3"
  },
  "language_info": {
   "codemirror_mode": {
    "name": "ipython",
    "version": 3
   },
   "file_extension": ".py",
   "mimetype": "text/x-python",
   "name": "python",
   "nbconvert_exporter": "python",
   "pygments_lexer": "ipython3",
   "version": "3.12.2"
  }
 },
 "nbformat": 4,
 "nbformat_minor": 5
}
